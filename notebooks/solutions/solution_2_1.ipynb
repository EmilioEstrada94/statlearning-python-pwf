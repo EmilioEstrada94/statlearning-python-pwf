{
  "cells": [
    {
      "cell_type": "markdown",
      "metadata": {
        "pycharm": {
          "metadata": false,
          "name": "#%% md\n"
        }
      },
      "source": "# E 2.1: Linear Regression\n\nIn this exercise we will explore linear regression.  We will implement \na linear regression fitter, evaluate its performance on the ZIP code \ndata set and compare it to the implementation in the `scikit-learn` \nlibrary.\n"
    },
    {
      "cell_type": "markdown",
      "metadata": {
        "pycharm": {
          "metadata": false
        }
      },
      "source": [
        "## A. Implementation\n",
        "\n",
        "Implement a linear regression estimator using the results derived in\n",
        "the lecture.  You will need to implement two functions, a fit function \n",
        "that determines the parameter vector $\\hat{\\beta}$ from a training\n",
        "dataset and an prediction function that computes $\\hat{Y}$ \n",
        "from a test dataset. \n",
        "\n",
        "The fit function should implement\n",
        "\n",
        "\\begin{align}\n",
        "\\hat{\\beta} \u003d (X^T X)^{-1} X^T Y\n",
        "\\end{align}\n",
        "\n",
        "where $X$ is the training dataset and $Y$ are the training labels. Remember our \n",
        "convention to include the bias in $X$ by adding the constant $1$ to the \n",
        "$p$-vectors $x_i$ from the training data. That is, the dimensions of $X$\n",
        "are $(N, p+1)$.\n",
        "\n",
        "The prediction function should implement\n",
        "\n",
        "\\begin{align}\n",
        "\\hat{Y} \u003d X^T \\hat{\\beta}\n",
        "\\end{align}\n",
        "\n",
        "where $\\hat{Y}$ are the predicted labels and $X$ is the input data from\n",
        "the test data set (again with a constant $1$ bias column added)\n",
        "\n",
        "#### *Hint:* \n",
        "*Use the `numpy` library to perform all matrix operations.*"
      ]
    },
    {
      "cell_type": "code",
      "execution_count": null,
      "metadata": {
        "pycharm": {
          "metadata": false,
          "name": "#%%\n"
        }
      },
      "outputs": [],
      "source": "import numpy as np\n\nclass LREstimator(object):\n    def __init__(self):\n        self.betas \u003d None\n        \n    def fit(self, xs_train, ys_train):\n        X \u003d np.ones((xs_train.shape[0], xs_train.shape[1] + 1))\n        X[:,1:] \u003d xs_train\n        s \u003d np.linalg.inv(X.T.dot(X))\n        self.betas \u003d np.linalg.multi_dot(s, X.T, ys_train)\n        \n        return self\n    \n    def predict(self, xs):\n        if self.betas is None:\n            raise ValueError(\u0027can not predict from unfitted model\u0027)\n        return xs.T.dot(self.betas)\n"
    }
  ],
  "metadata": {
    "kernelspec": {
      "display_name": "Python 3",
      "language": "python",
      "name": "python3"
    },
    "language_info": {
      "codemirror_mode": {
        "name": "ipython",
        "version": 3
      },
      "file_extension": ".py",
      "mimetype": "text/x-python",
      "name": "python",
      "nbconvert_exporter": "python",
      "pygments_lexer": "ipython3",
      "version": "3.7.3"
    },
    "stem_cell": {
      "cell_type": "raw",
      "metadata": {
        "pycharm": {
          "metadata": false
        }
      },
      "source": ""
    }
  },
  "nbformat": 4,
  "nbformat_minor": 1
}