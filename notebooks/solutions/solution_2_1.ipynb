{
 "cells": [
  {
   "cell_type": "markdown",
   "metadata": {
    "pycharm": {
     "metadata": false,
     "name": "#%% md\n"
    }
   },
   "source": [
    "# E 2.1: Linear Regression\n",
    "\n",
    "In this exercise we will explore linear regression.  We will implement \n",
    "a linear regression fitter, evaluate its performance on the ZIP code \n",
    "data set and compare it to the implementation in the `scikit-learn` \n",
    "library.\n"
   ]
  },
  {
   "cell_type": "markdown",
   "metadata": {
    "pycharm": {
     "metadata": false
    }
   },
   "source": [
    "## A. Implementation\n",
    "\n",
    "Implement a linear regression estimator using the results derived in\n",
    "the lecture.  You will need to implement two functions, a fit function \n",
    "that determines the parameter vector $\\hat{\\beta}$ from a training\n",
    "dataset and an prediction function that computes $\\hat{Y}$ \n",
    "from a test dataset. \n",
    "\n",
    "The fit function should implement\n",
    "\n",
    "\\begin{align}\n",
    "\\hat{\\beta} = (X^T X)^{-1} X^T Y\n",
    "\\end{align}\n",
    "\n",
    "where $X$ is the training dataset and $Y$ are the training labels. Remember our \n",
    "convention to include the bias in $X$ by adding the constant $1$ to the \n",
    "$p$-vectors $x_i$ from the training data. That is, the dimensions of $X$\n",
    "are $(N, p+1)$.\n",
    "\n",
    "The prediction function should implement\n",
    "\n",
    "\\begin{align}\n",
    "\\hat{Y} = X^T \\hat{\\beta}\n",
    "\\end{align}\n",
    "\n",
    "where $\\hat{Y}$ are the predicted labels and $X$ is the input data from\n",
    "the test data set (again with a constant $1$ bias column added)\n",
    "\n",
    "#### *Hint:* \n",
    "*Use the `numpy` library to perform all matrix operations.*"
   ]
  },
  {
   "cell_type": "code",
   "execution_count": null,
   "metadata": {
    "pycharm": {
     "metadata": false,
     "name": "#%%\n"
    }
   },
   "outputs": [],
   "source": [
    "import numpy as np\n",
    "\n",
    "class LREstimator(object):\n",
    "    def __init__(self):\n",
    "        self.betas = None\n",
    "        \n",
    "    def fit(self, xs_train, ys_train):\n",
    "        pass\n",
    "    \n",
    "    def predict(self, xs):\n",
    "        pass\n"
   ]
  }
 ],
 "metadata": {
  "kernelspec": {
   "display_name": "Python 3",
   "language": "python",
   "name": "python3"
  },
  "language_info": {
   "codemirror_mode": {
    "name": "ipython",
    "version": 3
   },
   "file_extension": ".py",
   "mimetype": "text/x-python",
   "name": "python",
   "nbconvert_exporter": "python",
   "pygments_lexer": "ipython3",
   "version": "3.7.3"
  },
  "stem_cell": {
   "cell_type": "raw",
   "metadata": {
    "pycharm": {
     "metadata": false
    }
   },
   "source": ""
  }
 },
 "nbformat": 4,
 "nbformat_minor": 1
}
