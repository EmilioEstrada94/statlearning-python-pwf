{
 "cells": [
  {
   "cell_type": "markdown",
   "metadata": {},
   "source": [
    "#### Introduction to Statistical Learning, Excercise 7.2\n",
    "\n",
    "# Exploring Auto Non-Linearity\n",
    "\n",
    "In this excercise we will do the same as Excercise 7.1 but with the dataset `Auto`\n"
   ]
  },
  {
   "cell_type": "code",
   "execution_count": null,
   "metadata": {},
   "outputs": [],
   "source": [
    "import pandas as pd\n",
    "import numpy as np\n",
    "import matplotlib as mpl\n",
    "import matplotlib.pyplot as plt\n",
    "import seaborn as sns\n",
    "\n",
    "import statsmodels.api as sm\n",
    "import statsmodels.formula.api as smf\n",
    "from statsmodels.gam.api import GLMGam, BSplines\n",
    "import statsmodels.formula.api as smf\n",
    "\n",
    "from sklearn.preprocessing import scale \n",
    "from sklearn.preprocessing import PolynomialFeatures\n",
    "\n",
    "from islpwf import datasets\n",
    "from patsy import dmatrix\n",
    "sns.set()\n",
    "\n",
    "%matplotlib inline"
   ]
  },
  {
   "cell_type": "markdown",
   "metadata": {},
   "source": [
    "### A. Explore \n",
    "Fit some of the non-linear models investigated in this chapter to the\n",
    "`Auto` data set. Is there evidence for non-linear relationships in this\n",
    "data set? Create some informative plots to justify your answer.\n"
   ]
  },
  {
   "cell_type": "code",
   "execution_count": null,
   "metadata": {},
   "outputs": [],
   "source": []
  }
 ],
 "metadata": {
  "kernelspec": {
   "display_name": "Python 3",
   "language": "python",
   "name": "python3"
  },
  "language_info": {
   "codemirror_mode": {
    "name": "ipython",
    "version": 3
   },
   "file_extension": ".py",
   "mimetype": "text/x-python",
   "name": "python",
   "nbconvert_exporter": "python",
   "pygments_lexer": "ipython3",
   "version": "3.7.4"
  }
 },
 "nbformat": 4,
 "nbformat_minor": 2
}
