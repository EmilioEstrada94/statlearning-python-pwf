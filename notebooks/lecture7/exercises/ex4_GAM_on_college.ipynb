{
 "cells": [
  {
   "cell_type": "markdown",
   "metadata": {},
   "source": [
    "#### Introduction to Statistical Learning, Excercise 7.4\n",
    "\n",
    "# GAM on College\n",
    "This question relates to the `College` data set."
   ]
  },
  {
   "cell_type": "code",
   "execution_count": null,
   "metadata": {},
   "outputs": [],
   "source": [
    "import pandas as pd\n",
    "import numpy as np\n",
    "import matplotlib as mpl\n",
    "import matplotlib.pyplot as plt\n",
    "import seaborn as sns\n",
    "\n",
    "import statsmodels.api as sm\n",
    "import statsmodels.formula.api as smf\n",
    "from statsmodels.gam.api import GLMGam, BSplines\n",
    "import statsmodels.formula.api as smf\n",
    "\n",
    "from sklearn.preprocessing import scale \n",
    "from sklearn.preprocessing import PolynomialFeatures\n",
    "\n",
    "from islpwf import datasets\n",
    "from patsy import dmatrix\n",
    "sns.set()\n",
    "\n",
    "%matplotlib inline"
   ]
  },
  {
   "cell_type": "markdown",
   "metadata": {},
   "source": [
    "### A. Principal Components\n",
    "Split the data into a training set and a test set. Using out-of-state\n",
    "tuition as the response and the other variables as the predictors,\n",
    "perform forward stepwise selection on the training set in order\n",
    "to identify a satisfactory model that uses just a subset of the\n",
    "predictors."
   ]
  },
  {
   "cell_type": "code",
   "execution_count": null,
   "metadata": {},
   "outputs": [],
   "source": []
  },
  {
   "cell_type": "markdown",
   "metadata": {},
   "source": [
    "### B. The GAM\n",
    "Fit a GAM on the training data, using out-of-state tuition as\n",
    "the response and the features selected in the previous step as\n",
    "the predictors. Plot the results, and explain your findings."
   ]
  },
  {
   "cell_type": "code",
   "execution_count": null,
   "metadata": {},
   "outputs": [],
   "source": []
  },
  {
   "cell_type": "markdown",
   "metadata": {},
   "source": [
    "### C. Cross Validation!\n",
    "Evaluate the model obtained on the test set, and explain the\n",
    "results obtained."
   ]
  },
  {
   "cell_type": "code",
   "execution_count": null,
   "metadata": {},
   "outputs": [],
   "source": []
  },
  {
   "cell_type": "markdown",
   "metadata": {},
   "source": [
    "### D. Non-Linearity, Where?\n",
    "For which variables, if any, is there evidence of a non-linear\n",
    "relationship with the response?"
   ]
  },
  {
   "cell_type": "code",
   "execution_count": null,
   "metadata": {},
   "outputs": [],
   "source": []
  }
 ],
 "metadata": {
  "kernelspec": {
   "display_name": "Python 3",
   "language": "python",
   "name": "python3"
  },
  "language_info": {
   "codemirror_mode": {
    "name": "ipython",
    "version": 3
   },
   "file_extension": ".py",
   "mimetype": "text/x-python",
   "name": "python",
   "nbconvert_exporter": "python",
   "pygments_lexer": "ipython3",
   "version": "3.7.4"
  }
 },
 "nbformat": 4,
 "nbformat_minor": 2
}
