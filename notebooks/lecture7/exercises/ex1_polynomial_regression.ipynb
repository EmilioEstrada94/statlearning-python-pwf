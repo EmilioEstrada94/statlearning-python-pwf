{
 "cells": [
  {
   "cell_type": "markdown",
   "metadata": {},
   "source": [
    "#### Introduction to Statistical Learning, Excercise 7.1\n",
    "\n",
    "# Exploring Wage Non-Linearity\n",
    "In this exercise, you will further analyze the `Wage` data set considered\n",
    "throughout this chapter."
   ]
  },
  {
   "cell_type": "code",
   "execution_count": null,
   "metadata": {},
   "outputs": [],
   "source": [
    "import pandas as pd\n",
    "import numpy as np\n",
    "import matplotlib as mpl\n",
    "import matplotlib.pyplot as plt\n",
    "import seaborn as sns\n",
    "\n",
    "import statsmodels.api as sm\n",
    "import statsmodels.formula.api as smf\n",
    "from statsmodels.gam.api import GLMGam, BSplines\n",
    "import statsmodels.formula.api as smf\n",
    "\n",
    "from sklearn.preprocessing import scale \n",
    "from sklearn.preprocessing import PolynomialFeatures\n",
    "\n",
    "from islpy import datasets\n",
    "from patsy import dmatrix\n",
    "sns.set()\n",
    "\n",
    "%matplotlib inline"
   ]
  },
  {
   "cell_type": "markdown",
   "metadata": {},
   "source": [
    "## A. Which Degree?\n",
    "\n",
    "Perform polynomial regression to predict `wage` using `age` . Use\n",
    "cross-validation to select the optimal degree $d$ for the polyno-\n",
    "mial. What degree was chosen? Make a plot of\n",
    "the resulting polynomial fit to the data."
   ]
  },
  {
   "cell_type": "code",
   "execution_count": null,
   "metadata": {},
   "outputs": [],
   "source": []
  },
  {
   "cell_type": "markdown",
   "metadata": {},
   "source": [
    "### B. Other Predictors\n",
    "The `Wage` data set contains a number of other features not explored\n",
    "in this chapter, such as marital status ( `maritl` ), job class ( `jobclass` ),\n",
    "and others. Explore the relationships between some of these other\n",
    "predictors and `wage` , and use non-linear fitting techniques in order to\n",
    "fit flexible models to the data. Create plots of the results obtained,\n",
    "and write a summary of your findings."
   ]
  },
  {
   "cell_type": "code",
   "execution_count": null,
   "metadata": {},
   "outputs": [],
   "source": []
  }
 ],
 "metadata": {
  "kernelspec": {
   "display_name": "Python 3",
   "language": "python",
   "name": "python3"
  },
  "language_info": {
   "codemirror_mode": {
    "name": "ipython",
    "version": 3
   },
   "file_extension": ".py",
   "mimetype": "text/x-python",
   "name": "python",
   "nbconvert_exporter": "python",
   "pygments_lexer": "ipython3",
   "version": "3.7.4"
  }
 },
 "nbformat": 4,
 "nbformat_minor": 2
}
