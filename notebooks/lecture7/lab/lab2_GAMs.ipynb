{
 "cells": [
  {
   "cell_type": "markdown",
   "metadata": {},
   "source": [
    "#### Introduction to Statistical Learning Lab 7.2\n",
    "\n",
    "# Generalized Additive Models \n",
    "\n",
    "We now fit a GAM to predict `wage` using natural spline functions of `year`\n",
    "and `age` , treating `education` as a qualitative predictor from the `Wage` dataset. Since\n",
    "this is just a big linear regression model using an appropriate choice of\n",
    "basis functions, we can simply do this using the `ols` function from `sm`."
   ]
  },
  {
   "cell_type": "code",
   "execution_count": null,
   "metadata": {},
   "outputs": [],
   "source": [
    "import numpy as np\n",
    "import pandas as pd\n",
    "import matplotlib.pyplot as plt\n",
    "import seaborn as sns\n",
    "\n",
    "import statsmodels.api as sm\n",
    "from statsmodels.gam.api import GLMGam, BSplines\n",
    "import statsmodels.formula.api as smf\n",
    "from sklearn.preprocessing import scale \n",
    "from islpy import datasets\n",
    "from statsmodels.gam.tests.test_penalized import df_autos\n",
    "sns.set()\n",
    "%matplotlib inline"
   ]
  },
  {
   "cell_type": "code",
   "execution_count": null,
   "metadata": {},
   "outputs": [],
   "source": [
    "Wage=datasets.Wage()"
   ]
  },
  {
   "cell_type": "code",
   "execution_count": null,
   "metadata": {},
   "outputs": [],
   "source": [
    "Wage.describe()"
   ]
  },
  {
   "cell_type": "markdown",
   "metadata": {},
   "source": [
    "Lets visualize the data before we do something about it"
   ]
  },
  {
   "cell_type": "code",
   "execution_count": null,
   "metadata": {},
   "outputs": [],
   "source": [
    "sns.scatterplot(Wage.age,Wage.wage)\n",
    "plt.show()\n",
    "sns.scatterplot(Wage.year,Wage.wage)\n",
    "plt.show()\n",
    "sns.boxplot(x='education', y='wage',data=Wage,order=['1. < HS Grad', '2. HS Grad', '3. Some College','4. College Grad','5. Advanced Degree'])\n",
    "plt.xticks(rotation=90)\n",
    "plt.show()"
   ]
  },
  {
   "cell_type": "markdown",
   "metadata": {},
   "source": [
    "Lets perform a `ols` for predicting `wage` on `year`, `age` and `education`:"
   ]
  },
  {
   "cell_type": "code",
   "execution_count": null,
   "metadata": {},
   "outputs": [],
   "source": [
    "lm = model = smf.ols(formula='wage~year+age+education', data=Wage).fit()\n",
    "lm.summary()"
   ]
  },
  {
   "cell_type": "markdown",
   "metadata": {},
   "source": [
    "This might not be a good fit acording to R-squared, so we will work on a GAM, we will perform a smothing spline using `bs()` from `GLMGam`, we are going to work 4 d.o.f for `year` and 5 d.o.f. for `age`, education will be fitted as a dummy variable."
   ]
  },
  {
   "cell_type": "code",
   "execution_count": null,
   "metadata": {},
   "outputs": [],
   "source": [
    "x_spline = Wage[['year','age']]\n",
    "bs = BSplines(x_spline, df=[4, 6], degree=[3,5],include_intercept=False)"
   ]
  },
  {
   "cell_type": "markdown",
   "metadata": {},
   "source": [
    "`bs` defines de conditions under which the Splines will be made. Now lets fit our data for `wage`:"
   ]
  },
  {
   "cell_type": "code",
   "execution_count": null,
   "metadata": {},
   "outputs": [],
   "source": [
    "gam_bs = GLMGam.from_formula('wage ~ year +age+education', data=Wage, smoother=bs)"
   ]
  },
  {
   "cell_type": "code",
   "execution_count": null,
   "metadata": {},
   "outputs": [],
   "source": [
    "res_bs = gam_bs.fit()\n",
    "res_bs.summary()"
   ]
  },
  {
   "cell_type": "markdown",
   "metadata": {},
   "source": [
    "Finally lets visualize the fits:"
   ]
  },
  {
   "cell_type": "code",
   "execution_count": null,
   "metadata": {},
   "outputs": [],
   "source": [
    "res_bs.plot_partial(1, cpr=True,plot_se=False)\n",
    "plt.show()\n",
    "res_bs.plot_partial(0, cpr=True,plot_se=False)\n",
    "plt.show()\n"
   ]
  },
  {
   "cell_type": "code",
   "execution_count": null,
   "metadata": {},
   "outputs": [],
   "source": []
  }
 ],
 "metadata": {
  "kernelspec": {
   "display_name": "Python 3",
   "language": "python",
   "name": "python3"
  },
  "language_info": {
   "codemirror_mode": {
    "name": "ipython",
    "version": 3
   },
   "file_extension": ".py",
   "mimetype": "text/x-python",
   "name": "python",
   "nbconvert_exporter": "python",
   "pygments_lexer": "ipython3",
   "version": "3.7.4"
  }
 },
 "nbformat": 4,
 "nbformat_minor": 2
}
