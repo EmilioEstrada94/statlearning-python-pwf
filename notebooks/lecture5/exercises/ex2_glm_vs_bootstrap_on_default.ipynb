{
 "cells": [
  {
   "cell_type": "markdown",
   "metadata": {
    "deletable": false,
    "editable": false,
    "run_control": {
     "frozen": true
    }
   },
   "source": [
    "#### Introduction to Statistical Learning, Exercise 5.2\n",
    "\n",
    "__Please do yourself a favour and only look at the solutions after you honestly tried to solve the exercises.__\n",
    "\n",
    "# Bootstrap versus GLM Standard Error Report\n",
    "\n",
    "We again look at the `Default` data set. We would like to predict the probability of `default` based on the predictors `income` and `balance`. The `GLM` model fit standard errors are compared to the results of a bootstrap."
   ]
  },
  {
   "cell_type": "code",
   "execution_count": null,
   "metadata": {},
   "outputs": [],
   "source": [
    "import numpy as np\n",
    "import pandas as pd\n",
    "import matplotlib.pyplot as plt\n",
    "import seaborn as sns\n",
    "import statsmodels.formula.api as smf\n",
    "import statsmodels.api as sm\n",
    "import patsy\n",
    "from sklearn.discriminant_analysis import LinearDiscriminantAnalysis\n",
    "from sklearn.discriminant_analysis import QuadraticDiscriminantAnalysis\n",
    "from sklearn.neighbors import KNeighborsClassifier\n",
    "from sklearn.preprocessing import StandardScaler\n",
    "from sklearn.metrics import confusion_matrix, classification_report\n",
    "from sklearn.utils import resample\n",
    "from islpy import datasets, utils, lmplots\n",
    "sns.set()\n",
    "%matplotlib inline"
   ]
  },
  {
   "cell_type": "markdown",
   "metadata": {
    "deletable": false,
    "editable": false,
    "run_control": {
     "frozen": true
    },
    "solution2": "hidden",
    "solution2_first": true
   },
   "source": [
    "### A.  Standard Errors from Logistic Regression Fit\n",
    "\n",
    "Fit a logistic regression model that predicts the probability of `default` based on the predictors `income` and `balance`. Report the standard errors by the `GLM` model fits of the parameters."
   ]
  },
  {
   "cell_type": "code",
   "execution_count": null,
   "metadata": {
    "deletable": false,
    "editable": false,
    "run_control": {
     "frozen": true
    },
    "solution2": "hidden"
   },
   "outputs": [],
   "source": [
    "default = datasets.Default()\n",
    "default.head()"
   ]
  },
  {
   "cell_type": "code",
   "execution_count": null,
   "metadata": {
    "deletable": false,
    "editable": false,
    "run_control": {
     "frozen": true
    },
    "solution2": "hidden"
   },
   "outputs": [],
   "source": [
    "Y_train, X_train = patsy.dmatrices('default~income+balance', default, return_type='dataframe')\n",
    "Y_train.drop('default[No]', axis=1, inplace=True)"
   ]
  },
  {
   "cell_type": "code",
   "execution_count": null,
   "metadata": {
    "deletable": false,
    "editable": false,
    "run_control": {
     "frozen": true
    },
    "solution2": "hidden"
   },
   "outputs": [],
   "source": [
    "fit = sm.GLM(Y_train, X_train, family=sm.families.Binomial()).fit()\n",
    "fit.summary().tables[1]"
   ]
  },
  {
   "cell_type": "code",
   "execution_count": null,
   "metadata": {},
   "outputs": [],
   "source": []
  },
  {
   "cell_type": "markdown",
   "metadata": {
    "solution2": "hidden",
    "solution2_first": true
   },
   "source": [
    "### B. Bootstrap\n",
    "\n",
    "Write a `bootstrap()` function like demonstrated in the lab to estimate the standard errors of the model parameters,\n",
    "\n",
    "This is a rather technical exercise. the concepts are the same as in the lab, but you won't be able to just copy the function. You'll have to adapt to the `GLM` interface in one way or another. This is very common in everyday work."
   ]
  },
  {
   "cell_type": "code",
   "execution_count": null,
   "metadata": {
    "deletable": false,
    "editable": false,
    "run_control": {
     "frozen": true
    },
    "solution2": "hidden"
   },
   "outputs": [],
   "source": [
    "def bootstrap(y, x, model, r):\n",
    "    n_coeff = x.shape[1]\n",
    "    params = np.zeros((r, n_coeff))\n",
    "    for i in range(r):\n",
    "        xs, ys = resample(x, y, n_samples=x.shape[0])\n",
    "        fit = sm.GLM(ys, xs, family=sm.families.Binomial()).fit()\n",
    "        params[i, 0] = fit.params[0]\n",
    "        params[i, 1:] = fit.params[1:]\n",
    "    \n",
    "    betas = np.zeros(n_coeff)\n",
    "    errors = np.zeros(n_coeff)\n",
    "    for i in range(n_coeff):\n",
    "        betas[i] = np.mean(params[:, i])\n",
    "        errors[i] = np.sqrt((r * np.var(params[:, i])) / (r - 1))\n",
    "    \n",
    "    return betas, errors"
   ]
  },
  {
   "cell_type": "code",
   "execution_count": null,
   "metadata": {
    "deletable": false,
    "editable": false,
    "run_control": {
     "frozen": true
    },
    "solution2": "hidden"
   },
   "outputs": [],
   "source": [
    "betas, errors = bootstrap(Y_train, X_train, fit.model, 1000)"
   ]
  },
  {
   "cell_type": "code",
   "execution_count": null,
   "metadata": {
    "deletable": false,
    "editable": false,
    "run_control": {
     "frozen": true
    },
    "solution2": "hidden"
   },
   "outputs": [],
   "source": [
    "betas, errors"
   ]
  },
  {
   "cell_type": "code",
   "execution_count": null,
   "metadata": {},
   "outputs": [],
   "source": []
  },
  {
   "cell_type": "markdown",
   "metadata": {
    "deletable": false,
    "editable": false,
    "run_control": {
     "frozen": true
    },
    "solution2": "hidden",
    "solution2_first": true
   },
   "source": [
    "### C. Comment on the Results\n",
    "\n",
    "Comment on the parameter estimates from and standard error estimates from __A__ and __B__. Does the bootstrap work on this model and data set? How many ($B$ from the lectures) samples do you need to obtain good results from the bootstrap?"
   ]
  },
  {
   "cell_type": "markdown",
   "metadata": {
    "deletable": false,
    "editable": false,
    "run_control": {
     "frozen": true
    },
    "solution2": "hidden"
   },
   "source": [
    "With $B=1000$ the bootstrap performs very well on this data set."
   ]
  },
  {
   "cell_type": "code",
   "execution_count": null,
   "metadata": {},
   "outputs": [],
   "source": []
  }
 ],
 "metadata": {
  "kernelspec": {
   "display_name": "Python 3",
   "language": "python",
   "name": "python3"
  },
  "language_info": {
   "codemirror_mode": {
    "name": "ipython",
    "version": 3
   },
   "file_extension": ".py",
   "mimetype": "text/x-python",
   "name": "python",
   "nbconvert_exporter": "python",
   "pygments_lexer": "ipython3",
   "version": "3.7.4"
  }
 },
 "nbformat": 4,
 "nbformat_minor": 2
}
