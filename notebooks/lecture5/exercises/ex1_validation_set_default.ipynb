{
 "cells": [
  {
   "cell_type": "markdown",
   "metadata": {
    "deletable": false,
    "editable": false,
    "run_control": {
     "frozen": true
    }
   },
   "source": [
    "#### Introduction to Statistical Learning, Exercise 5.1\n",
    "\n",
    "__Please do yourself a favour and only look at the solutions after you honestly tried to solve the exercises.__\n",
    "\n",
    "# Validation Set Approach on Default Data Set\n",
    "\n",
    "We'll look at the validation set approach using the `Default` data set. We would like to predict the probability of `default` based on the predictors `income` and `balance`. "
   ]
  },
  {
   "cell_type": "code",
   "execution_count": null,
   "metadata": {},
   "outputs": [],
   "source": [
    "import numpy as np\n",
    "import pandas as pd\n",
    "import matplotlib.pyplot as plt\n",
    "import seaborn as sns\n",
    "import statsmodels.formula.api as smf\n",
    "import statsmodels.api as sm\n",
    "import patsy\n",
    "from sklearn.discriminant_analysis import LinearDiscriminantAnalysis\n",
    "from sklearn.discriminant_analysis import QuadraticDiscriminantAnalysis\n",
    "from sklearn.neighbors import KNeighborsClassifier\n",
    "from sklearn.preprocessing import StandardScaler\n",
    "from sklearn.metrics import confusion_matrix, classification_report\n",
    "from islpy import datasets, utils, lmplots\n",
    "sns.set()\n",
    "%matplotlib inline"
   ]
  },
  {
   "cell_type": "markdown",
   "metadata": {
    "deletable": false,
    "editable": false,
    "run_control": {
     "frozen": true
    },
    "solution2": "hidden",
    "solution2_first": true
   },
   "source": [
    "### A.  Logistic Regression Fit\n",
    "\n",
    "Fit a logistic regression model that predicts the probability of `default` based on the predictors `income` and `balance`."
   ]
  },
  {
   "cell_type": "code",
   "execution_count": null,
   "metadata": {
    "deletable": false,
    "editable": false,
    "run_control": {
     "frozen": true
    },
    "solution2": "hidden"
   },
   "outputs": [],
   "source": [
    "default = datasets.Default()\n",
    "default.head()"
   ]
  },
  {
   "cell_type": "code",
   "execution_count": null,
   "metadata": {
    "deletable": false,
    "editable": false,
    "run_control": {
     "frozen": true
    },
    "solution2": "hidden"
   },
   "outputs": [],
   "source": [
    "lf = smf.glm('default~income+balance', default, family=sm.families.Binomial()).fit()\n",
    "lf.summary()"
   ]
  },
  {
   "cell_type": "code",
   "execution_count": null,
   "metadata": {},
   "outputs": [],
   "source": []
  },
  {
   "cell_type": "markdown",
   "metadata": {
    "deletable": false,
    "editable": false,
    "run_control": {
     "frozen": true
    },
    "solution2": "hidden",
    "solution2_first": true
   },
   "source": [
    "### B. Validation Set\n",
    "\n",
    "Use the validation set approach to estimate the test error of the model. This involves the following steps.\n",
    "\n",
    "  - Split the sample set into a training set and a validation set.\n",
    "  \n",
    "  - Fit the logistic regression model using only the data in the training sample.\n",
    "  \n",
    "  - Use the fitted model to predict the probability of `default` of each individual in the test data set. \n",
    "  \n",
    "  - Choose the working point of $p > 0.5$ to\n",
    "  classify whether an individual defaults or not.\n",
    "  \n",
    "  - Compute the validation set error rate. That is, the fraction of individuals in the validation set that were wrongly classified.\n",
    "  "
   ]
  },
  {
   "cell_type": "code",
   "execution_count": null,
   "metadata": {
    "deletable": false,
    "editable": false,
    "run_control": {
     "frozen": true
    },
    "solution2": "hidden"
   },
   "outputs": [],
   "source": [
    "train = default.sample(frac=0.5)\n",
    "test = default.drop(train.index)"
   ]
  },
  {
   "cell_type": "markdown",
   "metadata": {
    "deletable": false,
    "editable": false,
    "run_control": {
     "frozen": true
    },
    "solution2": "hidden"
   },
   "source": [
    "We first create our own design matrix and encoding to be sure there is no confusion about the interpretation."
   ]
  },
  {
   "cell_type": "code",
   "execution_count": null,
   "metadata": {
    "deletable": false,
    "editable": false,
    "run_control": {
     "frozen": true
    },
    "solution2": "hidden"
   },
   "outputs": [],
   "source": [
    "Y_train, X_train = patsy.dmatrices('default~income+balance', train, return_type='dataframe')\n",
    "Y_train.drop('default[No]', axis=1, inplace=True)\n",
    "Y_test, X_test = patsy.dmatrices('default~income+balance', test, return_type='dataframe')\n",
    "Y_test.drop('default[No]', axis=1, inplace=True)"
   ]
  },
  {
   "cell_type": "code",
   "execution_count": null,
   "metadata": {
    "deletable": false,
    "editable": false,
    "run_control": {
     "frozen": true
    },
    "solution2": "hidden"
   },
   "outputs": [],
   "source": [
    "lf = sm.GLM(Y_train, X_train, family=sm.families.Binomial()).fit()\n",
    "lf.summary()"
   ]
  },
  {
   "cell_type": "code",
   "execution_count": null,
   "metadata": {
    "deletable": false,
    "editable": false,
    "run_control": {
     "frozen": true
    },
    "solution2": "hidden"
   },
   "outputs": [],
   "source": [
    "pred = lf.predict(X_test)\n",
    "defaulters = (pred > 0.5)"
   ]
  },
  {
   "cell_type": "code",
   "execution_count": null,
   "metadata": {
    "deletable": false,
    "editable": false,
    "run_control": {
     "frozen": true
    },
    "solution2": "hidden"
   },
   "outputs": [],
   "source": [
    "cm = confusion_matrix(defaulters, Y_test)\n",
    "cm"
   ]
  },
  {
   "cell_type": "code",
   "execution_count": null,
   "metadata": {
    "deletable": false,
    "editable": false,
    "run_control": {
     "frozen": true
    },
    "solution2": "hidden"
   },
   "outputs": [],
   "source": [
    "(cm[0, 1] + cm[1, 0]) / lf.nobs"
   ]
  },
  {
   "cell_type": "code",
   "execution_count": null,
   "metadata": {},
   "outputs": [],
   "source": []
  },
  {
   "cell_type": "markdown",
   "metadata": {
    "deletable": false,
    "editable": false,
    "run_control": {
     "frozen": true
    },
    "solution2": "hidden",
    "solution2_first": true
   },
   "source": [
    "### C. Different Validation Sets\n",
    "\n",
    "Repeat __B__ three times with different validation samples and comment on the results. This is *not* the time to fix a random seed, you want different samples after all.\n",
    "\n",
    "You can of course automate this and do it more than three times, if you so wish."
   ]
  },
  {
   "cell_type": "markdown",
   "metadata": {
    "deletable": false,
    "editable": false,
    "run_control": {
     "frozen": true
    },
    "solution2": "hidden"
   },
   "source": [
    "All ingredients are the same as in __B__, so we don't provide Python code for the solution.\n",
    "\n",
    "You should observe some variation in the estimated classification error rate. "
   ]
  },
  {
   "cell_type": "code",
   "execution_count": null,
   "metadata": {},
   "outputs": [],
   "source": []
  },
  {
   "cell_type": "markdown",
   "metadata": {
    "deletable": false,
    "editable": false,
    "run_control": {
     "frozen": true
    },
    "solution2": "hidden",
    "solution2_first": true
   },
   "source": [
    "### D. Including a Qualitative Variable\n",
    "\n",
    "Now include the qualitative `student` variable and estimate the test error using the validation set approach like above.\n",
    "\n",
    "Comment on the effect of this variable on the estimated test error."
   ]
  },
  {
   "cell_type": "code",
   "execution_count": null,
   "metadata": {
    "deletable": false,
    "editable": false,
    "run_control": {
     "frozen": true
    },
    "solution2": "hidden"
   },
   "outputs": [],
   "source": [
    "train = default.sample(frac=0.5)\n",
    "test = default.drop(train.index)"
   ]
  },
  {
   "cell_type": "code",
   "execution_count": null,
   "metadata": {
    "deletable": false,
    "editable": false,
    "run_control": {
     "frozen": true
    },
    "solution2": "hidden"
   },
   "outputs": [],
   "source": [
    "formula = 'default~income+balance+student'\n",
    "Y_train, X_train = patsy.dmatrices(formula, train, return_type='dataframe')\n",
    "Y_train.drop('default[No]', axis=1, inplace=True)\n",
    "Y_test, X_test = patsy.dmatrices(formula, test, return_type='dataframe')\n",
    "Y_test.drop('default[No]', axis=1, inplace=True)"
   ]
  },
  {
   "cell_type": "code",
   "execution_count": null,
   "metadata": {
    "deletable": false,
    "editable": false,
    "run_control": {
     "frozen": true
    },
    "solution2": "hidden"
   },
   "outputs": [],
   "source": [
    "X_train.head()"
   ]
  },
  {
   "cell_type": "code",
   "execution_count": null,
   "metadata": {
    "deletable": false,
    "editable": false,
    "run_control": {
     "frozen": true
    },
    "solution2": "hidden"
   },
   "outputs": [],
   "source": [
    "lf = sm.GLM(Y_train, X_train, family=sm.families.Binomial()).fit()\n",
    "lf.summary()"
   ]
  },
  {
   "cell_type": "code",
   "execution_count": null,
   "metadata": {
    "deletable": false,
    "editable": false,
    "run_control": {
     "frozen": true
    },
    "solution2": "hidden"
   },
   "outputs": [],
   "source": [
    "pred = lf.predict(X_test)\n",
    "defaulters = (pred > 0.5)"
   ]
  },
  {
   "cell_type": "code",
   "execution_count": null,
   "metadata": {
    "deletable": false,
    "editable": false,
    "run_control": {
     "frozen": true
    },
    "solution2": "hidden"
   },
   "outputs": [],
   "source": [
    "cm = confusion_matrix(defaulters, Y_test)\n",
    "cm"
   ]
  },
  {
   "cell_type": "code",
   "execution_count": null,
   "metadata": {
    "deletable": false,
    "editable": false,
    "run_control": {
     "frozen": true
    },
    "solution2": "hidden"
   },
   "outputs": [],
   "source": [
    "(cm[0, 1] + cm[1, 0]) / lf.nobs"
   ]
  },
  {
   "cell_type": "markdown",
   "metadata": {
    "deletable": false,
    "editable": false,
    "run_control": {
     "frozen": true
    },
    "solution2": "hidden"
   },
   "source": [
    "The test error rate is slightly higher, although one might expect that including the `student` information should help.\n",
    "\n",
    "But we note that the $p$-value of the `income` predictor has gone through the roof after including `student`. There is probably a correlation worth investigating."
   ]
  },
  {
   "cell_type": "code",
   "execution_count": null,
   "metadata": {},
   "outputs": [],
   "source": []
  }
 ],
 "metadata": {
  "kernelspec": {
   "display_name": "Python 3",
   "language": "python",
   "name": "python3"
  },
  "language_info": {
   "codemirror_mode": {
    "name": "ipython",
    "version": 3
   },
   "file_extension": ".py",
   "mimetype": "text/x-python",
   "name": "python",
   "nbconvert_exporter": "python",
   "pygments_lexer": "ipython3",
   "version": "3.7.4"
  }
 },
 "nbformat": 4,
 "nbformat_minor": 2
}
