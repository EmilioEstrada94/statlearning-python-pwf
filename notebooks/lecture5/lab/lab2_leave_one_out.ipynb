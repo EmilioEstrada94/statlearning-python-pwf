{
 "cells": [
  {
   "cell_type": "markdown",
   "metadata": {},
   "source": [
    "#### Introduction to Statistical Learning, Lab 5.2\n",
    "\n",
    "# Leave-One-Out Cross Validation\n",
    "\n",
    "We will use the leave-one-out cross validation (LOOCV) approach to evaluate the test error rates from various linear models on the `Auto` data set.\n",
    "\n",
    "We will use the linear models and tools from the `sklearn` library in this lab."
   ]
  },
  {
   "cell_type": "code",
   "execution_count": null,
   "metadata": {},
   "outputs": [],
   "source": [
    "import numpy as np\n",
    "import pandas as pd\n",
    "import matplotlib.pyplot as plt\n",
    "import seaborn as sns\n",
    "import sklearn.linear_model as skl_lm\n",
    "from sklearn.metrics import mean_squared_error\n",
    "from sklearn.preprocessing import PolynomialFeatures\n",
    "from islpy import datasets, utils, lmplots\n",
    "sns.set()\n",
    "%matplotlib inline"
   ]
  },
  {
   "cell_type": "markdown",
   "metadata": {},
   "source": [
    "We first load the data set."
   ]
  },
  {
   "cell_type": "code",
   "execution_count": null,
   "metadata": {},
   "outputs": [],
   "source": [
    "auto = datasets.Auto()\n",
    "print(auto.info())\n",
    "x = auto[['horsepower']]\n",
    "y = auto['mpg']"
   ]
  },
  {
   "cell_type": "markdown",
   "metadata": {},
   "source": [
    "The LOOCV can be automated with `sklearn`'s `LeaveOneOut()`."
   ]
  },
  {
   "cell_type": "code",
   "execution_count": null,
   "metadata": {},
   "outputs": [],
   "source": [
    "from sklearn.model_selection import LeaveOneOut\n",
    "\n",
    "loo = LeaveOneOut()\n",
    "loo.split(x)\n"
   ]
  },
  {
   "cell_type": "code",
   "execution_count": null,
   "metadata": {},
   "outputs": [],
   "source": [
    "from sklearn.model_selection import KFold\n",
    "\n",
    "cv = KFold(n_splits=392, random_state=None, shuffle=False)"
   ]
  },
  {
   "cell_type": "code",
   "execution_count": null,
   "metadata": {},
   "outputs": [],
   "source": [
    "help(KFold)"
   ]
  },
  {
   "cell_type": "markdown",
   "metadata": {},
   "source": [
    "We can now use the `predict()` function on the test data and use `sklearn` to calculate the MSE."
   ]
  },
  {
   "cell_type": "code",
   "execution_count": null,
   "metadata": {},
   "outputs": [],
   "source": [
    "\n",
    "pred = lm.predict(x_test)\n",
    "MSE = mean_squared_error(y_test, pred)\n",
    "    \n",
    "print(MSE)"
   ]
  },
  {
   "cell_type": "markdown",
   "metadata": {},
   "source": [
    "To create quadratic and cubic features we use `PolynomialFeatures()` from `sklearn`'s `preprocessing` library."
   ]
  },
  {
   "cell_type": "code",
   "execution_count": null,
   "metadata": {},
   "outputs": [],
   "source": []
  },
  {
   "cell_type": "markdown",
   "metadata": {},
   "source": [
    "Quadratic:"
   ]
  },
  {
   "cell_type": "code",
   "execution_count": null,
   "metadata": {},
   "outputs": [],
   "source": [
    "poly = PolynomialFeatures(degree=2)\n",
    "x_train2 = poly.fit_transform(x_train)\n",
    "x_test2 = poly.fit_transform(x_test)\n",
    "lm = skl_lm.LinearRegression().fit(x_train2, y_train)\n",
    "\n",
    "print(mean_squared_error(y_test, lm.predict(x_test2)))"
   ]
  },
  {
   "cell_type": "markdown",
   "metadata": {},
   "source": [
    "Cubic:"
   ]
  },
  {
   "cell_type": "code",
   "execution_count": null,
   "metadata": {},
   "outputs": [],
   "source": [
    "poly = PolynomialFeatures(degree=3)\n",
    "x_train3 = poly.fit_transform(x_train)\n",
    "x_test3 = poly.fit_transform(x_test)\n",
    "lm = skl_lm.LinearRegression().fit(x_train3, y_train)\n",
    "\n",
    "print(mean_squared_error(y_test, lm.predict(x_test3)))"
   ]
  },
  {
   "cell_type": "markdown",
   "metadata": {},
   "source": [
    "The exact number depend on the train/test split of the data set. We can show this by splitting again with a different random seed."
   ]
  },
  {
   "cell_type": "code",
   "execution_count": null,
   "metadata": {},
   "outputs": [],
   "source": [
    "train = auto.sample(auto.shape[0] // 2, random_state = 3)\n",
    "test = auto.drop(train.index)\n",
    "\n",
    "x_train = train[['horsepower']]\n",
    "y_train = train['mpg']\n",
    "x_test = test[['horsepower']]\n",
    "y_test = test['mpg']"
   ]
  },
  {
   "cell_type": "markdown",
   "metadata": {},
   "source": [
    "Linear:"
   ]
  },
  {
   "cell_type": "code",
   "execution_count": null,
   "metadata": {},
   "outputs": [],
   "source": [
    "lm = skl_lm.LinearRegression().fit(x_train, y_train)\n",
    "\n",
    "print(mean_squared_error(y_test, lm.predict(x_test)))"
   ]
  },
  {
   "cell_type": "markdown",
   "metadata": {},
   "source": [
    "Quadratic:"
   ]
  },
  {
   "cell_type": "code",
   "execution_count": null,
   "metadata": {},
   "outputs": [],
   "source": [
    "poly = PolynomialFeatures(degree=2)\n",
    "x_train2 = poly.fit_transform(x_train)\n",
    "x_test2 = poly.fit_transform(x_test)\n",
    "lm = skl_lm.LinearRegression().fit(x_train2, y_train)\n",
    "\n",
    "print(mean_squared_error(y_test, lm.predict(x_test2)))"
   ]
  },
  {
   "cell_type": "markdown",
   "metadata": {},
   "source": [
    "Cubic:"
   ]
  },
  {
   "cell_type": "code",
   "execution_count": null,
   "metadata": {},
   "outputs": [],
   "source": [
    "poly = PolynomialFeatures(degree=3)\n",
    "x_train3 = poly.fit_transform(x_train)\n",
    "x_test3 = poly.fit_transform(x_test)\n",
    "lm = skl_lm.LinearRegression().fit(x_train3, y_train)\n",
    "\n",
    "print(mean_squared_error(y_test, lm.predict(x_test3)))"
   ]
  },
  {
   "cell_type": "code",
   "execution_count": null,
   "metadata": {},
   "outputs": [],
   "source": []
  }
 ],
 "metadata": {
  "kernelspec": {
   "display_name": "Python 3",
   "language": "python",
   "name": "python3"
  },
  "language_info": {
   "codemirror_mode": {
    "name": "ipython",
    "version": 3
   },
   "file_extension": ".py",
   "mimetype": "text/x-python",
   "name": "python",
   "nbconvert_exporter": "python",
   "pygments_lexer": "ipython3",
   "version": "3.7.4"
  }
 },
 "nbformat": 4,
 "nbformat_minor": 2
}
