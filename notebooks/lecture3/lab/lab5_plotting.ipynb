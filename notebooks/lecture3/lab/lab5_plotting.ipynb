{
 "cells": [
  {
   "cell_type": "markdown",
   "metadata": {},
   "source": [
    "#### Introduction to Statistical Learning, Lab 3.5\n",
    "\n",
    "# Producing Consistent Plots\n",
    "\n",
    "We have stressed earlier that visualisation is *very* important. A big part of this consistency. Unfortunately, this can be hard to achieve in Python ecosystem.\n",
    "\n",
    "The `seaborn` library provides a consistent and well designed look and we generally recommend to use it for your plotting tasks.\n",
    "\n",
    "However, there are some things `seaborn` can't do easily. In particular, we often want to plot quantities derived from a model the *we* have fitted.  That can be a problem, because many of `seaborn`'s convenience features (such as `regplot()`) do their own fits we have little control over. In fact, they will often be plain wrong! For example, when we fitted a multiple regression model. Yet, we still want `seaborn`'s consistent look.\n",
    "\n",
    "Many plots referred to in the ISL book are based on the convenient functions provided by R. Almost none of these are readily provided in the Python ecosystem, at least not with a consistent look and full control over the underlying model. \n",
    "\n",
    "So what do we do about this? \n",
    "\n",
    "We have to write some code... as you have seen, this kind of thing is extremely tedious. But you are in luck, we did most of the work for you! All you have to do is:\n",
    "\n",
    "```python\n",
    "from islpy import datasets, utisl, lmplots\n",
    "```\n",
    "We will demonstrate some functions from the `lmplots` module in this lab.\n",
    "\n"
   ]
  },
  {
   "cell_type": "code",
   "execution_count": null,
   "metadata": {},
   "outputs": [],
   "source": [
    "import numpy as np\n",
    "import pandas as pd\n",
    "import matplotlib.pyplot as plt\n",
    "import seaborn as sns\n",
    "import statsmodels.formula.api as smf\n",
    "from islpy import datasets, utils, lmplots\n",
    "sns.set()\n",
    "%matplotlib inline"
   ]
  },
  {
   "cell_type": "markdown",
   "metadata": {},
   "source": [
    "#### Data Set\n",
    "\n",
    "We use the `Auto` data set to demonstrate the usage of qualitative variables. We start by loading it and making the `name` column the index (it is not a useful variable and makes good row labels).\n",
    "\n",
    "We also change the `origin` variable to strings referring to the region. This is more readable and will make `statsmodels` treat it as a qualitative variable (we could also force this with the `C()` notation)."
   ]
  },
  {
   "cell_type": "code",
   "execution_count": null,
   "metadata": {},
   "outputs": [],
   "source": [
    "auto = datasets.Auto()\n",
    "auto.set_index('name', inplace=True)\n",
    "auto.head()"
   ]
  },
  {
   "cell_type": "markdown",
   "metadata": {},
   "source": [
    "#### Model Specification & Fit\n",
    "\n",
    "We would like to predict `mpg` based on all predictors."
   ]
  },
  {
   "cell_type": "code",
   "execution_count": null,
   "metadata": {},
   "outputs": [],
   "source": [
    "formula = 'mpg~' + '+'.join(auto.columns.drop('mpg'))\n",
    "lm = smf.ols(formula=formula, data=auto).fit()"
   ]
  },
  {
   "cell_type": "markdown",
   "metadata": {},
   "source": [
    "#### Fit Result Summary\n",
    "\n",
    "We can get a comprehensive summary using the `summary()` method. Now we get the results for all three $\\beta$ coefficients."
   ]
  },
  {
   "cell_type": "code",
   "execution_count": null,
   "metadata": {},
   "outputs": [],
   "source": [
    "lm.summary()"
   ]
  },
  {
   "cell_type": "markdown",
   "metadata": {},
   "source": [
    "#### Plotting Fit Results\n",
    "\n",
    "The `plot_fit()` function from `islpy.lmplots` automatically marginalises out all other variables. The `seaborn.regplot()` function does not (and can not) do this for us. By default a scatter plot of the response versus the specified predictor is shown and the fitted values are overlaid together with the 95% confidence interval."
   ]
  },
  {
   "cell_type": "code",
   "execution_count": null,
   "metadata": {},
   "outputs": [],
   "source": [
    "ax = lmplots.plot_fit(lm, 'weight')"
   ]
  },
  {
   "cell_type": "markdown",
   "metadata": {},
   "source": [
    "We can also add the 95% *prediction interval*:"
   ]
  },
  {
   "cell_type": "code",
   "execution_count": null,
   "metadata": {},
   "outputs": [],
   "source": [
    "ax = lmplots.plot_fit(lm, 'weight', show_pi=True)"
   ]
  },
  {
   "cell_type": "markdown",
   "metadata": {},
   "source": [
    "We can also influence colours and other properties. We do recommend *not* to do this in the interest of consistency. If you don't like the defaults or need different colours you should define a proper colour scheme, such that `'CN'` colours are recognised. Be graphically consistent."
   ]
  },
  {
   "cell_type": "code",
   "execution_count": null,
   "metadata": {},
   "outputs": [],
   "source": [
    "ax = lmplots.plot_fit(lm, 'weight', scolor='C3', fcolor='black', pcolor='C5', show_pi=True)"
   ]
  },
  {
   "cell_type": "markdown",
   "metadata": {},
   "source": [
    "We also provide a 3D plot facility. While it looks cool, remember that 2D plots are usuallu *much* more readable."
   ]
  },
  {
   "cell_type": "code",
   "execution_count": null,
   "metadata": {
    "scrolled": false
   },
   "outputs": [],
   "source": [
    "fig = lmplots.plot_fit_3D(lm, 'weight', 'horsepower')"
   ]
  },
  {
   "cell_type": "markdown",
   "metadata": {},
   "source": [
    "The 3D plotting function also has some (unfortuanate, as always) side effects: it resets the `seaborn` look to the `matplotlib` default. We have to repair this before we make more plots."
   ]
  },
  {
   "cell_type": "code",
   "execution_count": null,
   "metadata": {},
   "outputs": [],
   "source": [
    "sns.set()\n",
    "%matplotlib inline"
   ]
  },
  {
   "cell_type": "markdown",
   "metadata": {},
   "source": [
    "Now we can make plots again like before."
   ]
  },
  {
   "cell_type": "code",
   "execution_count": null,
   "metadata": {},
   "outputs": [],
   "source": [
    "ax = lmplots.plot_fit(lm, 'horsepower')"
   ]
  },
  {
   "cell_type": "markdown",
   "metadata": {},
   "source": [
    "#### R-style Linear Model Control Plots\n",
    "\n",
    "We provide functions to replicate R-style control plots on linear models. You can show the overall summary by using `lmplots.plot()`."
   ]
  },
  {
   "cell_type": "code",
   "execution_count": null,
   "metadata": {},
   "outputs": [],
   "source": [
    "fig = lmplots.plot(lm)"
   ]
  },
  {
   "cell_type": "markdown",
   "metadata": {},
   "source": [
    "For more flexibility we can also show the plots individually. For example we might not want the annotations (this also works for `lmplots.plot()`)."
   ]
  },
  {
   "cell_type": "code",
   "execution_count": null,
   "metadata": {},
   "outputs": [],
   "source": [
    "ax = lmplots.plot_resid(lm, annotations=0)"
   ]
  },
  {
   "cell_type": "markdown",
   "metadata": {},
   "source": [
    "Or maybe we want more annotations (the default is three annotations)."
   ]
  },
  {
   "cell_type": "code",
   "execution_count": null,
   "metadata": {},
   "outputs": [],
   "source": [
    "ax = lmplots.plot_leverage(lm, annotations=8)"
   ]
  },
  {
   "cell_type": "markdown",
   "metadata": {},
   "source": [
    "#### Plotting with Qualitative Predictors\n",
    "\n",
    "The `origin` variable in the `Auto` data set is qualitative. It is a good idea to make it explicitly so and let the `statsmodels` library deal with the encoding. "
   ]
  },
  {
   "cell_type": "code",
   "execution_count": null,
   "metadata": {},
   "outputs": [],
   "source": [
    "auto['origin'].replace({1: 'US', 2: 'EU', 3: 'JP'}, inplace=True)\n",
    "auto.head()"
   ]
  },
  {
   "cell_type": "code",
   "execution_count": null,
   "metadata": {},
   "outputs": [],
   "source": [
    "lm = smf.ols(formula, auto).fit()\n",
    "lm.summary()\n",
    "lm.model.exog_names"
   ]
  },
  {
   "cell_type": "markdown",
   "metadata": {},
   "source": [
    "This works fine for the control plots."
   ]
  },
  {
   "cell_type": "code",
   "execution_count": null,
   "metadata": {},
   "outputs": [],
   "source": [
    "fig = lmplots.plot(lm)"
   ]
  },
  {
   "cell_type": "markdown",
   "metadata": {},
   "source": [
    "Unfortunately, the `lmplot.plot_fit()` will fall over. This is understandable: predictions are made from the data set passed on model construction and the magic done to the qualitative variables loses some information.\n",
    "\n",
    "There is no easy generic way around this problem because we can't meaningfully compute a mean from qualitative variables (needed for marginalising out).\n",
    "\n",
    "So for now, the `plot_fit()` and `plot_fit_3d()` functions won't work if you have included explicitly qualitative variables in your fit. "
   ]
  },
  {
   "cell_type": "code",
   "execution_count": null,
   "metadata": {},
   "outputs": [],
   "source": []
  }
 ],
 "metadata": {
  "kernelspec": {
   "display_name": "Python 3",
   "language": "python",
   "name": "python3"
  },
  "language_info": {
   "codemirror_mode": {
    "name": "ipython",
    "version": 3
   },
   "file_extension": ".py",
   "mimetype": "text/x-python",
   "name": "python",
   "nbconvert_exporter": "python",
   "pygments_lexer": "ipython3",
   "version": "3.7.4"
  }
 },
 "nbformat": 4,
 "nbformat_minor": 2
}
