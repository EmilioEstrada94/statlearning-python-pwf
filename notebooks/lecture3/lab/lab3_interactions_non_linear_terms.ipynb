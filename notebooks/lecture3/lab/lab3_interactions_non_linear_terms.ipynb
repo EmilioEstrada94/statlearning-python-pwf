{
 "cells": [
  {
   "cell_type": "markdown",
   "metadata": {},
   "source": [
    "#### Introduction to Statistical Learning, Lab 3.3\n",
    "\n",
    "# Interactions & Non-linear Transformations\n",
    "\n",
    "We often want to include interaction terms and non-linear transformations of the predictors in our model. This is fully supported by the formula mini language.\n",
    "\n",
    "\n",
    "  - [statsmodels documentation](https://www.statsmodels.org/stable/)\n",
    "  - [statsmodels formula interface](https://www.statsmodels.org/stable/example_formulas.html)\n",
    "  - [the formula mini language](https://patsy.readthedocs.io/en/latest/formulas.html#the-formula-language)"
   ]
  },
  {
   "cell_type": "code",
   "execution_count": null,
   "metadata": {},
   "outputs": [],
   "source": [
    "import numpy as np\n",
    "import pandas as pd\n",
    "import matplotlib.pyplot as plt\n",
    "import seaborn as sns\n",
    "import statsmodels.formula.api as smf\n",
    "from islpy import datasets, lmplots\n",
    "sns.set()\n",
    "%matplotlib inline"
   ]
  },
  {
   "cell_type": "markdown",
   "metadata": {},
   "source": [
    "#### Data Set\n",
    "\n",
    "We use the `Boston` data set to demonstrate multiple linear regression."
   ]
  },
  {
   "cell_type": "code",
   "execution_count": null,
   "metadata": {},
   "outputs": [],
   "source": [
    "boston = datasets.Boston()\n",
    "boston.head()"
   ]
  },
  {
   "cell_type": "markdown",
   "metadata": {},
   "source": [
    "#### Model Specification & Fit\n",
    "\n",
    "The `smf.ols()` function builds a statistical *model* prepared for fitting with *ordinary least squares* (ols). This is the type of fit explained in detail in the lecture.\n",
    "\n",
    "The syntax to use interaction terms is `y~x1:x2`. This will include a term corresponding to $x_1\\times x_2$ in the model.\n",
    "\n",
    "There is a shorthand notation for including an interaction term and the predictors themselves: `y~x1*x2`. This is equivalent to `y~x1+x2+x1:x2`.\n",
    "\n",
    "As in the simple regression with one predictor, a constant term for the intercept is added automatically.\n",
    "\n",
    "The formula `medv~lstat*age` means we are using `lstat`, `age` and the interaction term `lstat`$\\times$`age` as our predictors and `medv` as our dependent variable:\n",
    "\n",
    "$$ \\mathrm{medv} = \\beta_0 + \\beta_1 \\mathrm{lstat} + \\beta_2 \\mathrm{age} + \\beta_3 \\mathrm{lstat}\\times\\mathrm{age}$$"
   ]
  },
  {
   "cell_type": "code",
   "execution_count": null,
   "metadata": {},
   "outputs": [],
   "source": [
    "model = smf.ols(formula='medv~lstat*age', data=boston)\n",
    "model_fit = model.fit()"
   ]
  },
  {
   "cell_type": "markdown",
   "metadata": {},
   "source": [
    "#### Fit Result Summary\n",
    "\n",
    "We can get a comprehensive summary using the `summary()` method. Now we get the results for all three $\\beta$ coefficients."
   ]
  },
  {
   "cell_type": "code",
   "execution_count": null,
   "metadata": {},
   "outputs": [],
   "source": [
    "model_fit.summary()"
   ]
  },
  {
   "cell_type": "code",
   "execution_count": null,
   "metadata": {},
   "outputs": [],
   "source": [
    "fig, (ax1, ax2) = plt.subplots(1, 2, figsize=(12, 4.5))\n",
    "lmplots.plot_fit(model_fit, 'lstat', ax=ax1)\n",
    "lmplots.plot_fit(model_fit, 'age', ax=ax2)\n",
    "plt.show()"
   ]
  },
  {
   "cell_type": "markdown",
   "metadata": {},
   "source": [
    "#### Non-linear Transformations of the Predictors\n",
    "\n",
    "The formula mini language also accommodates non-linear transformations of the predictors. For instance, given a predictor $x$ we can create a predictor $x^2$ using the expression `I(x**2)`. Here the `I()` acts as an escape sequence. It tells the formula parser to treat the expression inside as a Python expression. This is necessary because `**` has a special meaning in the formula language. We now perform a regression of `medv` on `lstat` and `lstat` squared. The formula `medv~lstat+I(lstat**2)` describes the following model:\n",
    "\n",
    "$$ \\mathrm{medv} = \\beta_0 + \\beta_1 \\mathrm{lstat} + \\beta_2 \\mathrm{lstat}^2$$\n",
    "\n",
    "We stress again that this is still a linear model because it is *linear in the parameters*.\n",
    "\n",
    "In fact we can use any Python expression this way. For example, `I(np.log(age))`. The only restriction is that the variable names must be valid Python identifiers."
   ]
  },
  {
   "cell_type": "code",
   "execution_count": null,
   "metadata": {},
   "outputs": [],
   "source": [
    "model2 = smf.ols(formula='medv~lstat+I(lstat**2)', data=boston)\n",
    "model2_fit = model2.fit()\n",
    "model2_fit.summary()"
   ]
  },
  {
   "cell_type": "code",
   "execution_count": null,
   "metadata": {},
   "outputs": [],
   "source": [
    "model2_fit.pvalues"
   ]
  },
  {
   "cell_type": "markdown",
   "metadata": {},
   "source": [
    "The low $p$-value of the quadratic term suggests that the term improves the model over the simple regression `medv~lstat`.\n",
    "\n",
    "To properly assess this, we would like to perform a hypothesis test with the two models. Our null hypothesis is that the two models fit the data equally well, and the alternative hypothesis is that the full model is superior.\n",
    "\n",
    "The `anova_lm` function from the `statsmodels.stats.api` performs such a test."
   ]
  },
  {
   "cell_type": "code",
   "execution_count": null,
   "metadata": {},
   "outputs": [],
   "source": [
    "model1 = smf.ols(formula='medv~lstat', data=boston)\n",
    "model1_fit = model1.fit()"
   ]
  },
  {
   "cell_type": "code",
   "execution_count": null,
   "metadata": {},
   "outputs": [],
   "source": [
    "import statsmodels.stats.api as sms\n",
    "sms.anova_lm(model1_fit, model2_fit)"
   ]
  },
  {
   "cell_type": "markdown",
   "metadata": {},
   "source": [
    "Here the $F$-statistic is 135 and the $p$-value is virtually zero. This provides clear evidence that the full model with the quadratic term is far superior. \n",
    "\n",
    "We make some plots to confirm this visually."
   ]
  },
  {
   "cell_type": "code",
   "execution_count": null,
   "metadata": {},
   "outputs": [],
   "source": [
    "fig, (ax1, ax2) = plt.subplots(1, 2, figsize=(12, 4.5))\n",
    "lmplots.plot_fit(model1_fit, 'lstat', ax=ax1)\n",
    "lmplots.plot_fit(model2_fit, 'lstat', ax=ax2)\n",
    "ax1.set_title(model1.formula)\n",
    "ax2.set_title(model2.formula)\n",
    "plt.show()"
   ]
  },
  {
   "cell_type": "markdown",
   "metadata": {},
   "source": [
    "Of course we can combine all of the above."
   ]
  },
  {
   "cell_type": "code",
   "execution_count": null,
   "metadata": {},
   "outputs": [],
   "source": [
    "lm = smf.ols(formula='medv~lstat*age+I(lstat**2)', data=boston).fit()\n",
    "fig, ax = lmplots.plot_fit_3D(lm, 'lstat', 'age')\n",
    "fig.suptitle(lm.model.formula)\n",
    "plt.show()"
   ]
  },
  {
   "cell_type": "code",
   "execution_count": null,
   "metadata": {},
   "outputs": [],
   "source": []
  }
 ],
 "metadata": {
  "kernelspec": {
   "display_name": "Python 3",
   "language": "python",
   "name": "python3"
  },
  "language_info": {
   "codemirror_mode": {
    "name": "ipython",
    "version": 3
   },
   "file_extension": ".py",
   "mimetype": "text/x-python",
   "name": "python",
   "nbconvert_exporter": "python",
   "pygments_lexer": "ipython3",
   "version": "3.7.4"
  }
 },
 "nbformat": 4,
 "nbformat_minor": 2
}
