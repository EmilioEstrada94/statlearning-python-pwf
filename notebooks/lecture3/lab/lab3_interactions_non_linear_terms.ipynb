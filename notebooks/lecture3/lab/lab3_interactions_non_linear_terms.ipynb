{
 "cells": [
  {
   "cell_type": "markdown",
   "metadata": {},
   "source": [
    "#### Introduction to Statistical Learning, Lab 3.3\n",
    "\n",
    "# Interactions & Non-linear Transformations\n",
    "\n",
    "We often want to include interaction terms and non-linear transformations of the predictors in our model. This is fully supported by the formula mini language.\n",
    "\n",
    "\n",
    "  - [statsmodels documentation](https://www.statsmodels.org/stable/)\n",
    "  - [statsmodels formula interface](https://www.statsmodels.org/stable/example_formulas.html)\n",
    "  - [the formula mini language](https://patsy.readthedocs.io/en/latest/formulas.html#the-formula-language)"
   ]
  },
  {
   "cell_type": "code",
   "execution_count": null,
   "metadata": {},
   "outputs": [],
   "source": [
    "import numpy as np\n",
    "import pandas as pd\n",
    "import matplotlib.pyplot as plt\n",
    "import seaborn as sns\n",
    "import statsmodels.formula.api as smf\n",
    "from islpy import datasets\n",
    "sns.set()\n",
    "%matplotlib inline"
   ]
  },
  {
   "cell_type": "markdown",
   "metadata": {},
   "source": [
    "#### Data Set\n",
    "\n",
    "We use the `Boston` data set to demonstrate multiple linear regression."
   ]
  },
  {
   "cell_type": "code",
   "execution_count": null,
   "metadata": {},
   "outputs": [],
   "source": [
    "boston = datasets.Boston()\n",
    "boston.head()"
   ]
  },
  {
   "cell_type": "markdown",
   "metadata": {},
   "source": [
    "#### Model Specification & Fit\n",
    "\n",
    "The `smf.ols()` function builds a statistical *model* prepared for fitting with *ordinary least squares* (ols). This is the type of fit explained in detail in the lecture.\n",
    "\n",
    "The syntax to use interaction terms is `y~x1:x2`. This will include a term corresponding to $x_1\\times x_2$ in the model.\n",
    "\n",
    "There is a shorthand notation for including an interaction term and the predictors themselves: `y~x1*x2`. This is equivalent to `y~x1+x2+x1:x2`.\n",
    "\n",
    "As in the simple regression with one predictor, a constant term for the intercept is added automatically.\n",
    "\n",
    "The formula `medv~lstat*age` means we are using `lstat`, `age` and the interaction term `lstat`$\\times$`age` as our predictors and `medv` as our dependent variable:\n",
    "\n",
    "$$ \\mathrm{medv} = \\beta_0 + \\beta_1 \\mathrm{lstat} + \\beta_2 \\mathrm{age} + \\beta_3 \\mathrm{lstat}\\times\\mathrm{age}$$"
   ]
  },
  {
   "cell_type": "code",
   "execution_count": null,
   "metadata": {},
   "outputs": [],
   "source": [
    "model = smf.ols(formula='medv~lstat*age', data=boston)\n",
    "model_fit = model.fit()"
   ]
  },
  {
   "cell_type": "markdown",
   "metadata": {},
   "source": [
    "#### Fit Result Summary\n",
    "\n",
    "We can get a comprehensive summary using the `summary()` method. Now we get the results for all three $\\beta$ coefficients."
   ]
  },
  {
   "cell_type": "code",
   "execution_count": null,
   "metadata": {},
   "outputs": [],
   "source": [
    "model_fit.summary()"
   ]
  },
  {
   "cell_type": "markdown",
   "metadata": {},
   "source": [
    "#### A Fancy 3D Plot\n",
    "\n",
    "It's so nice. :)"
   ]
  },
  {
   "cell_type": "code",
   "execution_count": null,
   "metadata": {},
   "outputs": [],
   "source": [
    "import plots\n",
    "fig, ax = plots.plot_linear_model_3D(model_fit, 'lstat', 'age', data=boston)\n",
    "fig.suptitle(f'Boston Housing Data Set: {model.formula}')\n",
    "plt.show()"
   ]
  },
  {
   "cell_type": "code",
   "execution_count": null,
   "metadata": {},
   "outputs": [],
   "source": []
  }
 ],
 "metadata": {
  "kernelspec": {
   "display_name": "Python 3",
   "language": "python",
   "name": "python3"
  },
  "language_info": {
   "codemirror_mode": {
    "name": "ipython",
    "version": 3
   },
   "file_extension": ".py",
   "mimetype": "text/x-python",
   "name": "python",
   "nbconvert_exporter": "python",
   "pygments_lexer": "ipython3",
   "version": "3.7.4"
  }
 },
 "nbformat": 4,
 "nbformat_minor": 2
}
