{
 "cells": [
  {
   "cell_type": "markdown",
   "metadata": {},
   "source": [
    "#### Introduction to Statistical Learning, Lab 3.3\n",
    "\n",
    "# Interactions & Non-linear Transformations\n",
    "\n",
    "We often want to include interaction terms and non-linear transformations of the predictors in our model. This is fully supported by the formula mini language.\n",
    "\n",
    "\n",
    "  - [statsmodels documentation](https://www.statsmodels.org/stable/)\n",
    "  - [statsmodels formula interface](https://www.statsmodels.org/stable/example_formulas.html)\n",
    "  - [the formula mini language](https://patsy.readthedocs.io/en/latest/formulas.html#the-formula-language)"
   ]
  },
  {
   "cell_type": "code",
   "execution_count": null,
   "metadata": {},
   "outputs": [],
   "source": [
    "import numpy as np\n",
    "import pandas as pd\n",
    "import matplotlib.pyplot as plt\n",
    "import seaborn as sns\n",
    "import statsmodels.formula.api as smf\n",
    "from islpy import datasets\n",
    "sns.set()\n",
    "%matplotlib inline"
   ]
  },
  {
   "cell_type": "markdown",
   "metadata": {},
   "source": [
    "#### Data Set\n",
    "\n",
    "We use the `Boston` data set to demonstrate multiple linear regression."
   ]
  },
  {
   "cell_type": "code",
   "execution_count": null,
   "metadata": {},
   "outputs": [],
   "source": [
    "boston = datasets.Boston()\n",
    "boston.head()"
   ]
  },
  {
   "cell_type": "markdown",
   "metadata": {},
   "source": [
    "#### Model Specification\n",
    "\n",
    "The `smf.ols()` function builds a statistical *model* prepared for fitting with *ordinary least squares* (ols). This is the type of fit explained in detail in the lecture.\n",
    "\n",
    "The syntax to use interaction terms is `y~x1:x2`. This will include a term corresponding to $x_1\\times x_2$ in the model.\n",
    "\n",
    "There is a shorthand notation for including an interaction term and the predictors themselves: `y~x1*x2`. This is equivalent to `y~x1+x2+x1:x2`.\n",
    "\n",
    "As in the simple regression with one predictor, a constant term for the intercept is added automatically.\n",
    "\n",
    "The formula `medv~lstat*age` means we are using `lstat`, `age` and the interaction term `lstat`$\\times$`age` as our predictors and `medv` as our dependent variable:\n",
    "\n",
    "$$ \\mathrm{medv} = \\beta_0 + \\beta_1 \\mathrm{lstat} + \\beta_2 \\mathrm{age} + \\beta_3 \\mathrm{lstat}\\times\\mathrm{age}$$"
   ]
  },
  {
   "cell_type": "code",
   "execution_count": null,
   "metadata": {},
   "outputs": [],
   "source": [
    "model = smf.ols(formula='medv~lstat*age', data=boston)"
   ]
  },
  {
   "cell_type": "markdown",
   "metadata": {},
   "source": [
    "#### Fitting the Model\n",
    "\n",
    "We *fit* the model to the data by calling the `fit()` method:"
   ]
  },
  {
   "cell_type": "code",
   "execution_count": null,
   "metadata": {},
   "outputs": [],
   "source": [
    "model_fit = model.fit()"
   ]
  },
  {
   "cell_type": "markdown",
   "metadata": {},
   "source": [
    "#### Fit Result Summary\n",
    "\n",
    "We can get a comprehensive summary using the `summary()` method. Now we get the results for all three $\\beta$ coefficients."
   ]
  },
  {
   "cell_type": "code",
   "execution_count": null,
   "metadata": {},
   "outputs": [],
   "source": [
    "model_fit.summary()"
   ]
  },
  {
   "cell_type": "markdown",
   "metadata": {},
   "source": [
    "#### A Fancy 3D Plot\n",
    "\n",
    "Oh well..."
   ]
  },
  {
   "cell_type": "code",
   "execution_count": null,
   "metadata": {},
   "outputs": [],
   "source": [
    "from mpl_toolkits.mplot3d import axes3d\n",
    "from matplotlib import cm\n",
    "sns.reset_defaults()\n",
    "%matplotlib inline\n",
    "\n",
    "fig = plt.figure(figsize=(12, 9))\n",
    "ax = axes3d.Axes3D(fig)\n",
    "\n",
    "# 3D scatter plot of the raw data\n",
    "ax.scatter(boston.lstat, boston.age, boston.medv)\n",
    "\n",
    "# prepare point grids from the ranges of the scatter plot\n",
    "xs = np.linspace(*ax.get_xlim(), 100)\n",
    "ys = np.linspace(*ax.get_ylim(), 100)\n",
    "xv, yv = np.meshgrid(xs, ys, copy=False)\n",
    "zv = np.zeros((ys.size, xs.size))\n",
    "lv = np.zeros((ys.size, xs.size))\n",
    "uv = np.zeros((ys.size, xs.size))\n",
    "\n",
    "# compute predictions and CI bounds for the rows in the point grids\n",
    "for idx, y in enumerate(yv):\n",
    "    pred = model_fit.get_prediction({'lstat': xs, 'age': y}).summary_frame()\n",
    "    zv[idx] = pred['mean']\n",
    "    lv[idx] = pred['mean_ci_lower']\n",
    "    uv[idx] = pred['mean_ci_upper']\n",
    "\n",
    "# plot the prediction & CI boundary surfaces\n",
    "ax.plot_surface(xv, yv, zv, alpha=0.4)\n",
    "ax.plot_surface(xv, yv, lv, alpha=0.2, color='C1')\n",
    "ax.plot_surface(xv, yv, uv, alpha=0.2, color='C1')\n",
    "\n",
    "# add contour plot of the CI width to the bottom of the figure\n",
    "ax.contourf(xv, yv, uv-lv,\n",
    "            zdir='z',\n",
    "            offset=ax.get_zlim()[0],\n",
    "            levels=30,\n",
    "            antialiased=True,\n",
    "            cmap='Oranges')\n",
    "\n",
    "# set figure title and axes labels\n",
    "ax.set_title('Linear regression on Boston housing data: medv ~ lstat * age')\n",
    "ax.set_xlabel('lstat')\n",
    "ax.set_ylabel('age')\n",
    "ax.set_zlabel('medv')\n",
    "\n",
    "# specify viewing angle\n",
    "# ax.view_init(15, -70)"
   ]
  },
  {
   "cell_type": "code",
   "execution_count": null,
   "metadata": {},
   "outputs": [],
   "source": []
  }
 ],
 "metadata": {
  "kernelspec": {
   "display_name": "Python 3",
   "language": "python",
   "name": "python3"
  },
  "language_info": {
   "codemirror_mode": {
    "name": "ipython",
    "version": 3
   },
   "file_extension": ".py",
   "mimetype": "text/x-python",
   "name": "python",
   "nbconvert_exporter": "python",
   "pygments_lexer": "ipython3",
   "version": "3.7.4"
  }
 },
 "nbformat": 4,
 "nbformat_minor": 2
}
