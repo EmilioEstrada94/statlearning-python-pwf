{
 "cells": [
  {
   "cell_type": "markdown",
   "metadata": {},
   "source": [
    "#### Introduction to Statistical Learning, Lab 3.4\n",
    "\n",
    "# Qualitative Predictors\n",
    "\n",
    "When we deal with qualitative predictors we need to introduce dummy variables encoding the different classes before we can perform a regression fit. Fortunately, the `statsmodels` library can do this for us.\n",
    "\n",
    "\n",
    "  - [statsmodels documentation](https://www.statsmodels.org/stable/)\n",
    "  - [statsmodels formula interface](https://www.statsmodels.org/stable/example_formulas.html)\n",
    "  - [the formula mini language](https://patsy.readthedocs.io/en/latest/formulas.html#the-formula-language)"
   ]
  },
  {
   "cell_type": "code",
   "execution_count": null,
   "metadata": {},
   "outputs": [],
   "source": [
    "import numpy as np\n",
    "import pandas as pd\n",
    "import matplotlib.pyplot as plt\n",
    "import seaborn as sns\n",
    "import statsmodels.api as sm\n",
    "import statsmodels.formula.api as smf\n",
    "from islpy import datasets\n",
    "import plots\n",
    "sns.set()\n",
    "%matplotlib inline"
   ]
  },
  {
   "cell_type": "markdown",
   "metadata": {},
   "source": [
    "#### Data Set\n",
    "\n",
    "We use the `Carseats` data set to demonstrate the usage of qualitative variables."
   ]
  },
  {
   "cell_type": "code",
   "execution_count": null,
   "metadata": {},
   "outputs": [],
   "source": [
    "carseats = datasets.Carseats()\n",
    "carseats.head()"
   ]
  },
  {
   "cell_type": "markdown",
   "metadata": {},
   "source": [
    "#### Model Specification & Fit\n",
    "\n",
    "We would like to predict `Sales` based on all predictors plus some interaction terms."
   ]
  },
  {
   "cell_type": "code",
   "execution_count": null,
   "metadata": {},
   "outputs": [],
   "source": [
    "formula = 'Sales~' + '+'.join(carseats.columns.drop('Sales')) \n",
    "formula += '+Income:Advertising'\n",
    "formula += '+Price:Age'\n",
    "lm = smf.ols(formula=formula, data=carseats).fit()"
   ]
  },
  {
   "cell_type": "markdown",
   "metadata": {},
   "source": [
    "#### Fit Result Summary\n",
    "\n",
    "We can get a comprehensive summary using the `summary()` method. Now we get the results for all three $\\beta$ coefficients."
   ]
  },
  {
   "cell_type": "code",
   "execution_count": null,
   "metadata": {},
   "outputs": [],
   "source": [
    "lm.summary()"
   ]
  },
  {
   "cell_type": "markdown",
   "metadata": {},
   "source": [
    "#### The Dummy Encoding\n",
    "\n",
    "Note that the dummy encoding for the categories was done automatically!\n",
    "\n",
    "The large and positive coefficients of `ShelveLoc[T.Good]` and `ShelveLoc[T.Medium]` indicate that better shelve locations have a positive impact on `Sales`. \n",
    "\n",
    "The `ShelveLoc` categories were encoded like this:\n",
    "\n",
    "||ShelveLoc[T.Good]|ShelveLoc[T.Medium]|\n",
    "|:---|---:|---:|\n",
    "|__Bad__|0|0|\n",
    "|__Good__|1|0|\n",
    "|__Medium__|0|1|\n",
    "\n",
    "You can read about what happens behind the scenes [here](https://www.statsmodels.org/dev/contrasts.html)."
   ]
  },
  {
   "cell_type": "code",
   "execution_count": null,
   "metadata": {},
   "outputs": [],
   "source": []
  }
 ],
 "metadata": {
  "kernelspec": {
   "display_name": "Python 3",
   "language": "python",
   "name": "python3"
  },
  "language_info": {
   "codemirror_mode": {
    "name": "ipython",
    "version": 3
   },
   "file_extension": ".py",
   "mimetype": "text/x-python",
   "name": "python",
   "nbconvert_exporter": "python",
   "pygments_lexer": "ipython3",
   "version": "3.7.4"
  }
 },
 "nbformat": 4,
 "nbformat_minor": 2
}
