{
 "cells": [
  {
   "cell_type": "markdown",
   "metadata": {
    "deletable": false,
    "editable": false,
    "run_control": {
     "frozen": true
    }
   },
   "source": [
    "#### Introduction to Statistical Learning, Exercise 3.2\n",
    "\n",
    "__Please do yourself a favour and only look at the solutions after you honestly tried to solve the exercises.__\n",
    "\n",
    "# Multiple Linear Regression on the Auto Data Set"
   ]
  },
  {
   "cell_type": "code",
   "execution_count": null,
   "metadata": {},
   "outputs": [],
   "source": [
    "import numpy as np\n",
    "import pandas as pd\n",
    "import matplotlib.pyplot as plt\n",
    "import seaborn as sns\n",
    "import statsmodels.formula.api as smf\n",
    "from islpy import datasets, utils, lmplots\n",
    "sns.set()\n",
    "%matplotlib inline"
   ]
  },
  {
   "cell_type": "markdown",
   "metadata": {
    "deletable": false,
    "editable": false,
    "run_control": {
     "frozen": true
    },
    "solution2": "hidden",
    "solution2_first": true
   },
   "source": [
    "### A. Preparation and Visualisation\n",
    "\n",
    "Load the `Auto` data set and modify it to use the `name` column as the row index. Then remove the `name` column and produce a scatter plot matrix for all remaining variables, except `origin` (you can use the `vars` keyword argument of `sns.pairplot()` to achieve this). Use the `origin` variable for colour coding the plots (use the `hue` keyword argument of `sns.pairplot()`).\n",
    "\n"
   ]
  },
  {
   "cell_type": "code",
   "execution_count": null,
   "metadata": {
    "deletable": false,
    "editable": false,
    "run_control": {
     "frozen": true
    },
    "solution2": "hidden"
   },
   "outputs": [],
   "source": [
    "auto = datasets.Auto()\n",
    "auto.set_index(auto['name'], inplace=True)\n",
    "auto.drop('name', axis=1, inplace=True)\n",
    "auto.head()"
   ]
  },
  {
   "cell_type": "code",
   "execution_count": null,
   "metadata": {
    "deletable": false,
    "editable": false,
    "run_control": {
     "frozen": true
    },
    "solution2": "hidden"
   },
   "outputs": [],
   "source": [
    "axg = sns.pairplot(data=auto, vars=auto.columns.drop('origin'), hue='origin')"
   ]
  },
  {
   "cell_type": "code",
   "execution_count": null,
   "metadata": {},
   "outputs": [],
   "source": []
  },
  {
   "cell_type": "markdown",
   "metadata": {
    "deletable": false,
    "editable": false,
    "run_control": {
     "frozen": true
    },
    "solution2": "hidden",
    "solution2_first": true
   },
   "source": [
    "### B. Correlations\n",
    "\n",
    "Compute the *correlation matrix* of all the variables in the `Auto` data set using the `corr()` method of the data frame. "
   ]
  },
  {
   "cell_type": "code",
   "execution_count": null,
   "metadata": {
    "deletable": false,
    "editable": false,
    "run_control": {
     "frozen": true
    },
    "solution2": "hidden"
   },
   "outputs": [],
   "source": [
    "cor = auto.corr()\n",
    "cor"
   ]
  },
  {
   "cell_type": "code",
   "execution_count": null,
   "metadata": {},
   "outputs": [],
   "source": []
  },
  {
   "cell_type": "markdown",
   "metadata": {
    "deletable": false,
    "editable": false,
    "run_control": {
     "frozen": true
    },
    "solution2": "hidden",
    "solution2_first": true
   },
   "source": [
    "### C. Multiple Linear Regression\n",
    "\n",
    "Use the `smf.ols()` function to produce a multiple linear regression fit using `mpg` as the response and all other variables as the predictors.\n",
    "\n",
    "Produce a summary of the fit result. Comment on the output. For example:\n",
    "\n",
    "  - Is there a relationship between the predictors and the response?\n",
    "  - Which predictors appear to have a statistically significant relationship to the response?\n",
    "  - What does the coefficient for the `year` variable suggest?"
   ]
  },
  {
   "cell_type": "code",
   "execution_count": null,
   "metadata": {
    "deletable": false,
    "editable": false,
    "run_control": {
     "frozen": true
    },
    "solution2": "hidden"
   },
   "outputs": [],
   "source": [
    "formula = 'mpg~' + '+'.join(auto.columns.drop('mpg'))\n",
    "lm = smf.ols(formula, auto).fit()\n",
    "lm.summary()"
   ]
  },
  {
   "cell_type": "markdown",
   "metadata": {
    "deletable": false,
    "editable": false,
    "run_control": {
     "frozen": true
    },
    "solution2": "hidden"
   },
   "source": [
    "Comments:\n",
    "\n",
    "  - There are some coefficients different from zero with low $p$-values, indicating they are related to the response.\n",
    "  - According to the $p$-values, the most significant variables are `weight`, `year`, `origin` and `displacement`. One has to be careful about `origin`, though: it is essentially a qualitative variable.\n",
    "  - The coefficient is positive, suggesting that newer models have better mileage per gallon."
   ]
  },
  {
   "cell_type": "code",
   "execution_count": null,
   "metadata": {},
   "outputs": [],
   "source": []
  },
  {
   "cell_type": "markdown",
   "metadata": {
    "deletable": false,
    "editable": false,
    "run_control": {
     "frozen": true
    },
    "solution2": "hidden",
    "solution2_first": true
   },
   "source": [
    "### D. Control Plots\n",
    "\n",
    "Use the `lmplots.plot()` function to produce the summary plots for the fitted model. Comment on any problems you can see with the fit.\n",
    "\n",
    "Do the residual plots suggest any unusually large outliers? Does the leverage plot indicate any observations (car models) with unusually high leverage? "
   ]
  },
  {
   "cell_type": "code",
   "execution_count": null,
   "metadata": {
    "deletable": false,
    "editable": false,
    "run_control": {
     "frozen": true
    },
    "solution2": "hidden"
   },
   "outputs": [],
   "source": [
    "fig = lmplots.plot(lm)"
   ]
  },
  {
   "cell_type": "markdown",
   "metadata": {
    "deletable": false,
    "editable": false,
    "run_control": {
     "frozen": true
    },
    "solution2": "hidden"
   },
   "source": [
    "The residuals vs fitted values plot shows a structure. Ideally, the residuals should be randomly scattered around the horizontal zero line. The structure highlighted by the *lowess estimate* line indicates the linear model does not fit the data well.\n",
    "\n",
    "There are three models with unusually high residuals ('mazda glc', 'vw dasher diesel' and 'vw rabbit diesel').\n",
    "\n",
    "One model has a particularly high leverage ('buik estate wagon sw')."
   ]
  },
  {
   "cell_type": "code",
   "execution_count": null,
   "metadata": {},
   "outputs": [],
   "source": []
  },
  {
   "cell_type": "markdown",
   "metadata": {
    "deletable": false,
    "editable": false,
    "run_control": {
     "frozen": true
    },
    "solution2": "hidden",
    "solution2_first": true
   },
   "source": [
    "### E. Interaction Terms\n",
    "\n",
    "Use the `*` and/or `:` symbols in the formula the fit linear regression models with interaction terms. Do any interactions appear to be statistically significant?"
   ]
  },
  {
   "cell_type": "markdown",
   "metadata": {
    "deletable": false,
    "editable": false,
    "run_control": {
     "frozen": true
    },
    "solution2": "hidden"
   },
   "source": [
    "Inspired by the correlation and scatter plot matrices, we try two models:\n",
    "\n",
    "  1. Add interaction terms between `horsepower`, `weight` and `displacement` (large correlations).\n",
    "  2. Add an interaction term for `year` and `acceleration` (small correlation)."
   ]
  },
  {
   "cell_type": "code",
   "execution_count": null,
   "metadata": {
    "deletable": false,
    "editable": false,
    "run_control": {
     "frozen": true
    },
    "solution2": "hidden"
   },
   "outputs": [],
   "source": [
    "f1 = formula + '+horsepower:weight+horsepower:displacement+weight:displacement'\n",
    "lm1 = smf.ols(f1, auto).fit()\n",
    "print(lm1.model.formula)\n",
    "lm1.summary().tables[1]"
   ]
  },
  {
   "cell_type": "code",
   "execution_count": null,
   "metadata": {
    "deletable": false,
    "editable": false,
    "run_control": {
     "frozen": true
    },
    "solution2": "hidden"
   },
   "outputs": [],
   "source": [
    "f2 = formula + '+year:acceleration'\n",
    "lm2 = smf.ols(f2, auto).fit()\n",
    "print(lm2.model.formula)\n",
    "lm2.summary().tables[1]"
   ]
  },
  {
   "cell_type": "markdown",
   "metadata": {
    "deletable": false,
    "editable": false,
    "run_control": {
     "frozen": true
    },
    "solution2": "hidden"
   },
   "source": [
    "The `year:acceleration` term appears to have a relationship with the response and is statistically significant (low $p$-value)."
   ]
  },
  {
   "cell_type": "code",
   "execution_count": null,
   "metadata": {},
   "outputs": [],
   "source": []
  },
  {
   "cell_type": "markdown",
   "metadata": {
    "deletable": false,
    "editable": false,
    "run_control": {
     "frozen": true
    },
    "solution2": "hidden",
    "solution2_first": true
   },
   "source": [
    "### F. Non-linear Transformations\n",
    "\n",
    "Try a few different non-linear transformations on some of the predictors, such ad $\\log(X)$, $\\sqrt{X}$ and $X^2$. Comment on your findings.\n"
   ]
  },
  {
   "cell_type": "markdown",
   "metadata": {
    "deletable": false,
    "editable": false,
    "run_control": {
     "frozen": true
    },
    "solution2": "hidden"
   },
   "source": [
    "We first make a few plots to get some inspiration."
   ]
  },
  {
   "cell_type": "code",
   "execution_count": null,
   "metadata": {
    "deletable": false,
    "editable": false,
    "run_control": {
     "frozen": true
    },
    "solution2": "hidden"
   },
   "outputs": [],
   "source": [
    "ax = lmplots.plot_fit(lm, 'horsepower', lowess=True)"
   ]
  },
  {
   "cell_type": "code",
   "execution_count": null,
   "metadata": {
    "deletable": false,
    "editable": false,
    "run_control": {
     "frozen": true
    },
    "solution2": "hidden"
   },
   "outputs": [],
   "source": [
    "ax = lmplots.plot_fit(lm, 'weight', lowess=True)"
   ]
  },
  {
   "cell_type": "code",
   "execution_count": null,
   "metadata": {
    "deletable": false,
    "editable": false,
    "run_control": {
     "frozen": true
    },
    "solution2": "hidden"
   },
   "outputs": [],
   "source": [
    "ax = lmplots.plot_fit(lm, 'acceleration', lowess=True)"
   ]
  },
  {
   "cell_type": "markdown",
   "metadata": {
    "deletable": false,
    "editable": false,
    "run_control": {
     "frozen": true
    },
    "solution2": "hidden"
   },
   "source": [
    "Inspired by the plots we try quadratic terms for `horsepower` and `weight` and square a $\\log()$ transformation on `acceleration`."
   ]
  },
  {
   "cell_type": "code",
   "execution_count": null,
   "metadata": {
    "deletable": false,
    "editable": false,
    "run_control": {
     "frozen": true
    },
    "solution2": "hidden"
   },
   "outputs": [],
   "source": [
    "f3 = formula + '+I(horsepower**2)+I(weight**2)+np.log(acceleration)'\n",
    "lm3 = smf.ols(f3, auto).fit()\n",
    "lm3.summary().tables[1]"
   ]
  },
  {
   "cell_type": "code",
   "execution_count": null,
   "metadata": {
    "deletable": false,
    "editable": false,
    "run_control": {
     "frozen": true
    },
    "solution2": "hidden"
   },
   "outputs": [],
   "source": [
    "ax = lmplots.plot_fit(lm3, 'acceleration')"
   ]
  },
  {
   "cell_type": "markdown",
   "metadata": {
    "deletable": false,
    "editable": false,
    "run_control": {
     "frozen": true
    },
    "solution2": "hidden"
   },
   "source": [
    "The squared `weight` has a small $p$-value but the coefficient is almost zeros, so it has little impact on the predicted response.\n",
    "\n",
    "The logarithm of `acceleration` has a surprisingly large coefficient as well as a low $p$-value."
   ]
  },
  {
   "cell_type": "code",
   "execution_count": null,
   "metadata": {},
   "outputs": [],
   "source": []
  }
 ],
 "metadata": {
  "kernelspec": {
   "display_name": "Python 3",
   "language": "python",
   "name": "python3"
  },
  "language_info": {
   "codemirror_mode": {
    "name": "ipython",
    "version": 3
   },
   "file_extension": ".py",
   "mimetype": "text/x-python",
   "name": "python",
   "nbconvert_exporter": "python",
   "pygments_lexer": "ipython3",
   "version": "3.7.4"
  }
 },
 "nbformat": 4,
 "nbformat_minor": 2
}
