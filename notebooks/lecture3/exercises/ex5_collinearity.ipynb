{
 "cells": [
  {
   "cell_type": "markdown",
   "metadata": {
    "deletable": false,
    "editable": false,
    "run_control": {
     "frozen": true
    }
   },
   "source": [
    "#### Introduction to Statistical Learning, Exercise 3.5\n",
    "\n",
    "__Please do yourself a favour and only look at the solutions after you honestly tried to solve the exercises.__\n",
    "\n",
    "# The Collinearity Problem\n",
    "\n",
    "We will simulate a data set that has high collinearity among predictors and investigate it with the help of our knowledge of the simulated truth.\n",
    "\n",
    "We will use `numpy`'s random generator facilities for the simulation. If you want reproducible results you should set the random seed explicitly like this at the beginning (the actual seed value does not matter):\n",
    "\n",
    "```python\n",
    "np.random.seed(seed=123)\n",
    "```\n",
    "\n",
    " "
   ]
  },
  {
   "cell_type": "code",
   "execution_count": null,
   "metadata": {},
   "outputs": [],
   "source": [
    "import numpy as np\n",
    "import pandas as pd\n",
    "import matplotlib.pyplot as plt\n",
    "import seaborn as sns\n",
    "import statsmodels.api as sm\n",
    "import statsmodels.formula.api as smf\n",
    "from islpy import datasets, utils, lmplots\n",
    "sns.set()\n",
    "%matplotlib inline"
   ]
  },
  {
   "cell_type": "markdown",
   "metadata": {
    "deletable": false,
    "editable": false,
    "run_control": {
     "frozen": true
    },
    "solution2": "hidden",
    "solution2_first": true
   },
   "source": [
    "### A. Simulated Data Set\n",
    "\n",
    "Execute the following commands:\n",
    "\n",
    "```python\n",
    "np.random.seed(123)\n",
    "x1 = np.random.uniform(size=100)\n",
    "x2 = 0.5 * x1 + np.random.normal(size=100) / 10\n",
    "y = 2 + 2 * x1 + 0.3 * x2 + np.random.normal(size=100)\n",
    "```\n",
    "\n",
    "The last line creates a linear model in which $y = y(x1, x2)$. Write out the form of the linear model. What are the regression coefficients?\n"
   ]
  },
  {
   "cell_type": "code",
   "execution_count": null,
   "metadata": {
    "deletable": false,
    "editable": false,
    "run_control": {
     "frozen": true
    },
    "solution2": "hidden"
   },
   "outputs": [],
   "source": [
    "np.random.seed(123)\n",
    "x1 = np.random.uniform(size=100)\n",
    "x2 = 0.5 * x1 + np.random.normal(size=100) / 10\n",
    "y = 2 + 2 * x1 + 0.3 * x2 + np.random.normal(size=100)"
   ]
  },
  {
   "cell_type": "markdown",
   "metadata": {
    "deletable": false,
    "editable": false,
    "run_control": {
     "frozen": true
    },
    "solution2": "hidden"
   },
   "source": [
    "$$ y = \\beta_0 + \\beta_1 x_1 + \\beta_2 x_2 + \\epsilon $$\n",
    "\n",
    "$$ \\beta_0 = 2, \\beta_1 = 2, \\beta_2 = 0.3 $$\n"
   ]
  },
  {
   "cell_type": "code",
   "execution_count": null,
   "metadata": {},
   "outputs": [],
   "source": []
  },
  {
   "cell_type": "markdown",
   "metadata": {
    "deletable": false,
    "editable": false,
    "run_control": {
     "frozen": true
    },
    "solution2": "hidden",
    "solution2_first": true
   },
   "source": [
    "### B. Predictor Correlation\n",
    "\n",
    "What is the correlation between $x_1$ and $x_2$? Create a scatter plot showing the relationship between the two variables."
   ]
  },
  {
   "cell_type": "code",
   "execution_count": null,
   "metadata": {
    "deletable": false,
    "editable": false,
    "run_control": {
     "frozen": true
    },
    "solution2": "hidden"
   },
   "outputs": [],
   "source": [
    "ax = sns.scatterplot(x1, x2)\n",
    "ax.set_xlabel('$x_1$')\n",
    "ax.set_ylabel('$x_2$')\n",
    "plt.show()"
   ]
  },
  {
   "cell_type": "markdown",
   "metadata": {
    "deletable": false,
    "editable": false,
    "run_control": {
     "frozen": true
    },
    "solution2": "hidden"
   },
   "source": [
    "The relationship is linear and positive."
   ]
  },
  {
   "cell_type": "code",
   "execution_count": null,
   "metadata": {},
   "outputs": [],
   "source": []
  },
  {
   "cell_type": "markdown",
   "metadata": {
    "deletable": false,
    "editable": false,
    "run_control": {
     "frozen": true
    },
    "solution2": "hidden",
    "solution2_first": true
   },
   "source": [
    "### C. Regression on Full Model\n",
    "\n",
    "First create a data frame from `y`, `x1` and `x2`. Then fit a linear regression model with `y` as the response and `x1` and `x2` as the predictors.\n",
    "\n",
    "Describe the results. What are $\\hat{\\beta}_0$, $\\hat{\\beta}_1$ and $\\hat{\\beta}_2$? Can you reject the null hypothesis $H_0 : \\beta_1 = 0$? How about the null hypothesis $H_0 : \\beta_2 = 0$?"
   ]
  },
  {
   "cell_type": "code",
   "execution_count": null,
   "metadata": {
    "deletable": false,
    "editable": false,
    "run_control": {
     "frozen": true
    },
    "solution2": "hidden"
   },
   "outputs": [],
   "source": [
    "data = pd.DataFrame({'y': y, 'x1': x1, 'x2': x2})\n",
    "lm = smf.ols('y~x1+x2', data).fit()\n",
    "lm.summary()"
   ]
  },
  {
   "cell_type": "markdown",
   "metadata": {
    "deletable": false,
    "editable": false,
    "run_control": {
     "frozen": true
    },
    "solution2": "hidden"
   },
   "source": [
    "The fit is good, according to the $F$-statistic."
   ]
  },
  {
   "cell_type": "code",
   "execution_count": null,
   "metadata": {
    "deletable": false,
    "editable": false,
    "run_control": {
     "frozen": true
    },
    "solution2": "hidden"
   },
   "outputs": [],
   "source": [
    "lm.params"
   ]
  },
  {
   "cell_type": "markdown",
   "metadata": {
    "deletable": false,
    "editable": false,
    "run_control": {
     "frozen": true
    },
    "solution2": "hidden"
   },
   "source": [
    "The estimated parameters are:\n",
    "\n",
    "$$ \\hat{\\beta}_0 = 1.79, \\hat{\\beta}_1 = 2.02, \\hat{\\beta}_2 = 0.54 $$\n",
    "\n",
    "The parameters $\\hat{\\beta}_0$ and $\\hat{\\beta}_1$ are reasonably close the true parameters, but $\\hat{\\beta}_2$ deviates from the truth and its standard error is large.\n",
    "\n",
    "The $p$-value for $\\beta_1$ is small and we can reject the null hypothesis $H_0: \\beta_1 = 0$. We can *not* reject the null hypothesis $H_0: \\beta_2 = 0$ due to the large $p$-value."
   ]
  },
  {
   "cell_type": "code",
   "execution_count": null,
   "metadata": {},
   "outputs": [],
   "source": []
  },
  {
   "cell_type": "markdown",
   "metadata": {
    "deletable": false,
    "editable": false,
    "run_control": {
     "frozen": true
    },
    "solution2": "hidden",
    "solution2_first": true
   },
   "source": [
    "### D. Regression on First Predictor.\n",
    "\n",
    "Now fit a model with `y` as the response and only `x1` as the predictor. Comment on the results. Can you reject the null hypothesis $H_0 : \\beta_1 = 0$?"
   ]
  },
  {
   "cell_type": "code",
   "execution_count": null,
   "metadata": {
    "deletable": false,
    "editable": false,
    "run_control": {
     "frozen": true
    },
    "solution2": "hidden"
   },
   "outputs": [],
   "source": [
    "lm1 = smf.ols('y~x1', data).fit()\n",
    "lm1.summary()"
   ]
  },
  {
   "cell_type": "markdown",
   "metadata": {
    "deletable": false,
    "editable": false,
    "run_control": {
     "frozen": true
    },
    "solution2": "hidden"
   },
   "source": [
    "The fit has improved according to the $F$-statistic. The $p$-value for $\\beta_1$ is virtually zero and we can reject the null hypothesis $H_0: \\beta_1 = 0$."
   ]
  },
  {
   "cell_type": "code",
   "execution_count": null,
   "metadata": {},
   "outputs": [],
   "source": []
  },
  {
   "cell_type": "markdown",
   "metadata": {
    "deletable": false,
    "editable": false,
    "run_control": {
     "frozen": true
    },
    "solution2": "hidden",
    "solution2_first": true
   },
   "source": [
    "### E. Regression on Second Predictor.\n",
    "\n",
    "No fit a model with `y` as the response and only `x2` as the predictor. Comment on the results. Can you reject the null hypothesis $H_0 : \\beta_2 = 0$?"
   ]
  },
  {
   "cell_type": "code",
   "execution_count": null,
   "metadata": {
    "deletable": false,
    "editable": false,
    "run_control": {
     "frozen": true
    },
    "solution2": "hidden"
   },
   "outputs": [],
   "source": [
    "lm2 = smf.ols('y~x2', data).fit()\n",
    "lm2.summary()"
   ]
  },
  {
   "cell_type": "markdown",
   "metadata": {
    "deletable": false,
    "editable": false,
    "run_control": {
     "frozen": true
    },
    "solution2": "hidden"
   },
   "source": [
    "The fit has improved according to the $F$-statistic, but not as much as when predicting on `x1` only. The $p$-value for $\\beta_2$ is virtually zero and we can reject the null hypothesis $H_0: \\beta_2 = 0$."
   ]
  },
  {
   "cell_type": "code",
   "execution_count": null,
   "metadata": {},
   "outputs": [],
   "source": []
  },
  {
   "cell_type": "markdown",
   "metadata": {
    "deletable": false,
    "editable": false,
    "run_control": {
     "frozen": true
    },
    "solution2": "hidden",
    "solution2_first": true
   },
   "source": [
    "### F. Comparing Results\n",
    "\n",
    "Do the results obtained in C to E contradict each other? Explain your answer."
   ]
  },
  {
   "cell_type": "markdown",
   "metadata": {
    "deletable": false,
    "editable": false,
    "run_control": {
     "frozen": true
    },
    "solution2": "hidden"
   },
   "source": [
    "No they don't contradict each other. The reason we can not reject $H_0: \\beta_2 = 0$ in the full fit is that $x_2$ has a strong linear correlation with $x_1$. That is, $x_2$ does not add any extra information. In the single predictor fits the predictor carries all the information (again due to the strong linear correlation) and we can therefore reject the null hyposthesis in both cases."
   ]
  },
  {
   "cell_type": "code",
   "execution_count": null,
   "metadata": {},
   "outputs": [],
   "source": []
  },
  {
   "cell_type": "markdown",
   "metadata": {
    "deletable": false,
    "editable": false,
    "run_control": {
     "frozen": true
    },
    "solution2": "hidden",
    "solution2_first": true
   },
   "source": [
    "### G. Adding a Bad Measurement\n",
    "\n",
    "Now suppose we obtain one additional measurement, which was unfortunately wrongly measured.\n",
    "\n",
    "```python\n",
    "data.loc[data.shape[0]] = [6, 0.1, 0.8]\n",
    "```\n",
    "Re-fit the three linear models from C to E using this new data set. What effect does the bad observation have on each of the models? Is the new observation an outlier in any of the models? A high-leverage point? Both? Explain your answers.  "
   ]
  },
  {
   "cell_type": "code",
   "execution_count": null,
   "metadata": {
    "deletable": false,
    "editable": false,
    "run_control": {
     "frozen": true
    },
    "solution2": "hidden"
   },
   "outputs": [],
   "source": [
    "data.loc[data.shape[0]] = [6, 0.1, 0.8]\n",
    "data.tail()"
   ]
  },
  {
   "cell_type": "code",
   "execution_count": null,
   "metadata": {
    "deletable": false,
    "editable": false,
    "run_control": {
     "frozen": true
    },
    "solution2": "hidden"
   },
   "outputs": [],
   "source": [
    "lm = smf.ols('y~x1+x2', data).fit()\n",
    "lm.summary().tables[1]"
   ]
  },
  {
   "cell_type": "markdown",
   "metadata": {
    "deletable": false,
    "editable": false,
    "run_control": {
     "frozen": true
    },
    "solution2": "hidden"
   },
   "source": [
    "Judging from the $p$ values we can now clearly reject the null hypothesis for $\\beta_2$, but barely for $\\beta_1$. However, the estimated parameters are far from the true values. The one bad measurement had a large impact on the results."
   ]
  },
  {
   "cell_type": "code",
   "execution_count": null,
   "metadata": {
    "deletable": false,
    "editable": false,
    "run_control": {
     "frozen": true
    },
    "scrolled": false,
    "solution2": "hidden"
   },
   "outputs": [],
   "source": [
    "fig = lmplots.plot(lm)\n",
    "plt.show()"
   ]
  },
  {
   "cell_type": "markdown",
   "metadata": {
    "deletable": false,
    "editable": false,
    "run_control": {
     "frozen": true
    },
    "solution2": "hidden"
   },
   "source": [
    "The bad measurement is among the outliers, but not extreme compared to the other outliers. The bad observation has extremely high leverage, lying out side the 0.5 Cook's distance contour. This is a clear indication that something is wrong with this observation."
   ]
  },
  {
   "cell_type": "code",
   "execution_count": null,
   "metadata": {
    "deletable": false,
    "editable": false,
    "run_control": {
     "frozen": true
    },
    "solution2": "hidden"
   },
   "outputs": [],
   "source": [
    "lm1 = smf.ols('y~x1', data).fit()\n",
    "lm1.summary().tables[1]"
   ]
  },
  {
   "cell_type": "markdown",
   "metadata": {
    "deletable": false,
    "editable": false,
    "run_control": {
     "frozen": true
    },
    "solution2": "hidden"
   },
   "source": [
    "The $p$-value for $\\beta_1$ is virtually zeror so we can reject $H_0: \\beta_1 = 0$. The values of the parameters are close to the true values."
   ]
  },
  {
   "cell_type": "code",
   "execution_count": null,
   "metadata": {
    "deletable": false,
    "editable": false,
    "run_control": {
     "frozen": true
    },
    "scrolled": false,
    "solution2": "hidden"
   },
   "outputs": [],
   "source": [
    "fig = lmplots.plot(lm1)\n",
    "plt.show()"
   ]
  },
  {
   "cell_type": "markdown",
   "metadata": {
    "deletable": false,
    "editable": false,
    "run_control": {
     "frozen": true
    },
    "solution2": "hidden"
   },
   "source": [
    "In this fit the new observation is the most extreme outlier. It also has high leverage, but well inside the 0.5 Cook's distance contour. We would still conclude something wrong with this observation, but observation 71 looks equally bad."
   ]
  },
  {
   "cell_type": "code",
   "execution_count": null,
   "metadata": {
    "deletable": false,
    "editable": false,
    "run_control": {
     "frozen": true
    },
    "solution2": "hidden"
   },
   "outputs": [],
   "source": [
    "lm2 = smf.ols('y~x2', data).fit()\n",
    "lm2.summary().tables[1]"
   ]
  },
  {
   "cell_type": "markdown",
   "metadata": {
    "deletable": false,
    "editable": false,
    "run_control": {
     "frozen": true
    },
    "solution2": "hidden"
   },
   "source": [
    "The $p$-value for $\\beta_2$ is virtually zero, but the fitted parameter value is far from the truth."
   ]
  },
  {
   "cell_type": "code",
   "execution_count": null,
   "metadata": {
    "deletable": false,
    "editable": false,
    "run_control": {
     "frozen": true
    },
    "scrolled": false,
    "solution2": "hidden"
   },
   "outputs": [],
   "source": [
    "fig = lmplots.plot(lm2, annotations=5)\n",
    "plt.show()"
   ]
  },
  {
   "cell_type": "markdown",
   "metadata": {
    "deletable": false,
    "editable": false,
    "run_control": {
     "frozen": true
    },
    "solution2": "hidden"
   },
   "source": [
    "The new observation is not among the outliers in the `y~x2` fit. But the leverage is very high, approaching the 0.5 Cook's distance contour."
   ]
  },
  {
   "cell_type": "markdown",
   "metadata": {
    "deletable": false,
    "editable": false,
    "run_control": {
     "frozen": true
    },
    "solution2": "hidden"
   },
   "source": [
    "In summary, the bad observation affects the full `y~x1+x2` fit most. This is because it does not follow the true correlation between $x_2$ and $x_1$ at all. This can also be seen in the $x_2$ versus $x_1$ scatter plot."
   ]
  },
  {
   "cell_type": "code",
   "execution_count": null,
   "metadata": {
    "deletable": false,
    "editable": false,
    "run_control": {
     "frozen": true
    },
    "solution2": "hidden"
   },
   "outputs": [],
   "source": [
    "ax = sns.scatterplot(x='x1', y='x2', data=data)\n",
    "x1_new, x2_new = data.iloc[100]['x1'], data.iloc[100]['x2']\n",
    "ax = sns.scatterplot([x1_new], [x2_new])\n",
    "ax.annotate(100, (x1_new, x2_new))\n",
    "plt.show()"
   ]
  },
  {
   "cell_type": "code",
   "execution_count": null,
   "metadata": {},
   "outputs": [],
   "source": []
  }
 ],
 "metadata": {
  "kernelspec": {
   "display_name": "Python 3",
   "language": "python",
   "name": "python3"
  },
  "language_info": {
   "codemirror_mode": {
    "name": "ipython",
    "version": 3
   },
   "file_extension": ".py",
   "mimetype": "text/x-python",
   "name": "python",
   "nbconvert_exporter": "python",
   "pygments_lexer": "ipython3",
   "version": "3.7.4"
  }
 },
 "nbformat": 4,
 "nbformat_minor": 2
}
