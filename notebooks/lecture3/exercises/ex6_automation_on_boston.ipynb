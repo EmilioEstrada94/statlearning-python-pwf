{
 "cells": [
  {
   "cell_type": "markdown",
   "metadata": {
    "deletable": false,
    "editable": false,
    "run_control": {
     "frozen": true
    }
   },
   "source": [
    "#### Introduction to Statistical Learning, Exercise 3.6\n",
    "\n",
    "__Please do yourself a favour and only look at the solutions after you honestly tried to solve the exercises.__\n",
    "\n",
    "# Boston Data Set, Automation\n",
    "\n",
    "We will further investigate the `Boston` data set, trying to predict the crime rate. We are going to fit a lot of models and compare the results. This requires some automation, ie. writing some loops and such.\n",
    "\n"
   ]
  },
  {
   "cell_type": "code",
   "execution_count": null,
   "metadata": {},
   "outputs": [],
   "source": [
    "import numpy as np\n",
    "import pandas as pd\n",
    "import matplotlib.pyplot as plt\n",
    "import seaborn as sns\n",
    "import statsmodels.api as sm\n",
    "import statsmodels.formula.api as smf\n",
    "from islpy import datasets, utils, lmplots\n",
    "sns.set()\n",
    "%matplotlib inline"
   ]
  },
  {
   "cell_type": "markdown",
   "metadata": {
    "deletable": false,
    "editable": false,
    "run_control": {
     "frozen": true
    },
    "solution2": "hidden",
    "solution2_first": true
   },
   "source": [
    "### A. Regression for each Predictor\n",
    "\n",
    "For each predictor, fit a *simple linear regression* model with `crim` as the response. Describe your results. In which of the models do you find a statistically significant relationship between the predictor and the response? Produce some plots to back up your assertions.\n",
    "\n"
   ]
  },
  {
   "cell_type": "code",
   "execution_count": null,
   "metadata": {},
   "outputs": [],
   "source": []
  },
  {
   "cell_type": "code",
   "execution_count": null,
   "metadata": {
    "deletable": false,
    "editable": false,
    "run_control": {
     "frozen": true
    },
    "solution2": "hidden"
   },
   "outputs": [],
   "source": [
    "boston = datasets.Boston()\n",
    "boston.head()"
   ]
  },
  {
   "cell_type": "code",
   "execution_count": null,
   "metadata": {
    "deletable": false,
    "editable": false,
    "run_control": {
     "frozen": true
    },
    "solution2": "hidden"
   },
   "outputs": [],
   "source": [
    "lms = {}\n",
    "for pred in boston.columns.drop('crim'):\n",
    "    lms[pred] = smf.ols(f'crim~{pred}', boston).fit()"
   ]
  },
  {
   "cell_type": "code",
   "execution_count": null,
   "metadata": {
    "deletable": false,
    "editable": false,
    "run_control": {
     "frozen": true
    },
    "solution2": "hidden"
   },
   "outputs": [],
   "source": [
    "ps = [lm.pvalues[1] for lm in lms.values()]\n",
    "fs = [lm.fvalue for lm in lms.values()]\n",
    "coeff = [lm.params[1] for lm in lms.values()]\n",
    "err = [lm.bse[1] for lm in lms.values()]\n",
    "\n",
    "results = pd.DataFrame({'p_value': ps, 'f_stat': fs, 'coeff': coeff, 'err': err},\n",
    "                       index=lms.keys())\n",
    "results.sort_values(by='p_value')"
   ]
  },
  {
   "cell_type": "markdown",
   "metadata": {
    "deletable": false,
    "editable": false,
    "run_control": {
     "frozen": true
    },
    "solution2": "hidden"
   },
   "source": [
    "According to the $p$-values, we can reject the null hypothesis $H_0: \\beta_1 = 0$ for all but one (`chas`) of the models.\n",
    "\n",
    "As expected in this scenario, we observe high $F$-statistic values for low $p$-values.\n",
    "\n",
    "As examples, we plot the fit results of the `lstat` and `nox` model."
   ]
  },
  {
   "cell_type": "code",
   "execution_count": null,
   "metadata": {
    "deletable": false,
    "editable": false,
    "run_control": {
     "frozen": true
    },
    "solution2": "hidden"
   },
   "outputs": [],
   "source": [
    "fig, ax = plt.subplots(1, 2, figsize=(12, 4.5))\n",
    "lmplots.plot_fit(lms['lstat'], 'lstat', ax=ax[0], show_pi=True, lowess=True, legend=True)\n",
    "lmplots.plot_fit(lms['nox'], 'nox', ax=ax[1], show_pi=True, lowess=True, legend=True)\n",
    "plt.show()"
   ]
  },
  {
   "cell_type": "markdown",
   "metadata": {
    "deletable": false,
    "editable": false,
    "run_control": {
     "frozen": true
    },
    "solution2": "hidden",
    "solution2_first": true
   },
   "source": [
    "### B. Multiple Linear Regression\n",
    "\n",
    "Fit a multiple linear regression model to the `Boston` data set with `crim` as the response and all other variables as predictors. For which predictors can we reject the null Hypothesis $H_0: \\beta_j = 0$?"
   ]
  },
  {
   "cell_type": "code",
   "execution_count": null,
   "metadata": {},
   "outputs": [],
   "source": []
  },
  {
   "cell_type": "code",
   "execution_count": null,
   "metadata": {
    "deletable": false,
    "editable": false,
    "run_control": {
     "frozen": true
    },
    "solution2": "hidden"
   },
   "outputs": [],
   "source": [
    "formula = 'crim~' + '+'.join(boston.columns.drop('crim'))\n",
    "lm = smf.ols(formula, boston).fit()\n",
    "lm.pvalues[lm.pvalues.lt(0.05)].sort_values()"
   ]
  },
  {
   "cell_type": "markdown",
   "metadata": {
    "deletable": false,
    "editable": false,
    "run_control": {
     "frozen": true
    },
    "solution2": "hidden"
   },
   "source": [
    "We can reject the null hypothesis $H_0: \\beta_j = 0$ for `rad`, `dis`, `medv`, `zn` and `black` with 95% confidence. However, the evidence for $\\beta_\\mathrm{black} \\ne 0$ is much weaker than for the others."
   ]
  },
  {
   "cell_type": "markdown",
   "metadata": {
    "deletable": false,
    "editable": false,
    "run_control": {
     "frozen": true
    },
    "solution2": "hidden",
    "solution2_first": true
   },
   "source": [
    "### C. Coefficient Comparison\n",
    "\n",
    "How do your results from __A__ compare to your results from __B__?\n",
    "\n",
    "Produce a scatter plot of the coefficients from __A__ versus the coefficients from __B__, ignoring the intercept. That is, the plot should have one point for each predictor with the $x$/$y$ coordinates being the coefficients from __B__/__A__.  "
   ]
  },
  {
   "cell_type": "code",
   "execution_count": null,
   "metadata": {},
   "outputs": [],
   "source": []
  },
  {
   "cell_type": "markdown",
   "metadata": {
    "deletable": false,
    "editable": false,
    "run_control": {
     "frozen": true
    },
    "solution2": "hidden"
   },
   "source": [
    "In the multiple linear regression a lot of the coefficients have $p$-values > 0.05. Compared the results from __A__ this suggests the presence of strong correlations among the predictors."
   ]
  },
  {
   "cell_type": "code",
   "execution_count": null,
   "metadata": {
    "deletable": false,
    "editable": false,
    "run_control": {
     "frozen": true
    },
    "solution2": "hidden"
   },
   "outputs": [],
   "source": [
    "coeff_a = [m.params[1] for m in lms.values()]\n",
    "coeff_b = lm.params[1:]\n",
    "ax = sns.scatterplot(coeff_b, coeff_a)\n",
    "ax.set_xlabel('Multiple Linear Regression')\n",
    "ax.set_ylabel('Simple Linear Regression')\n",
    "for name, x, y in zip(boston.columns.drop('crim'), coeff_b, coeff_a):\n",
    "    ax.annotate(name, (x, y))"
   ]
  },
  {
   "cell_type": "markdown",
   "metadata": {
    "deletable": false,
    "editable": false,
    "run_control": {
     "frozen": true
    },
    "solution2": "hidden"
   },
   "source": [
    "The coefficient for `nox` is curious: it changed from strongly positive to strongly negative."
   ]
  },
  {
   "cell_type": "markdown",
   "metadata": {
    "deletable": false,
    "editable": false,
    "run_control": {
     "frozen": true
    },
    "solution2": "hidden",
    "solution2_first": true
   },
   "source": [
    "### D. Non-linearity\n",
    "\n",
    "Is there evidence of non-linear relations to the response for any of the predictors? To answer this question, for each predictor $X$, fit a model of the form\n",
    "\n",
    "$$ Y = \\beta_0 + \\beta_1 X + \\beta_2 X^2 + \\beta_3 X^3 +\\epsilon$$"
   ]
  },
  {
   "cell_type": "code",
   "execution_count": null,
   "metadata": {
    "deletable": false,
    "editable": false,
    "run_control": {
     "frozen": true
    },
    "solution2": "hidden"
   },
   "outputs": [],
   "source": [
    "lms = {}\n",
    "for pred in boston.columns.drop('crim'):\n",
    "    lm = smf.ols(f'crim~{pred}+I({pred}**2)+I({pred}**3)', boston).fit()\n",
    "    lms[pred] = lm"
   ]
  },
  {
   "cell_type": "code",
   "execution_count": null,
   "metadata": {
    "deletable": false,
    "editable": false,
    "run_control": {
     "frozen": true
    },
    "solution2": "hidden"
   },
   "outputs": [],
   "source": [
    "results = pd.DataFrame(np.zeros((boston.shape[1] - 1, 6)), columns=[\n",
    "                 'c1', 'c2', 'c3', 'p1', 'p2', 'p3'])\n",
    "results.set_index(boston.columns.drop('crim'), inplace=True)\n",
    "buffer = np.zeros(6)\n",
    "for pred in lms:\n",
    "    lm = lms[pred]\n",
    "    buffer[:3] = lm.params[1:].values\n",
    "    buffer[3:] = lm.pvalues[1:].values\n",
    "    results.loc[pred] = buffer\n",
    "    \n",
    "results[(results.p2 < 0.05) | (results.p3 < 0.05)]"
   ]
  },
  {
   "cell_type": "markdown",
   "metadata": {
    "deletable": false,
    "editable": false,
    "run_control": {
     "frozen": true
    },
    "solution2": "hidden"
   },
   "source": [
    "The table above shows the coefficients and $p$-values for the predictors that show evidence for non-linear relationships to the response. We plot the fit results for two of them. "
   ]
  },
  {
   "cell_type": "code",
   "execution_count": null,
   "metadata": {
    "deletable": false,
    "editable": false,
    "run_control": {
     "frozen": true
    },
    "solution2": "hidden"
   },
   "outputs": [],
   "source": [
    "fig, (ax1, ax2) = plt.subplots(1, 2, figsize=(12, 4.5))\n",
    "ax = lmplots.plot_fit(lms['nox'], 'nox', ax=ax1)\n",
    "ax = lmplots.plot_fit(lms['medv'], 'medv', ax=ax2)"
   ]
  },
  {
   "cell_type": "code",
   "execution_count": null,
   "metadata": {},
   "outputs": [],
   "source": []
  }
 ],
 "metadata": {
  "kernelspec": {
   "display_name": "Python 3",
   "language": "python",
   "name": "python3"
  },
  "language_info": {
   "codemirror_mode": {
    "name": "ipython",
    "version": 3
   },
   "file_extension": ".py",
   "mimetype": "text/x-python",
   "name": "python",
   "nbconvert_exporter": "python",
   "pygments_lexer": "ipython3",
   "version": "3.7.4"
  }
 },
 "nbformat": 4,
 "nbformat_minor": 2
}
