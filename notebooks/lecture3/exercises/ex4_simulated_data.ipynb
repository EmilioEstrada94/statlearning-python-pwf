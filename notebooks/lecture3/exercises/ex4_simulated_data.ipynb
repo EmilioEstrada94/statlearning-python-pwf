{
 "cells": [
  {
   "cell_type": "markdown",
   "metadata": {
    "deletable": false,
    "editable": false,
    "run_control": {
     "frozen": true
    }
   },
   "source": [
    "#### Introduction to Statistical Learning, Exercise 3.4\n",
    "\n",
    "__Please do yourself a favour and only look at the solutions after you honestly tried to solve the exercises.__\n",
    "\n",
    "# Varying Noise in Simulated Data\n",
    "\n",
    "We will simulate a data set and investigate how things change with varying parameters of the simulation. This allows us to evaluate our models against the simulation truth.\n",
    "\n",
    "We will use `numpy`'s random generator facilities for the simulation. If you want reproducible results you should set the random seed explicitly like this at the beginning (the actual seed value does not matter):\n",
    "\n",
    "```python\n",
    "np.random.seed(seed=123)\n",
    "```\n",
    "\n",
    " "
   ]
  },
  {
   "cell_type": "code",
   "execution_count": null,
   "metadata": {},
   "outputs": [],
   "source": [
    "import numpy as np\n",
    "import pandas as pd\n",
    "import matplotlib.pyplot as plt\n",
    "import seaborn as sns\n",
    "import statsmodels.api as sm\n",
    "import statsmodels.formula.api as smf\n",
    "from islpwf import datasets, utils, lmplots\n",
    "sns.set()\n",
    "%matplotlib inline"
   ]
  },
  {
   "cell_type": "markdown",
   "metadata": {
    "deletable": false,
    "editable": false,
    "run_control": {
     "frozen": true
    },
    "solution2": "hidden",
    "solution2_first": true
   },
   "source": [
    "### A. Simulate the Feature\n",
    "\n",
    "Using the `np.random.normal()` function, create a a vector `x` containing a 100 observations drawn from a $N(0, 1)$ distribution. This represents the feature $X$."
   ]
  },
  {
   "cell_type": "code",
   "execution_count": null,
   "metadata": {
    "deletable": false,
    "editable": false,
    "run_control": {
     "frozen": true
    },
    "solution2": "hidden"
   },
   "outputs": [],
   "source": [
    "np.random.seed(seed=123)  # we only need to do this once at the start\n",
    "x = np.random.normal(size=100)\n",
    "x"
   ]
  },
  {
   "cell_type": "code",
   "execution_count": null,
   "metadata": {},
   "outputs": [],
   "source": []
  },
  {
   "cell_type": "markdown",
   "metadata": {
    "deletable": false,
    "editable": false,
    "run_control": {
     "frozen": true
    },
    "solution2": "hidden",
    "solution2_first": true
   },
   "source": [
    "### B. Simulate the Noise\n",
    "\n",
    "Using the `np.random.normal()` function, create a a vector `eps` containing a 100 observations drawn from a $N(0, 0.5)$ distribution. That is, a normal distribution with mean 0 and standard deviation 0.5. This represents the noise $\\epsilon$."
   ]
  },
  {
   "cell_type": "code",
   "execution_count": null,
   "metadata": {
    "deletable": false,
    "editable": false,
    "run_control": {
     "frozen": true
    },
    "solution2": "hidden"
   },
   "outputs": [],
   "source": [
    "eps = np.random.normal(0, 0.5, size=100)\n",
    "eps"
   ]
  },
  {
   "cell_type": "code",
   "execution_count": null,
   "metadata": {},
   "outputs": [],
   "source": []
  },
  {
   "cell_type": "markdown",
   "metadata": {
    "deletable": false,
    "editable": false,
    "run_control": {
     "frozen": true
    },
    "solution2": "hidden",
    "solution2_first": true
   },
   "source": [
    "### C. Simulate the Response\n",
    "\n",
    "Using the vectors `x` and `eps`, generate a vector `y` according to the following model:\n",
    "\n",
    "$$ Y = -1 + 0.5 X + \\epsilon $$\n",
    "\n",
    "This represents the response $Y$. What is the length of the vector `y`? What are the values of $\\beta_0$ and $\\beta_1$ in this model?"
   ]
  },
  {
   "cell_type": "code",
   "execution_count": null,
   "metadata": {
    "deletable": false,
    "editable": false,
    "run_control": {
     "frozen": true
    },
    "solution2": "hidden"
   },
   "outputs": [],
   "source": [
    "y = -1 + 0.5 * x + eps \n",
    "y"
   ]
  },
  {
   "cell_type": "code",
   "execution_count": null,
   "metadata": {
    "deletable": false,
    "editable": false,
    "run_control": {
     "frozen": true
    },
    "solution2": "hidden"
   },
   "outputs": [],
   "source": [
    "y.size, y.shape[0]"
   ]
  },
  {
   "cell_type": "markdown",
   "metadata": {
    "deletable": false,
    "editable": false,
    "run_control": {
     "frozen": true
    },
    "solution2": "hidden"
   },
   "source": [
    "$\\beta_0 = -1$ and $\\beta_1 = 0.5$"
   ]
  },
  {
   "cell_type": "code",
   "execution_count": null,
   "metadata": {},
   "outputs": [],
   "source": []
  },
  {
   "cell_type": "markdown",
   "metadata": {
    "deletable": false,
    "editable": false,
    "run_control": {
     "frozen": true
    },
    "solution2": "hidden",
    "solution2_first": true
   },
   "source": [
    "### D. Plot the y-x Relationship\n",
    "\n",
    "Create a scatter plot of `y` versus `x`. Comment on what you observe."
   ]
  },
  {
   "cell_type": "code",
   "execution_count": null,
   "metadata": {
    "deletable": false,
    "editable": false,
    "run_control": {
     "frozen": true
    },
    "solution2": "hidden"
   },
   "outputs": [],
   "source": [
    "ax = sns.scatterplot(x, y)"
   ]
  },
  {
   "cell_type": "markdown",
   "metadata": {
    "deletable": false,
    "editable": false,
    "run_control": {
     "frozen": true
    },
    "solution2": "hidden"
   },
   "source": [
    "There is clearly a linear relationship in the simulated data. The simulated noise is also clearly visible."
   ]
  },
  {
   "cell_type": "code",
   "execution_count": null,
   "metadata": {},
   "outputs": [],
   "source": []
  },
  {
   "cell_type": "markdown",
   "metadata": {
    "deletable": false,
    "editable": false,
    "run_control": {
     "frozen": true
    },
    "solution2": "hidden",
    "solution2_first": true
   },
   "source": [
    "### E. Linear Model Fit\n",
    "\n",
    "Fit at least squares model to the data with `y` as the response and `x` as the predictor. Comment on what you observe. How are the estimated parameters $\\hat{\\beta}_0$ and $\\hat{\\beta}_1$ compare to the true values $\\beta_0$ and $\\beta_1$?\n",
    "\n",
    "Hint: you can do this directly with `sm.OLS()` but creating a data frame first and using `smf.ols()` might be more convenient."
   ]
  },
  {
   "cell_type": "code",
   "execution_count": null,
   "metadata": {
    "deletable": false,
    "editable": false,
    "run_control": {
     "frozen": true
    },
    "solution2": "hidden"
   },
   "outputs": [],
   "source": [
    "data = pd.DataFrame({'y': y, 'x':x})\n",
    "data.head()"
   ]
  },
  {
   "cell_type": "code",
   "execution_count": null,
   "metadata": {
    "deletable": false,
    "editable": false,
    "run_control": {
     "frozen": true
    },
    "solution2": "hidden"
   },
   "outputs": [],
   "source": [
    "lm = smf.ols('y~x', data).fit()\n",
    "lm.summary()"
   ]
  },
  {
   "cell_type": "markdown",
   "metadata": {
    "deletable": false,
    "editable": false,
    "run_control": {
     "frozen": true
    },
    "solution2": "hidden"
   },
   "source": [
    "The model fits the data very well. The estimated parameters a close to the true parameters."
   ]
  },
  {
   "cell_type": "code",
   "execution_count": null,
   "metadata": {},
   "outputs": [],
   "source": []
  },
  {
   "cell_type": "markdown",
   "metadata": {
    "deletable": false,
    "editable": false,
    "run_control": {
     "frozen": true
    },
    "solution2": "hidden",
    "solution2_first": true
   },
   "source": [
    "### F. Plotting Estimate & Truth\n",
    "\n",
    "Make a scatter plot of `y` versus `x` and overlay the *population regression line* and the *least squares line*. Create an appropriate legend by using labels and the `legend()` function. "
   ]
  },
  {
   "cell_type": "code",
   "execution_count": null,
   "metadata": {
    "deletable": false,
    "editable": false,
    "run_control": {
     "frozen": true
    },
    "solution2": "hidden"
   },
   "outputs": [],
   "source": [
    "ax = sns.scatterplot(x='x', y='y', data=data)\n",
    "xs = np.linspace(*ax.get_xlim(), 10)\n",
    "y_true = -1 + 0.5 * xs\n",
    "y_fit = lm.predict({'x': xs})\n",
    "ax.plot(xs, y_true, label='truth')\n",
    "ax.plot(xs, y_fit, color='C1', label='fit')\n",
    "ax.legend()\n",
    "plt.show()"
   ]
  },
  {
   "cell_type": "code",
   "execution_count": null,
   "metadata": {},
   "outputs": [],
   "source": []
  },
  {
   "cell_type": "markdown",
   "metadata": {
    "deletable": false,
    "editable": false,
    "run_control": {
     "frozen": true
    },
    "solution2": "hidden",
    "solution2_first": true
   },
   "source": [
    "### G. Quadratic Term\n",
    "\n",
    "Now fit a model that uses `x` and `x`${}^2$ as the predictors. Does the quadratic term improve the model fit? Explain you answer. "
   ]
  },
  {
   "cell_type": "code",
   "execution_count": null,
   "metadata": {
    "deletable": false,
    "editable": false,
    "run_control": {
     "frozen": true
    },
    "solution2": "hidden"
   },
   "outputs": [],
   "source": [
    "lm2 = smf.ols('y~x+I(x**2)', data).fit()\n",
    "lm2.summary()"
   ]
  },
  {
   "cell_type": "markdown",
   "metadata": {
    "deletable": false,
    "editable": false,
    "run_control": {
     "frozen": true
    },
    "solution2": "hidden"
   },
   "source": [
    "No, the quadratic term does *not* improve the model fit; the $F$-statistic is significantly lower. Also the $p$-value of the quadratic term is very high. This is of course expected, because the data has a truly linear relationship."
   ]
  },
  {
   "cell_type": "code",
   "execution_count": null,
   "metadata": {},
   "outputs": [],
   "source": []
  },
  {
   "cell_type": "markdown",
   "metadata": {
    "deletable": false,
    "editable": false,
    "run_control": {
     "frozen": true
    },
    "solution2": "hidden",
    "solution2_first": true
   },
   "source": [
    "### H. Less Noise\n",
    "\n",
    "Repeat E and F after creating a new data set with *less* noise. This can be achieved by creating the `eps` vector with a smaller standard deviation."
   ]
  },
  {
   "cell_type": "code",
   "execution_count": null,
   "metadata": {
    "deletable": false,
    "editable": false,
    "run_control": {
     "frozen": true
    },
    "solution2": "hidden"
   },
   "outputs": [],
   "source": [
    "eps = np.random.normal(0, 0.1, size=100)\n",
    "y = -1 + 0.5 * x + eps\n",
    "data_less = pd.DataFrame({'y': y, 'x':x})"
   ]
  },
  {
   "cell_type": "code",
   "execution_count": null,
   "metadata": {
    "deletable": false,
    "editable": false,
    "run_control": {
     "frozen": true
    },
    "solution2": "hidden"
   },
   "outputs": [],
   "source": [
    "lm_less = smf.ols('y~x', data_less).fit()\n",
    "lm_less.summary()"
   ]
  },
  {
   "cell_type": "markdown",
   "metadata": {
    "deletable": false,
    "editable": false,
    "run_control": {
     "frozen": true
    },
    "solution2": "hidden"
   },
   "source": [
    "The model fit has improved, as evidenced by the larger $F$-statistic. The estimated parameters are very close to the true parameters."
   ]
  },
  {
   "cell_type": "code",
   "execution_count": null,
   "metadata": {
    "deletable": false,
    "editable": false,
    "run_control": {
     "frozen": true
    },
    "solution2": "hidden"
   },
   "outputs": [],
   "source": [
    "ax = sns.scatterplot(x='x', y='y', data=data_less)\n",
    "xs = np.linspace(*ax.get_xlim(), 10)\n",
    "y_true = -1 + 0.5 * xs\n",
    "y_fit = lm_less.predict({'x': xs})\n",
    "ax.plot(xs, y_true, label='truth')\n",
    "ax.plot(xs, y_fit, color='C1', label='fit')\n",
    "ax.legend()\n",
    "plt.show()"
   ]
  },
  {
   "cell_type": "markdown",
   "metadata": {
    "deletable": false,
    "editable": false,
    "run_control": {
     "frozen": true
    },
    "solution2": "hidden"
   },
   "source": [
    "The fitted line almost exactly matches the true line."
   ]
  },
  {
   "cell_type": "code",
   "execution_count": null,
   "metadata": {},
   "outputs": [],
   "source": []
  },
  {
   "cell_type": "markdown",
   "metadata": {
    "deletable": false,
    "editable": false,
    "run_control": {
     "frozen": true
    },
    "solution2": "hidden",
    "solution2_first": true
   },
   "source": [
    "### I. More Noise\n",
    "\n",
    "Repeat E and F after creating a new data set with *more* noise. This can be achieved by creating the `eps` vector with a larger standard deviation."
   ]
  },
  {
   "cell_type": "code",
   "execution_count": null,
   "metadata": {
    "deletable": false,
    "editable": false,
    "run_control": {
     "frozen": true
    },
    "solution2": "hidden"
   },
   "outputs": [],
   "source": [
    "eps = np.random.normal(0, 1.5, size=100)\n",
    "y = -1 + 0.5 * x + eps\n",
    "data_more = pd.DataFrame({'y': y, 'x':x})"
   ]
  },
  {
   "cell_type": "code",
   "execution_count": null,
   "metadata": {
    "deletable": false,
    "editable": false,
    "run_control": {
     "frozen": true
    },
    "solution2": "hidden"
   },
   "outputs": [],
   "source": [
    "lm_more = smf.ols('y~x', data_more).fit()\n",
    "lm_more.summary()"
   ]
  },
  {
   "cell_type": "markdown",
   "metadata": {
    "deletable": false,
    "editable": false,
    "run_control": {
     "frozen": true
    },
    "solution2": "hidden"
   },
   "source": [
    "The model fit is considerably worse, as evidenced by the small $F$-statistic. The estimated parameters deviate much more from the true parameters."
   ]
  },
  {
   "cell_type": "code",
   "execution_count": null,
   "metadata": {
    "deletable": false,
    "editable": false,
    "run_control": {
     "frozen": true
    },
    "solution2": "hidden"
   },
   "outputs": [],
   "source": [
    "ax = sns.scatterplot(x='x', y='y', data=data_more)\n",
    "xs = np.linspace(*ax.get_xlim(), 10)\n",
    "y_true = -1 + 0.5 * xs\n",
    "y_fit = lm_more.predict({'x': xs})\n",
    "ax.plot(xs, y_true, label='truth')\n",
    "ax.plot(xs, y_fit, color='C1', label='fit')\n",
    "ax.legend()\n",
    "plt.show()"
   ]
  },
  {
   "cell_type": "markdown",
   "metadata": {
    "deletable": false,
    "editable": false,
    "run_control": {
     "frozen": true
    },
    "solution2": "hidden"
   },
   "source": [
    "The fitted line now deviates considerably from the true line. "
   ]
  },
  {
   "cell_type": "code",
   "execution_count": null,
   "metadata": {},
   "outputs": [],
   "source": []
  },
  {
   "cell_type": "markdown",
   "metadata": {
    "deletable": false,
    "editable": false,
    "run_control": {
     "frozen": true
    },
    "solution2": "hidden",
    "solution2_first": true
   },
   "source": [
    "### J. Confidence Intervals\n",
    "\n",
    "What are the confidence intervals for the\n",
    "parameters $\\beta_0$ and $\\beta_1$ in the\n",
    "three model fits? Comment on your results."
   ]
  },
  {
   "cell_type": "code",
   "execution_count": null,
   "metadata": {
    "deletable": false,
    "editable": false,
    "run_control": {
     "frozen": true
    },
    "solution2": "hidden"
   },
   "outputs": [],
   "source": [
    "print('Normal:\\n', lm.conf_int())\n",
    "print('\\nLess noise:\\n', lm_less.conf_int())\n",
    "print('\\nMore noise:\\n', lm_more.conf_int())"
   ]
  },
  {
   "cell_type": "markdown",
   "metadata": {
    "deletable": false,
    "editable": false,
    "run_control": {
     "frozen": true
    },
    "solution2": "hidden"
   },
   "source": [
    "The confidence intervals clearly depend on the noise: the more noise there is the wider they are, as expected."
   ]
  },
  {
   "cell_type": "code",
   "execution_count": null,
   "metadata": {},
   "outputs": [],
   "source": []
  }
 ],
 "metadata": {
  "kernelspec": {
   "display_name": "Python 3",
   "language": "python",
   "name": "python3"
  },
  "language_info": {
   "codemirror_mode": {
    "name": "ipython",
    "version": 3
   },
   "file_extension": ".py",
   "mimetype": "text/x-python",
   "name": "python",
   "nbconvert_exporter": "python",
   "pygments_lexer": "ipython3",
   "version": "3.7.4"
  }
 },
 "nbformat": 4,
 "nbformat_minor": 2
}
