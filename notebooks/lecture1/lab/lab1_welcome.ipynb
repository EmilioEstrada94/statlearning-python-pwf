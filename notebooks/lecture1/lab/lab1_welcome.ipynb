{
 "cells": [
  {
   "cell_type": "markdown",
   "metadata": {},
   "source": [
    "#### Introduction to Statistical Learning, Lab 1.1\n",
    "\n",
    "# Welcome\n",
    "\n",
    "Welcome to the course. We need to make sure things work for everyone.\n",
    "\n",
    "We will be using [Jupyter Notebooks](https://jupyter.org/) for interactively running Python code throughout the course. The is the first *Lab*, introducing notebooks. Each lecture will be followed by some *Labs* and some hands-on *Exercises* (except there are no exercises for the first lecture). \n",
    "\n",
    "Go to \"Help\" -> \"User Interface Tour\" and go through it; it won't take long. The \"Help\" menu also provides links to documentation of the most relevant Python packages we will use (requires internet connection).\n",
    "\n",
    "A notebook consists of cells. Cells can be *Markdown* or *Code* cells. The type of the current cell can be changed from a drop down menu.\n",
    "\n",
    "Markdown cells (like this one) contain [Markdown](https://help.github.com/en/articles/basic-writing-and-formatting-syntax) text. To edit a markdown cell double click on it. To execute (format) it press `Shift+Enter`.\n",
    "\n",
    "Code cells (like the next one) contain Python code.  To edit a code cell, click on it. To execute a code cell, press `Shift+Enter`. The output will be displayed in an *Output* cell below the code cell. the output can be text from `print()` statements and the like, object representations (as on a Python prompt) or graphics.  Behind the scenes the notebooks use ipython.  Among other things, this means you can use *tab completion* for names in the current scope. \n",
    "\n",
    "Let's try some markdown cells first."
   ]
  },
  {
   "cell_type": "markdown",
   "metadata": {},
   "source": [
    "This is actually a separate markdown cell, although this is not very visible after rendering (formatting).\n",
    "\n",
    "Markdown cells can contain mathematical expressions entered in LaTeX code.\n",
    "\n",
    "For example, an *inline* expression: $y = Xb +\\epsilon$.\n",
    "\n",
    "Or a *display* expressions like this:\n",
    "\n",
    "$$\n",
    " \\hat{\\beta} = (X^TX)^{-1} X^T y\n",
    "$$"
   ]
  },
  {
   "cell_type": "markdown",
   "metadata": {},
   "source": [
    "Let's try some code cells."
   ]
  },
  {
   "cell_type": "code",
   "execution_count": null,
   "metadata": {},
   "outputs": [],
   "source": [
    "# make sure we can import some relevant libraries\n",
    "import numpy as np\n",
    "import matplotlib.pyplot as plt\n",
    "import pandas as pd\n",
    "import seaborn as sns\n",
    "import statsmodels as sm\n",
    "import torch\n",
    "from islpwf import datasets"
   ]
  },
  {
   "cell_type": "code",
   "execution_count": null,
   "metadata": {},
   "outputs": [],
   "source": [
    "print(5 + 7)"
   ]
  },
  {
   "cell_type": "code",
   "execution_count": null,
   "metadata": {},
   "outputs": [],
   "source": [
    "l = [1, 2, 3]\n",
    "l"
   ]
  },
  {
   "cell_type": "code",
   "execution_count": null,
   "metadata": {},
   "outputs": [],
   "source": [
    "def double(x):\n",
    "    return 2 * x"
   ]
  },
  {
   "cell_type": "markdown",
   "metadata": {},
   "source": [
    "Now try (in the code cell below) to use *tab completion* to invoke the function we just defined to achieve this:\n",
    "\n",
    "```python\n",
    "double(11)\n",
    "```"
   ]
  },
  {
   "cell_type": "code",
   "execution_count": null,
   "metadata": {},
   "outputs": [],
   "source": []
  }
 ],
 "metadata": {
  "kernelspec": {
   "display_name": "Python 3",
   "language": "python",
   "name": "python3"
  },
  "language_info": {
   "codemirror_mode": {
    "name": "ipython",
    "version": 3
   },
   "file_extension": ".py",
   "mimetype": "text/x-python",
   "name": "python",
   "nbconvert_exporter": "python",
   "pygments_lexer": "ipython3",
   "version": "3.7.4"
  }
 },
 "nbformat": 4,
 "nbformat_minor": 2
}
