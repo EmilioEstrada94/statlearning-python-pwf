{
 "cells": [
  {
   "cell_type": "markdown",
   "metadata": {
    "deletable": false,
    "editable": false,
    "run_control": {
     "frozen": true
    }
   },
   "source": [
    "#### Introduction to Statistical Learning, Exercise 4.2\n",
    "\n",
    "__Please do yourself a favour and only look at the solutions after you honestly tried to solve the exercises.__\n",
    "\n",
    "# Classification on the Auto Data Set\n",
    "\n",
    "In this exercise you will develop a model to predict whether a given car has high or low mileage based on the `Auto` data set."
   ]
  },
  {
   "cell_type": "code",
   "execution_count": null,
   "metadata": {},
   "outputs": [],
   "source": [
    "import numpy as np\n",
    "import pandas as pd\n",
    "import matplotlib.pyplot as plt\n",
    "import seaborn as sns\n",
    "import statsmodels.formula.api as smf\n",
    "import statsmodels.api as sm\n",
    "import patsy\n",
    "from sklearn.discriminant_analysis import LinearDiscriminantAnalysis\n",
    "from sklearn.discriminant_analysis import QuadraticDiscriminantAnalysis\n",
    "from sklearn.neighbors import KNeighborsClassifier\n",
    "from sklearn.preprocessing import StandardScaler\n",
    "from sklearn.metrics import confusion_matrix, classification_report\n",
    "from islpy import datasets, utils, lmplots\n",
    "sns.set()\n",
    "%matplotlib inline"
   ]
  },
  {
   "cell_type": "markdown",
   "metadata": {
    "deletable": false,
    "editable": false,
    "run_control": {
     "frozen": true
    },
    "solution2": "hidden",
    "solution2_first": true
   },
   "source": [
    "### A. Creating a Class Variable\n",
    "\n",
    "Using the `Auto` data set create a category (class) variable `highmpg` that is `True` if `mpg` is above the median of the `mpg` distribution and `False` otherwise.\n",
    "\n",
    "Then create a new data frame from the `Auto` data set with `mpg` replaced by `highmpg`."
   ]
  },
  {
   "cell_type": "code",
   "execution_count": null,
   "metadata": {
    "deletable": false,
    "editable": false,
    "run_control": {
     "frozen": true
    },
    "solution2": "hidden"
   },
   "outputs": [],
   "source": [
    "auto = datasets.Auto()\n",
    "auto.set_index('name', inplace=True)\n",
    "auto.head()"
   ]
  },
  {
   "cell_type": "code",
   "execution_count": null,
   "metadata": {
    "deletable": false,
    "editable": false,
    "run_control": {
     "frozen": true
    },
    "solution2": "hidden"
   },
   "outputs": [],
   "source": [
    "auto['highmpg'] = auto.mpg > auto.mpg.median()\n",
    "auto.drop('mpg', axis=1, inplace=True)\n",
    "auto.head()"
   ]
  },
  {
   "cell_type": "code",
   "execution_count": null,
   "metadata": {},
   "outputs": [],
   "source": []
  },
  {
   "cell_type": "markdown",
   "metadata": {
    "deletable": false,
    "editable": false,
    "run_control": {
     "frozen": true
    },
    "solution2": "hidden",
    "solution2_first": true
   },
   "source": [
    "### B. Visualisation\n",
    "\n",
    "Explore the data set graphically. Which of the predictors might be useful for predicting `highmpg`? Scatter plots and box plots are useful to answer this question. "
   ]
  },
  {
   "cell_type": "code",
   "execution_count": null,
   "metadata": {
    "deletable": false,
    "editable": false,
    "run_control": {
     "frozen": true
    },
    "solution2": "hidden"
   },
   "outputs": [],
   "source": [
    "ax = sns.relplot(x='horsepower', y='displacement', data=auto,\n",
    "                 hue='highmpg', size='weight')"
   ]
  },
  {
   "cell_type": "markdown",
   "metadata": {
    "deletable": false,
    "editable": false,
    "run_control": {
     "frozen": true
    },
    "solution2": "hidden"
   },
   "source": [
    "As one might expect, `horsepower`, `weight` and `displacement` seem to be good predictors."
   ]
  },
  {
   "cell_type": "code",
   "execution_count": null,
   "metadata": {
    "deletable": false,
    "editable": false,
    "run_control": {
     "frozen": true
    },
    "solution2": "hidden"
   },
   "outputs": [],
   "source": [
    "fig, (ax1, ax2, ax3, ax4) = plt.subplots(1, 4, figsize=(12, 5))\n",
    "ax = sns.boxplot(x='highmpg', y='horsepower', data=auto, ax=ax1)\n",
    "ax = sns.boxplot(x='highmpg', y='weight', data=auto, ax=ax2)\n",
    "ax = sns.boxplot(x='highmpg', y='displacement', data=auto, ax=ax3)\n",
    "ax = sns.boxplot(x='highmpg', y='acceleration', data=auto, ax=ax4)\n",
    "plt.tight_layout()"
   ]
  },
  {
   "cell_type": "markdown",
   "metadata": {
    "deletable": false,
    "editable": false,
    "run_control": {
     "frozen": true
    },
    "solution2": "hidden"
   },
   "source": [
    "The box plots confirm our previous findings. The `acceleration` predictor somewhat surprisingly has a weak *negative* correlation with `highmpg`. "
   ]
  },
  {
   "cell_type": "code",
   "execution_count": null,
   "metadata": {
    "deletable": false,
    "editable": false,
    "run_control": {
     "frozen": true
    },
    "solution2": "hidden"
   },
   "outputs": [],
   "source": [
    "fig, (ax1, ax2, ax3) = plt.subplots(1, 3, figsize=(15, 5))\n",
    "ax = sns.scatterplot(x='horsepower', y='acceleration', data=auto, hue='highmpg', ax=ax1)\n",
    "ax = sns.scatterplot(x='displacement', y='acceleration', data=auto, hue='highmpg', ax=ax2)\n",
    "ax = sns.scatterplot(x='weight', y='acceleration', data=auto, hue='highmpg', ax=ax3)\n",
    "plt.tight_layout()"
   ]
  },
  {
   "cell_type": "markdown",
   "metadata": {
    "deletable": false,
    "editable": false,
    "run_control": {
     "frozen": true
    },
    "solution2": "hidden"
   },
   "source": [
    "Some more scatter plots suggest that `acceleration` is not a good predictor, in particular it has strong correlations with `horsepower` and `displacement`. There is also a strong correlation between `horsepower` and `displacement`.\n",
    "\n",
    "We conclude that good predictors are `horsepower` and `weight`."
   ]
  },
  {
   "cell_type": "code",
   "execution_count": null,
   "metadata": {},
   "outputs": [],
   "source": []
  },
  {
   "cell_type": "markdown",
   "metadata": {
    "deletable": false,
    "editable": false,
    "run_control": {
     "frozen": true
    },
    "solution2": "hidden",
    "solution2_first": true
   },
   "source": [
    "### C. Training and Test Data Set\n",
    "\n",
    "Split the data set evenly into a training and a test data set. Find a way to ensure there is no bias in the observations selected for training."
   ]
  },
  {
   "cell_type": "markdown",
   "metadata": {
    "deletable": false,
    "editable": false,
    "run_control": {
     "frozen": true
    },
    "solution2": "hidden"
   },
   "source": [
    "We split the data set by odd/even rows (observations). This should ensure there is no bias in case the observations are somehow ordered."
   ]
  },
  {
   "cell_type": "code",
   "execution_count": null,
   "metadata": {
    "deletable": false,
    "editable": false,
    "run_control": {
     "frozen": true
    },
    "solution2": "hidden"
   },
   "outputs": [],
   "source": [
    "train = auto.iloc[::2]\n",
    "test = auto.iloc[1::2]"
   ]
  },
  {
   "cell_type": "code",
   "execution_count": null,
   "metadata": {
    "deletable": false,
    "editable": false,
    "run_control": {
     "frozen": true
    },
    "solution2": "hidden"
   },
   "outputs": [],
   "source": [
    "train.head()"
   ]
  },
  {
   "cell_type": "code",
   "execution_count": null,
   "metadata": {
    "deletable": false,
    "editable": false,
    "run_control": {
     "frozen": true
    },
    "solution2": "hidden"
   },
   "outputs": [],
   "source": [
    "test.head()"
   ]
  },
  {
   "cell_type": "code",
   "execution_count": null,
   "metadata": {},
   "outputs": [],
   "source": []
  },
  {
   "cell_type": "markdown",
   "metadata": {
    "deletable": false,
    "editable": false,
    "run_control": {
     "frozen": true
    },
    "solution2": "hidden",
    "solution2_first": true
   },
   "source": [
    "### D. LDA Classifier\n",
    "\n",
    "Perform an LDA on the training data set using the variables you deemed most useful in __B__ in order to predict `highmpg`. What is the *test error* of the obtained model?  "
   ]
  },
  {
   "cell_type": "code",
   "execution_count": null,
   "metadata": {
    "deletable": false,
    "editable": false,
    "run_control": {
     "frozen": true
    },
    "solution2": "hidden"
   },
   "outputs": [],
   "source": [
    "x_train = train[['horsepower', 'weight']]\n",
    "y_train = train['highmpg']\n",
    "x_test = test[['horsepower', 'weight']]\n",
    "y_test = test['highmpg']"
   ]
  },
  {
   "cell_type": "code",
   "execution_count": null,
   "metadata": {
    "deletable": false,
    "editable": false,
    "run_control": {
     "frozen": true
    },
    "solution2": "hidden"
   },
   "outputs": [],
   "source": [
    "fit = LinearDiscriminantAnalysis().fit(x_train, y_train)"
   ]
  },
  {
   "cell_type": "code",
   "execution_count": null,
   "metadata": {
    "deletable": false,
    "editable": false,
    "run_control": {
     "frozen": true
    },
    "solution2": "hidden"
   },
   "outputs": [],
   "source": [
    "pred = fit.predict(x_test)\n",
    "cm = confusion_matrix(pred, y_test)\n",
    "test_error = 1 - (cm[0, 0] + cm[1, 1]) / x_test.shape[0]\n",
    "print(f'Test error rate: {test_error:0.2f}%')"
   ]
  },
  {
   "cell_type": "code",
   "execution_count": null,
   "metadata": {
    "deletable": false,
    "editable": false,
    "run_control": {
     "frozen": true
    },
    "solution2": "hidden"
   },
   "outputs": [],
   "source": [
    "x1 = x_train['horsepower']\n",
    "x2 = x_train['weight']\n",
    "ax = sns.scatterplot(x=x1, y=x2, hue=y_train)\n",
    "ax = utils.plot_decision_contour(x1, x2, fit.predict_proba, ax=ax)\n",
    "ax = utils.plot_decision_boundaries(x1, x2, fit.predict_proba, ax=ax)"
   ]
  },
  {
   "cell_type": "code",
   "execution_count": null,
   "metadata": {},
   "outputs": [],
   "source": []
  },
  {
   "cell_type": "markdown",
   "metadata": {
    "deletable": false,
    "editable": false,
    "run_control": {
     "frozen": true
    },
    "solution2": "hidden",
    "solution2_first": true
   },
   "source": [
    "### E. QDA Classifier\n",
    "\n",
    "Repeat __D__ with a QDA model."
   ]
  },
  {
   "cell_type": "code",
   "execution_count": null,
   "metadata": {},
   "outputs": [],
   "source": []
  },
  {
   "cell_type": "code",
   "execution_count": null,
   "metadata": {
    "deletable": false,
    "editable": false,
    "run_control": {
     "frozen": true
    },
    "solution2": "hidden"
   },
   "outputs": [],
   "source": [
    "fit = QuadraticDiscriminantAnalysis().fit(x_train, y_train)"
   ]
  },
  {
   "cell_type": "code",
   "execution_count": null,
   "metadata": {
    "deletable": false,
    "editable": false,
    "run_control": {
     "frozen": true
    },
    "solution2": "hidden"
   },
   "outputs": [],
   "source": [
    "pred = fit.predict(x_test)\n",
    "cm = confusion_matrix(pred, y_test)\n",
    "test_error = 1 - (cm[0, 0] + cm[1, 1]) / x_test.shape[0]\n",
    "print(f'Test error rate: {test_error:0.2f}%')"
   ]
  },
  {
   "cell_type": "code",
   "execution_count": null,
   "metadata": {
    "deletable": false,
    "editable": false,
    "run_control": {
     "frozen": true
    },
    "solution2": "hidden"
   },
   "outputs": [],
   "source": [
    "x1 = x_train['horsepower']\n",
    "x2 = x_train['weight']\n",
    "ax = sns.scatterplot(x=x1, y=x2, hue=y_train)\n",
    "ax = utils.plot_decision_contour(x1, x2, fit.predict_proba, ax=ax)\n",
    "ax = utils.plot_decision_boundaries(x1, x2, fit.predict_proba, ax=ax)"
   ]
  },
  {
   "cell_type": "markdown",
   "metadata": {
    "deletable": false,
    "editable": false,
    "run_control": {
     "frozen": true
    },
    "solution2": "hidden",
    "solution2_first": true
   },
   "source": [
    "### F. Logistic Regression\n",
    "\n",
    "Repeat __D__ with a logistic regression model."
   ]
  },
  {
   "cell_type": "code",
   "execution_count": null,
   "metadata": {
    "deletable": false,
    "editable": false,
    "run_control": {
     "frozen": true
    },
    "solution2": "hidden"
   },
   "outputs": [],
   "source": [
    "x_train_lr = patsy.dmatrix('horsepower+weight', train, return_type='dataframe')\n",
    "x_test_lr = patsy.dmatrix('horsepower+weight', test, return_type='dataframe')"
   ]
  },
  {
   "cell_type": "code",
   "execution_count": null,
   "metadata": {
    "deletable": false,
    "editable": false,
    "run_control": {
     "frozen": true
    },
    "solution2": "hidden"
   },
   "outputs": [],
   "source": [
    "fit = sm.GLM(y_train, x_train_lr, family=sm.families.Binomial()).fit()\n",
    "fit.summary()"
   ]
  },
  {
   "cell_type": "code",
   "execution_count": null,
   "metadata": {
    "deletable": false,
    "editable": false,
    "run_control": {
     "frozen": true
    },
    "solution2": "hidden"
   },
   "outputs": [],
   "source": [
    "pred = fit.predict(x_test_lr) > 0.5\n",
    "cm = confusion_matrix(pred, y_test)\n",
    "test_error = 1 - (cm[0, 0] + cm[1, 1]) / x_test_lr.shape[0]\n",
    "print(f'Test error rate: {test_error:0.2f}%')"
   ]
  },
  {
   "cell_type": "code",
   "execution_count": null,
   "metadata": {},
   "outputs": [],
   "source": []
  },
  {
   "cell_type": "markdown",
   "metadata": {
    "deletable": false,
    "editable": false,
    "run_control": {
     "frozen": true
    },
    "solution2": "hidden",
    "solution2_first": true
   },
   "source": [
    "### G. KNN Classifier\n",
    "\n",
    "Repeat __D__ with a KNN classifier. Vary the value of $k$. Which value of $k$ gives the best (lowest) test error rate?"
   ]
  },
  {
   "cell_type": "code",
   "execution_count": null,
   "metadata": {
    "deletable": false,
    "editable": false,
    "run_control": {
     "frozen": true
    },
    "solution2": "hidden"
   },
   "outputs": [],
   "source": [
    "best_error = 1.0\n",
    "best_k = 1\n",
    "best_fit = None\n",
    "for k in range(1, 11):\n",
    "    fit = KNeighborsClassifier(k).fit(x_train, y_train)\n",
    "    pred = fit.predict(x_test)\n",
    "    cm = confusion_matrix(pred, y_test)\n",
    "    test_error = 1 - (cm[0, 0] + cm[1, 1]) / x_test.shape[0]\n",
    "    if test_error < best_error:\n",
    "        best_error = test_error\n",
    "        best_k = k\n",
    "        best_fit = fit"
   ]
  },
  {
   "cell_type": "code",
   "execution_count": null,
   "metadata": {
    "deletable": false,
    "editable": false,
    "run_control": {
     "frozen": true
    },
    "solution2": "hidden"
   },
   "outputs": [],
   "source": [
    "pred = best_fit.predict(x_test)\n",
    "cm = confusion_matrix(pred, y_test)\n",
    "test_error = 1 - (cm[0, 0] + cm[1, 1]) / x_test.shape[0]\n",
    "print(f'Test error rate (k={best_k}): {test_error:0.2f}%')"
   ]
  },
  {
   "cell_type": "code",
   "execution_count": null,
   "metadata": {
    "deletable": false,
    "editable": false,
    "run_control": {
     "frozen": true
    },
    "solution2": "hidden"
   },
   "outputs": [],
   "source": [
    "x1 = x_train['horsepower']\n",
    "x2 = x_train['weight']\n",
    "ax = sns.scatterplot(x=x1, y=x2, hue=y_train)\n",
    "ax = utils.plot_decision_contour(x1, x2, best_fit.predict_proba, ax=ax)\n",
    "ax = utils.plot_decision_boundaries(x1, x2, best_fit.predict_proba, ax=ax)"
   ]
  },
  {
   "cell_type": "code",
   "execution_count": null,
   "metadata": {},
   "outputs": [],
   "source": []
  }
 ],
 "metadata": {
  "kernelspec": {
   "display_name": "Python 3",
   "language": "python",
   "name": "python3"
  },
  "language_info": {
   "codemirror_mode": {
    "name": "ipython",
    "version": 3
   },
   "file_extension": ".py",
   "mimetype": "text/x-python",
   "name": "python",
   "nbconvert_exporter": "python",
   "pygments_lexer": "ipython3",
   "version": "3.7.4"
  }
 },
 "nbformat": 4,
 "nbformat_minor": 2
}
