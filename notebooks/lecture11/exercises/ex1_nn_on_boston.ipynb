{
 "cells": [
  {
   "cell_type": "markdown",
   "metadata": {},
   "source": [
    "#### Introduction to Statistical Learning, Excercise 11.1\n",
    "\n",
    "# NN Fit on Boston\n",
    "This question uses the variables `dis` (the weighted mean of distances\n",
    "to five Boston employment centers) and `nox` (nitrogen oxides concen-\n",
    "tration in parts per 10 million) from the `Boston` data. We will treat\n",
    "`dis` as the predictor and `nox` as the response.\n",
    "\n",
    "This is the NN version of __E 7.3__."
   ]
  },
  {
   "cell_type": "code",
   "execution_count": null,
   "metadata": {},
   "outputs": [],
   "source": [
    "import pandas as pd\n",
    "import numpy as np\n",
    "import matplotlib as mpl\n",
    "import matplotlib.pyplot as plt\n",
    "import seaborn as sns\n",
    "\n",
    "import statsmodels.api as sm\n",
    "import statsmodels.formula.api as smf\n",
    "from statsmodels.gam.api import GLMGam, BSplines\n",
    "import statsmodels.formula.api as smf\n",
    "\n",
    "from sklearn.preprocessing import scale \n",
    "from sklearn.preprocessing import PolynomialFeatures\n",
    "\n",
    "from islpwf import datasets\n",
    "from patsy import dmatrix\n",
    "sns.set()\n",
    "\n",
    "%matplotlib inline"
   ]
  },
  {
   "cell_type": "markdown",
   "metadata": {},
   "source": [
    "### A. FCNN Model \n",
    "\n",
    "Create an FCNN model to fit the functional relationship between the predictor and the response and train it.\n",
    "\n",
    "Hint: remember to create training and validation data sets. You can use the `neuro` module from `islpwf`."
   ]
  },
  {
   "cell_type": "code",
   "execution_count": null,
   "metadata": {},
   "outputs": [],
   "source": [
    "from islpwf import neuro"
   ]
  },
  {
   "cell_type": "code",
   "execution_count": null,
   "metadata": {},
   "outputs": [],
   "source": [
    "fcnn = neuro.FCNN(layout=(1, 32, 16, 1), out_activation=None)"
   ]
  },
  {
   "cell_type": "code",
   "execution_count": null,
   "metadata": {},
   "outputs": [],
   "source": []
  },
  {
   "cell_type": "markdown",
   "metadata": {},
   "source": [
    "### B.  Hyper Parameter Exploration\n",
    "\n",
    "Try changing the model and training parameters (network layout, epochs, learning rate) in order to improve the results.\n",
    "\n",
    "Hint: produce ROC curves and look for increases in the AUC. Don't forget to call the `eval()` method of the model."
   ]
  },
  {
   "cell_type": "code",
   "execution_count": null,
   "metadata": {},
   "outputs": [],
   "source": []
  },
  {
   "cell_type": "markdown",
   "metadata": {},
   "source": [
    "### C. Comparison to Splines\n",
    "\n",
    "Compare your best NN model to he spline fit results from __E 7.3__."
   ]
  },
  {
   "cell_type": "code",
   "execution_count": null,
   "metadata": {},
   "outputs": [],
   "source": []
  }
 ],
 "metadata": {
  "kernelspec": {
   "display_name": "Python 3",
   "language": "python",
   "name": "python3"
  },
  "language_info": {
   "codemirror_mode": {
    "name": "ipython",
    "version": 3
   },
   "file_extension": ".py",
   "mimetype": "text/x-python",
   "name": "python",
   "nbconvert_exporter": "python",
   "pygments_lexer": "ipython3",
   "version": "3.7.4"
  }
 },
 "nbformat": 4,
 "nbformat_minor": 2
}
