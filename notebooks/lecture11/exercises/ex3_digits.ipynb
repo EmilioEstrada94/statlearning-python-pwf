{
 "cells": [
  {
   "cell_type": "markdown",
   "metadata": {},
   "source": [
    "#### Introduction to Statistical Learning, Excercise 11.3\n",
    "\n",
    "# Handwritten Digits\n",
    "\n",
    "This exercise uses the `Digits` data set. the goal is to classify handwritten digits. You will build a classification NN to do so."
   ]
  },
  {
   "cell_type": "code",
   "execution_count": null,
   "metadata": {},
   "outputs": [],
   "source": [
    "import pandas as pd\n",
    "import numpy as np\n",
    "import matplotlib as mpl\n",
    "import matplotlib.pyplot as plt\n",
    "import seaborn as sns\n",
    "sns.set()\n",
    "\n",
    "from islpwf import datasets, utils, neuro\n",
    "\n",
    "%matplotlib inline"
   ]
  },
  {
   "cell_type": "markdown",
   "metadata": {},
   "source": [
    "### A. The Digits Data Set\n",
    "\n",
    "Read the documentation (help) on the `Digits` data set.\n",
    "\n",
    "Hint: the 256 grey scale values are actually a bitmap of the picture. The first column is the response (class). The data set already comes split into a training and test data set."
   ]
  },
  {
   "cell_type": "code",
   "execution_count": null,
   "metadata": {},
   "outputs": [],
   "source": [
    "train, test = datasets.Digits()\n",
    "train.head()"
   ]
  },
  {
   "cell_type": "code",
   "execution_count": null,
   "metadata": {},
   "outputs": [],
   "source": [
    "plt.imshow(train.iloc[17, 1:].to_numpy().reshape((16, 16)), cmap='Greys')\n",
    "plt.show()\n",
    "print(train.iloc[17, 0])"
   ]
  },
  {
   "cell_type": "code",
   "execution_count": null,
   "metadata": {},
   "outputs": [],
   "source": []
  },
  {
   "cell_type": "markdown",
   "metadata": {},
   "source": [
    "### B.  NN Classification 1 vs 3\n",
    "\n",
    "Define and train a NN classifier to distinguish 1's and 3's.\n",
    "\n",
    "Tune the hyper parameters. What error rates does your best model achieve?\n"
   ]
  },
  {
   "cell_type": "code",
   "execution_count": null,
   "metadata": {},
   "outputs": [],
   "source": []
  },
  {
   "cell_type": "markdown",
   "metadata": {},
   "source": [
    "### C.  NN Classification all Digits\n",
    "\n",
    "Define and train a multi-class NN classifier to classify the handwritten digits.\n",
    "\n",
    "Tune the hyper parameters. What error rates does your best model achieve?\n"
   ]
  },
  {
   "cell_type": "code",
   "execution_count": null,
   "metadata": {},
   "outputs": [],
   "source": []
  }
 ],
 "metadata": {
  "kernelspec": {
   "display_name": "Python 3",
   "language": "python",
   "name": "python3"
  },
  "language_info": {
   "codemirror_mode": {
    "name": "ipython",
    "version": 3
   },
   "file_extension": ".py",
   "mimetype": "text/x-python",
   "name": "python",
   "nbconvert_exporter": "python",
   "pygments_lexer": "ipython3",
   "version": "3.7.4"
  }
 },
 "nbformat": 4,
 "nbformat_minor": 2
}
