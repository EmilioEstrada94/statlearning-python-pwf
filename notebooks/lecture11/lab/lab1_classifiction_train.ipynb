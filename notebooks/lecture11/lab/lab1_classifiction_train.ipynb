{
 "cells": [
  {
   "cell_type": "markdown",
   "metadata": {
    "pycharm": {}
   },
   "source": [
    "# Classifier Training Example 1\n",
    "\n",
    "In this example we train a multi-class classifier.  The reading of input data, torch data set provider and the model definition are provided by imported modules.\n",
    "\n",
    "The raw input data is simply a binary blob of several hundred thousand `np.float32` values in the range \\[-1.0, 1.0\\). Their meaning is defined by a function in  the `dataprovider` module (users can supply their own callables). More specifically, the numbers are interpreted as cartesian (x1, x2) coordinates.  \n",
    "\n",
    "The function `truth_labels_unit_circle` in the `dataprovider` module defines three classes for the (x1, x2) tuples:\n",
    "\n",
    " 1. points outside the unit circle `r = sqrt(x1*x1 + x2*x2) >= 1` (this is considered 'background')\n",
    " 2. points in the unit circle with `x2 <= 0.0` (this is considered 'signal 1')\n",
    " 3. points in the unit circle with `x2 > 0.0` (this is considered 'signal 2')\n",
    " \n",
    "The truth labels are therefore one-hot vectors of dimension 3.  The `dataprovider` dynamically generates the truth labels using the above definition. That is, the truth labels are not stored in the data file, allowing you to use the same data to experiment with different classification problems by simply supplying an appropriate function. In your application the truth lables are likely to be derived from the labeled input data (MC sample). That is not a problem -- simply provide a callable that generates them from your event structure and you are all set.\n",
    "\n",
    "The way the data is read from the file is unecessarily complicated for this simple example. We define a generator function that reads (x1, x2) pairs one-by-one from the file and then re-assemble the points into `np.arrays` and `torch.tensors`.  We could just directly read the whole binary blob into an `np.array` or `torch.tensor` and then reshape it to our needs. However, real life data sets are rarely that easy to access and we would like to provide examples of all necessary components to read more complicated event-oriented data (here an \"event\" is just an (x1, x2) pair).\n",
    "\n",
    "The classifier model is a fully-connected feed-forward neural network. The network layout (number of hidden layers etc. is specified when the model instance is constructed. This makes it straight forward to try different network layouts. The number of input and output nodes must always match the dimension of the parameter space and the number of classes, respectively.\n",
    "\n",
    "We encourage you to experiment with different class definitions, network layouts and other meta parameters. Note that the default classes in this example ensure a reasonably balanced number of class instances.  This is important: if your real life data set is highly imbalanced (e.g. much more background than signal) you *should enforce a balanced data set for training*.\n",
    "\n",
    "Make sure you have a good look at the `dataprovider` and `classification` modules and try to understand what they do.  The `dataprovider` module is not specific to PyTorch in any way -- it is just an example with all the necessary hooks to implement your own data provider suitable for your data source. Read the applicaple PyTorch documentation for the code in the `classification` module."
   ]
  },
  {
   "cell_type": "markdown",
   "metadata": {
    "pycharm": {}
   },
   "source": [
    "#### Setup\n",
    "Import the required modules and make sure our (and only our!) modules are reloaded before code execution."
   ]
  },
  {
   "cell_type": "code",
   "execution_count": 1,
   "metadata": {
    "pycharm": {
     "is_executing": false
    }
   },
   "outputs": [],
   "source": [
    "%reload_ext autoreload\n",
    "%aimport dataprovider, classification\n",
    "%autoreload 1\n",
    "\n",
    "# framework modules\n",
    "import matplotlib.pyplot as plt\n",
    "import torch\n",
    "import torch.utils.data as utils_data\n",
    "import torch.nn as nn\n",
    "\n",
    "# our modules\n",
    "import dataprovider as dp\n",
    "import classification as cl"
   ]
  },
  {
   "cell_type": "markdown",
   "metadata": {
    "pycharm": {}
   },
   "source": [
    "#### Data Sets\n",
    "Here we generate a binary file with a data set for training and provide PyTorch data sets for training and validation by reading the file. The file reading is handled by a generator function in the `dataprovider` module which provides an iterator over 'events' in the file.\n",
    "\n",
    "When training classifiers it is quite important to have a reasonably balanced data set. That is, all classes should be represented in roughly equal proportions -- if the data set is, say, completelely dominated by background the NN will just learn that there is no signal.\n",
    "\n",
    "In order not to make the example too complicated, we do not take any special measures to ensure this balance as the example data set is roughly balanced by its definition and generation.\n",
    "\n",
    "We split the labeled data sample in a training an validation sample. This can be done in various ways. Here we simply read distinct events from the generated binary file. However you do this, it is important that the training and validation data sets are distinct."
   ]
  },
  {
   "cell_type": "code",
   "execution_count": 2,
   "metadata": {
    "pycharm": {
     "is_executing": false
    }
   },
   "outputs": [
    {
     "name": "stdout",
     "output_type": "stream",
     "text": [
      "The file './training_data.bin' already exists, no data generated. Use force=True to regenerate.\n"
     ]
    }
   ],
   "source": [
    "data_file_path = './training_data.bin'\n",
    "dp.generate_data(data_file_path, force=False)\n",
    "num_events = 20000\n",
    "validation_fraction = 0.2\n",
    "num_training_events = int(num_events * (1 - validation_fraction))\n",
    "num_validation_events = num_events - num_training_events\n",
    "training_events = dp.events(data_file_path, evt_max=num_training_events)\n",
    "training_dataset = cl.LabeledDataset(training_events,\n",
    "                                     var_generator=dp.event_to_values,\n",
    "                                     label_generator=dp.truth_labels_unit_circle) \n",
    "validation_events = dp.events(data_file_path, evt_max=num_validation_events, evt_skip=num_training_events)\n",
    "validation_dataset = cl.LabeledDataset(validation_events,\n",
    "                                       var_generator=dp.event_to_values,\n",
    "                                       label_generator=dp.truth_labels_unit_circle) "
   ]
  },
  {
   "cell_type": "markdown",
   "metadata": {
    "pycharm": {}
   },
   "source": [
    "#### A Peep at the Data\n",
    "\n",
    "Let's have a quick look at the data provided by the validation data set (the format is the same for the training data set). We see that the `LabeledDataset` class provides a tuple of of `torch.tensor` representations. The first entry contains the values corresponding to the event and the second contains the associated truth labels."
   ]
  },
  {
   "cell_type": "code",
   "execution_count": 3,
   "metadata": {
    "pycharm": {
     "is_executing": false
    }
   },
   "outputs": [
    {
     "name": "stdout",
     "output_type": "stream",
     "text": [
      "Number of events in validation data set: 4000\n",
      "(tensor([[ 0.8070, -0.7770],\n",
      "        [ 0.8085,  0.3553],\n",
      "        [-0.8160, -0.5372],\n",
      "        ...,\n",
      "        [ 0.3713,  0.9979],\n",
      "        [-0.5003,  0.4854],\n",
      "        [-0.1280,  0.4343]]), tensor([[1., 0., 0.],\n",
      "        [0., 0., 1.],\n",
      "        [0., 1., 0.],\n",
      "        ...,\n",
      "        [1., 0., 0.],\n",
      "        [0., 0., 1.],\n",
      "        [0., 0., 1.]]))\n"
     ]
    }
   ],
   "source": [
    "print('Number of events in validation data set: {}'.format(len(validation_dataset)))\n",
    "print(validation_dataset[:1000])"
   ]
  },
  {
   "cell_type": "markdown",
   "metadata": {
    "pycharm": {}
   },
   "source": [
    "#### A Graphical Look at the Data\n",
    "Now let's make a plot: we'll make a scatter plot color-coded by the truth labels in the validation data set."
   ]
  },
  {
   "cell_type": "code",
   "execution_count": 4,
   "metadata": {
    "pycharm": {
     "is_executing": false
    }
   },
   "outputs": [
    {
     "data": {
      "image/png": "[encoded data removed]",
      "text/plain": [
       "<Figure size 432x288 with 1 Axes>"
      ]
     },
     "metadata": {
      "needs_background": "dark"
     },
     "output_type": "display_data"
    }
   ],
   "source": [
    "xs = validation_dataset.xs\n",
    "ys = validation_dataset.ys\n",
    "bg_idxs = ys[:,0].nonzero()\n",
    "s1_idxs = ys[:,1].nonzero()\n",
    "s2_idxs = ys[:,2].nonzero()\n",
    "\n",
    "plt.axes().set_aspect('equal')\n",
    "plt.scatter(xs[:,0][bg_idxs], xs[:,1][bg_idxs])\n",
    "plt.scatter(xs[:,0][s1_idxs], xs[:,1][s1_idxs])\n",
    "plt.scatter(xs[:,0][s2_idxs], xs[:,1][s2_idxs])\n",
    "plt.show()"
   ]
  },
  {
   "cell_type": "markdown",
   "metadata": {
    "pycharm": {
     "metadata": false
    }
   },
   "source": [
    "#### Training\n",
    "\n",
    "We configure the the network layout and the PyTorch \n",
    "data loader instances.  The network takes two input\n",
    "variables, three outputs corresponding to the three classes and two\n",
    "hidden layers. The network is very small because the classification problem\n",
    "is very simple and we want to see womething not quite perfect in the evaluation\n",
    "plots (separate notebook).  That is, we deliberately limit the network to\n",
    "make the example more interesting.\n",
    "You should experiment with different network layouts and \n",
    "learning rates in the optimizer. Observe how stable you training is by running it several\n",
    "times in the same configuration.\n",
    "\n",
    "The training loop monitors the test loss at the end of each epoch. If there\n",
    "is nothing more to learn (the loss does not significantly decrease over several epochs)\n",
    "the training finishes."
   ]
  },
  {
   "cell_type": "code",
   "execution_count": 5,
   "metadata": {
    "pycharm": {
     "is_executing": false,
     "metadata": false,
     "name": "#%%\n"
    },
    "scrolled": true
   },
   "outputs": [
    {
     "name": "stdout",
     "output_type": "stream",
     "text": [
      "ClassifierNN(\n",
      "  (layers): ModuleList(\n",
      "    (0): Linear(in_features=2, out_features=5, bias=True)\n",
      "    (1): Linear(in_features=5, out_features=7, bias=True)\n",
      "    (2): Linear(in_features=7, out_features=3, bias=True)\n",
      "  )\n",
      ")\n",
      "Epoch 0, mean train/test loss: 0.5762/0.4498\n",
      "Epoch 1, mean train/test loss: 0.3948/0.3487\n",
      "Epoch 2, mean train/test loss: 0.3016/0.2627\n",
      "Epoch 3, mean train/test loss: 0.2371/0.2135\n",
      "Epoch 4, mean train/test loss: 0.1973/0.1831\n",
      "Epoch 5, mean train/test loss: 0.1714/0.1613\n",
      "Epoch 6, mean train/test loss: 0.1523/0.1438\n",
      "Epoch 7, mean train/test loss: 0.1368/0.1342\n",
      "Epoch 8, mean train/test loss: 0.1252/0.1238\n",
      "Epoch 9, mean train/test loss: 0.1158/0.1151\n",
      "Epoch 10, mean train/test loss: 0.1088/0.1092\n",
      "Epoch 11, mean train/test loss: 0.1033/0.1048\n",
      "Epoch 12, mean train/test loss: 0.0985/0.0984\n",
      "Epoch 13, mean train/test loss: 0.0945/0.0955\n",
      "Epoch 14, mean train/test loss: 0.0911/0.0940\n",
      "Epoch 15, mean train/test loss: 0.0883/0.0900\n",
      "Epoch 16, mean train/test loss: 0.0857/0.0875\n",
      "Epoch 17, mean train/test loss: 0.0835/0.0862\n",
      "Epoch 18, mean train/test loss: 0.0810/0.0834\n",
      "Epoch 19, mean train/test loss: 0.0795/0.0825\n",
      "Entering grace period (limit 4)\n",
      "Epoch 20, mean train/test loss: 0.0775/0.0804\n",
      "Survived grace period.\n",
      "Epoch 21, mean train/test loss: 0.0761/0.0785\n",
      "Epoch 22, mean train/test loss: 0.0746/0.0781\n",
      "Entering grace period (limit 4)\n",
      "Epoch 23, mean train/test loss: 0.0735/0.0756\n",
      "Survived grace period.\n",
      "Epoch 24, mean train/test loss: 0.0718/0.0763\n",
      "Entering grace period (limit 4)\n",
      "Epoch 25, mean train/test loss: 0.0704/0.0728\n",
      "Survived grace period.\n",
      "Epoch 26, mean train/test loss: 0.0696/0.0728\n",
      "Entering grace period (limit 4)\n",
      "Epoch 27, mean train/test loss: 0.0683/0.0728\n",
      "Epoch 28, mean train/test loss: 0.0673/0.0703\n",
      "Survived grace period.\n",
      "Epoch 29, mean train/test loss: 0.0669/0.0732\n",
      "Entering grace period (limit 4)\n",
      "Epoch 30, mean train/test loss: 0.0658/0.0693\n",
      "Survived grace period.\n",
      "Epoch 31, mean train/test loss: 0.0649/0.0676\n",
      "Epoch 32, mean train/test loss: 0.0643/0.0673\n",
      "Entering grace period (limit 4)\n",
      "Epoch 33, mean train/test loss: 0.0634/0.0667\n",
      "Survived grace period.\n",
      "Epoch 34, mean train/test loss: 0.0630/0.0661\n",
      "Entering grace period (limit 4)\n",
      "Epoch 35, mean train/test loss: 0.0620/0.0656\n",
      "Survived grace period.\n",
      "Epoch 36, mean train/test loss: 0.0613/0.0651\n",
      "Entering grace period (limit 4)\n",
      "Epoch 37, mean train/test loss: 0.0605/0.0647\n",
      "Survived grace period.\n",
      "Epoch 38, mean train/test loss: 0.0600/0.0645\n",
      "Entering grace period (limit 4)\n",
      "Epoch 39, mean train/test loss: 0.0596/0.0647\n",
      "Epoch 40, mean train/test loss: 0.0586/0.0627\n",
      "Survived grace period.\n",
      "Epoch 41, mean train/test loss: 0.0580/0.0613\n",
      "Epoch 42, mean train/test loss: 0.0574/0.0606\n",
      "Epoch 43, mean train/test loss: 0.0573/0.0604\n",
      "Entering grace period (limit 4)\n",
      "Epoch 44, mean train/test loss: 0.0564/0.0605\n",
      "Epoch 45, mean train/test loss: 0.0559/0.0599\n",
      "Survived grace period.\n",
      "Epoch 46, mean train/test loss: 0.0556/0.0577\n",
      "Epoch 47, mean train/test loss: 0.0539/0.0583\n",
      "Entering grace period (limit 4)\n",
      "Epoch 48, mean train/test loss: 0.0541/0.0573\n",
      "Epoch 49, mean train/test loss: 0.0533/0.0575\n",
      "Epoch 50, mean train/test loss: 0.0524/0.0554\n",
      "Survived grace period.\n",
      "Epoch 51, mean train/test loss: 0.0516/0.0542\n",
      "Epoch 52, mean train/test loss: 0.0511/0.0596\n",
      "Entering grace period (limit 4)\n",
      "Epoch 53, mean train/test loss: 0.0506/0.0545\n",
      "Epoch 54, mean train/test loss: 0.0506/0.0547\n",
      "Epoch 55, mean train/test loss: 0.0499/0.0533\n",
      "Survived grace period.\n",
      "Epoch 56, mean train/test loss: 0.0497/0.0541\n",
      "Entering grace period (limit 4)\n",
      "Epoch 57, mean train/test loss: 0.0492/0.0545\n",
      "Epoch 58, mean train/test loss: 0.0486/0.0549\n",
      "Epoch 59, mean train/test loss: 0.0480/0.0538\n",
      "Epoch 60, mean train/test loss: 0.0482/0.0527\n",
      "Survived grace period.\n",
      "Epoch 61, mean train/test loss: 0.0473/0.0509\n",
      "Epoch 62, mean train/test loss: 0.0466/0.0519\n",
      "Entering grace period (limit 4)\n",
      "Epoch 63, mean train/test loss: 0.0470/0.0518\n",
      "Epoch 64, mean train/test loss: 0.0464/0.0505\n",
      "Epoch 65, mean train/test loss: 0.0465/0.0509\n",
      "Epoch 66, mean train/test loss: 0.0457/0.0507\n",
      "Nothing more to learn. Training finished.\n",
      "Saved network parameters to 'classifier_weights_example1_2x5x7x3.pt'.\n"
     ]
    }
   ],
   "source": [
    "classifier_nn = cl.ClassifierNN(layout=(2, 5, 7, 3))\n",
    "classifier_nn.train()\n",
    "print(classifier_nn)\n",
    "\n",
    "batch_size = 64\n",
    "train_loader = utils_data.DataLoader(training_dataset,\n",
    "                                     batch_size=batch_size,\n",
    "                                     shuffle=True)\n",
    "test_loader = utils_data.DataLoader(validation_dataset,\n",
    "                                     batch_size=batch_size,\n",
    "                                     shuffle=True)\n",
    "\n",
    "max_epochs = 200\n",
    "min_gain = 0.01\n",
    "grace_limit = 4\n",
    "grace = 0\n",
    "learning_rate = 0.002\n",
    "train_history = []\n",
    "test_history = []\n",
    "loss_function = nn.BCEWithLogitsLoss()\n",
    "optimizer = torch.optim.Adam(classifier_nn.parameters(),\n",
    "                             lr=learning_rate, \n",
    "                             weight_decay=1e-5)\n",
    "\n",
    "best_loss = 1.0\n",
    "for epoch in range(max_epochs):\n",
    "    mean_train_loss = 0.0\n",
    "    for i, (xs, ys) in enumerate(train_loader):\n",
    "        optimizer.zero_grad() # reset gradients\n",
    "        outputs = classifier_nn(xs) \n",
    "        train_loss = loss_function(outputs, ys)\n",
    "        train_loss.backward() # gradient back propagation\n",
    "        optimizer.step()\n",
    "        mean_train_loss = (mean_train_loss * i + train_loss.item()) / (i + 1)\n",
    "    train_history.append(mean_train_loss)\n",
    "    \n",
    "    mean_test_loss = 0.0\n",
    "    for i, (xs, ys) in enumerate(test_loader):\n",
    "        outputs = classifier_nn(xs)\n",
    "        eval_loss = loss_function(outputs, ys)\n",
    "        mean_test_loss = (mean_test_loss * i + eval_loss) / (i + 1)\n",
    "    test_history.append(mean_test_loss)\n",
    "    \n",
    "    print('Epoch {}, mean train/test loss: {:.4f}/{:.4f}'.format(epoch, mean_train_loss, mean_test_loss))\n",
    "    if (best_loss - mean_test_loss) / best_loss < min_gain:\n",
    "        if grace == 0:\n",
    "            print('Entering grace period (limit {})'.format(grace_limit))\n",
    "            grace += 1\n",
    "        elif grace < grace_limit:\n",
    "            grace += 1\n",
    "        else:\n",
    "            print('Nothing more to learn. Training finished.')\n",
    "            break\n",
    "    else:\n",
    "        if grace > 0:\n",
    "            grace = 0\n",
    "            print('Survived grace period.')\n",
    "        best_loss = mean_test_loss\n",
    "else:\n",
    "    print('Maximum number of epochs ({}) reached. Training terminated.'.format(max_epochs))\n",
    "\n",
    "weight_path = classifier_nn.save_weights(tag='example1', time_stamp=False)\n",
    "print(\"Saved network parameters to '{}'.\".format(weight_path))"
   ]
  },
  {
   "cell_type": "code",
   "execution_count": 6,
   "metadata": {
    "pycharm": {
     "is_executing": false,
     "metadata": false,
     "name": "#%%\n"
    }
   },
   "outputs": [
    {
     "data": {
      "image/png": "[encoded data removed]",
      "text/plain": [
       "<Figure size 432x288 with 1 Axes>"
      ]
     },
     "metadata": {
      "needs_background": "dark"
     },
     "output_type": "display_data"
    }
   ],
   "source": [
    "plt.figure()\n",
    "plt.plot(train_history, label='Training Loss')\n",
    "plt.plot(test_history, label='Test Loss')\n",
    "plt.xlabel('epoch')\n",
    "plt.ylabel('loss')\n",
    "plt.legend()\n",
    "plt.show()\n"
   ]
  },
  {
   "cell_type": "code",
   "execution_count": null,
   "metadata": {},
   "outputs": [],
   "source": []
  }
 ],
 "metadata": {
  "kernelspec": {
   "display_name": "Python 3",
   "language": "python",
   "name": "python3"
  },
  "language_info": {
   "codemirror_mode": {
    "name": "ipython",
    "version": 3
   },
   "file_extension": ".py",
   "mimetype": "text/x-python",
   "name": "python",
   "nbconvert_exporter": "python",
   "pygments_lexer": "ipython3",
   "version": "3.7.3"
  }
 },
 "nbformat": 4,
 "nbformat_minor": 2
}
