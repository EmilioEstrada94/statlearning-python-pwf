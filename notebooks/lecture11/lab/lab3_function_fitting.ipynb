{
 "cells": [
  {
   "cell_type": "markdown",
   "metadata": {
    "pycharm": {}
   },
   "source": [
    "#### Introduction to Statistical Learning, Lab 11.3\n",
    "\n",
    "# Function Fitting Example\n",
    "\n",
    "We use the PyTorch library:\n",
    " \n",
    "  - PyTorch [homepage](https://pytorch.org/)\n",
    "  - PyTorch [documentation](https://pytorch.org/docs/stable/index.html)\n",
    "\n",
    "In this example we train an FCNN to fit a function $\\mathbb{R} \\rightarrow \\mathbb{R}$. \n",
    "\n",
    "It can be shown that FCNNs can approximate *any* function $\\mathbb{R}^n \\rightarrow \\mathbb{R}^m$. Unfortunately this proof is not constructive and we have to find a good network layout.\n",
    "\n",
    "We use most straight forward approach: an FCNN with `MSE` loss and `SDG` optimiser for training. The output layer activation is simply linear (i.e. `None)."
   ]
  },
  {
   "cell_type": "markdown",
   "metadata": {
    "pycharm": {}
   },
   "source": [
    "#### Setup\n",
    "Import the required modules and make sure our (and only our!) modules are reloaded before code execution."
   ]
  },
  {
   "cell_type": "code",
   "execution_count": null,
   "metadata": {
    "pycharm": {
     "is_executing": false
    }
   },
   "outputs": [],
   "source": [
    "%reload_ext autoreload\n",
    "%aimport dataprovider, classification\n",
    "%autoreload 1\n",
    "\n",
    "# framework modules\n",
    "import numpy as np\n",
    "import matplotlib.pyplot as plt\n",
    "import seaborn as sns\n",
    "sns.set()\n",
    "import torch\n",
    "import torch.utils.data as utils_data\n",
    "import torch.nn as nn\n",
    "import torch.nn.functional as fun\n",
    "\n",
    "from islpy import neuro"
   ]
  },
  {
   "cell_type": "markdown",
   "metadata": {
    "pycharm": {}
   },
   "source": [
    "#### Data Sets\n",
    "\n",
    "We generate simple toy data sets for the true model\n",
    "\n",
    "$$\n",
    "    y_i = \\beta_0 + \\beta_1 x_i + \\beta_2 x_i^2 + \\beta_3 x_i^3 + \\epsilon_i\n",
    "$$\n",
    "\n",
    "with\n",
    "$$\n",
    "\\beta_0 = -0.5\n",
    "$$\n",
    "$$\n",
    "\\beta_1 = 1.0\n",
    "$$$$\n",
    "\\beta_2 = -3.0\n",
    "$$$$\n",
    "\\beta_3 = 0.6\n",
    "$$"
   ]
  },
  {
   "cell_type": "code",
   "execution_count": null,
   "metadata": {
    "pycharm": {
     "is_executing": false
    }
   },
   "outputs": [],
   "source": [
    "beta = np.array([-0.5, 1.0, -3.0, 0.6])\n",
    "n = 2000\n",
    "x = np.linspace(-5, 5, num=n) + np.random.normal(scale=0.5, size=n)\n",
    "y = beta[0] + beta[1] * x + beta[2] * x**2 + beta[3] * x**3 + np.random.normal(scale=10, size=n)\n",
    "x = x.reshape((n, -1))\n",
    "y = y.reshape((n, -1))\n"
   ]
  },
  {
   "cell_type": "markdown",
   "metadata": {
    "pycharm": {}
   },
   "source": [
    "#### A Graphical Look at the Data\n",
    "\n",
    "We show a `sns.regplot` with a quick fit. "
   ]
  },
  {
   "cell_type": "code",
   "execution_count": null,
   "metadata": {
    "pycharm": {
     "is_executing": false
    }
   },
   "outputs": [],
   "source": [
    "ax = sns.scatterplot(x[:,0], y[:,0])\n",
    "ax = sns.regplot(x[:,0], y[:,0], order=3, scatter=False, color='C1')\n",
    "ax = sns.regplot(x[:,0], y[:,0], order=2, scatter=False, color='C2')"
   ]
  },
  {
   "cell_type": "markdown",
   "metadata": {},
   "source": [
    "#### The FCNN Model\n",
    "\n",
    "Using the `torch` library, we specify the *network topology* and activation functions to create our model."
   ]
  },
  {
   "cell_type": "code",
   "execution_count": null,
   "metadata": {},
   "outputs": [],
   "source": [
    "class FCNN(nn.Module):\n",
    "    def __init__(self):\n",
    "        super().__init__()\n",
    "        self.activation = fun.relu\n",
    "        self.layer1 = nn.Linear(1, 32)\n",
    "        self.layer2 = nn.Linear(32, 8)\n",
    "        self.layer3 = nn.Linear(8, 1)\n",
    "\n",
    "    def forward(self, x):\n",
    "        x = self.activation(self.layer1(x))\n",
    "        x = self.activation(self.layer2(x))\n",
    "        x = self.layer3(x)\n",
    "\n",
    "        return x"
   ]
  },
  {
   "cell_type": "markdown",
   "metadata": {
    "pycharm": {
     "metadata": false
    }
   },
   "source": [
    "#### Training\n",
    "\n",
    "We use the `nn.MSELoss` function and the `SDG` optimiser in a training loop with a fixed number of iterations.\n",
    "\n",
    "We first have to wrap our data into a `torch` style interface and create a `torch` data loader for sampling the data."
   ]
  },
  {
   "cell_type": "code",
   "execution_count": null,
   "metadata": {},
   "outputs": [],
   "source": [
    "x[0:10], y[0:10]"
   ]
  },
  {
   "cell_type": "code",
   "execution_count": null,
   "metadata": {},
   "outputs": [],
   "source": [
    "list(enumerate(train_loader))[0:10]"
   ]
  },
  {
   "cell_type": "code",
   "execution_count": null,
   "metadata": {},
   "outputs": [],
   "source": [
    "x_train = torch.tensor(x[:x.size//2]).float()\n",
    "y_train = torch.tensor(y[:y.size//2]).float()\n",
    "train_loader = utils_data.DataLoader(utils_data.TensorDataset(x_train, y_train))\n",
    "\n",
    "x_test = torch.tensor(x[x.size//2:]).float()\n",
    "y_test = torch.tensor(y[y.size//2:]).float()\n",
    "test_loader = utils_data.DataLoader(utils_data.TensorDataset(x_test, y_test))"
   ]
  },
  {
   "cell_type": "code",
   "execution_count": null,
   "metadata": {
    "pycharm": {
     "is_executing": false,
     "metadata": false,
     "name": "#%%\n"
    }
   },
   "outputs": [],
   "source": [
    "nn_model = FCNN()\n",
    "print(nn_model)\n",
    "\n",
    "max_epochs = 50\n",
    "train_history = []\n",
    "test_history = []\n",
    "loss_function = nn.MSELoss()\n",
    "optimizer = torch.optim.SGD(nn_model.parameters(), lr=0.00002)\n",
    "\n",
    "for epoch in range(max_epochs):\n",
    "    mean_train_loss = 0.0\n",
    "    for i, (xs, ys) in enumerate(train_loader):\n",
    "        optimizer.zero_grad() # reset gradients\n",
    "        outputs = nn_model(xs) \n",
    "        train_loss = loss_function(outputs, ys)\n",
    "        train_loss.backward() # gradient back propagation\n",
    "        optimizer.step()\n",
    "        mean_train_loss = (mean_train_loss * i + train_loss.item()) / (i + 1)\n",
    "    if epoch:\n",
    "        train_history.append(mean_train_loss)\n",
    "    \n",
    "    mean_test_loss = 0.0\n",
    "    for i, (xs, ys) in enumerate(test_loader):\n",
    "        outputs = nn_model(xs)\n",
    "        eval_loss = loss_function(outputs, ys)\n",
    "        mean_test_loss = (mean_test_loss * i + eval_loss) / (i + 1)\n",
    "    \n",
    "    if epoch:\n",
    "        test_history.append(mean_test_loss)\n",
    "        print('Epoch {}, mean train/test loss: {:.4f}/{:.4f}'.format(epoch, mean_train_loss, mean_test_loss))\n",
    "\n",
    "print('Maximum number of epochs ({}) reached. Training terminated.'.format(max_epochs))"
   ]
  },
  {
   "cell_type": "code",
   "execution_count": null,
   "metadata": {
    "pycharm": {
     "is_executing": false,
     "metadata": false,
     "name": "#%%\n"
    }
   },
   "outputs": [],
   "source": [
    "plt.figure()\n",
    "plt.plot(train_history, label='Training Loss')\n",
    "plt.plot(test_history, label='Test Loss')\n",
    "plt.xlabel('epoch')\n",
    "plt.ylabel('loss')\n",
    "plt.xlim((10, 50))\n",
    "plt.legend()\n",
    "plt.show()\n"
   ]
  },
  {
   "cell_type": "code",
   "execution_count": null,
   "metadata": {},
   "outputs": [],
   "source": [
    "xs = torch.tensor(np.linspace(-5, 5, 100).reshape((100, -1))).float()\n",
    "\n",
    "with torch.no_grad():\n",
    "    ys = nn_model(xs)\n",
    "    yh = nn_model(x_test)"
   ]
  },
  {
   "cell_type": "code",
   "execution_count": null,
   "metadata": {},
   "outputs": [],
   "source": [
    "plt.plot(xs[:,0], ys[:,0], lw=2, color='C1')"
   ]
  },
  {
   "cell_type": "code",
   "execution_count": null,
   "metadata": {},
   "outputs": [],
   "source": [
    "ax = sns.scatterplot(y_test[:,0], yh[:,0])"
   ]
  },
  {
   "cell_type": "markdown",
   "metadata": {},
   "source": [
    "# Tensorflow version"
   ]
  },
  {
   "cell_type": "code",
   "execution_count": null,
   "metadata": {},
   "outputs": [],
   "source": [
    "import tensorflow as tf"
   ]
  },
  {
   "cell_type": "code",
   "execution_count": null,
   "metadata": {},
   "outputs": [],
   "source": [
    "tfmodel = tf.keras.models.Sequential([\n",
    "    tf.keras.layers.Dense(32, activation=\"relu\", input_shape=[1], ),\n",
    "    tf.keras.layers.Dense(8, activation=\"relu\"),\n",
    "    tf.keras.layers.Dense(1, activation=\"linear\"),\n",
    "])"
   ]
  },
  {
   "cell_type": "code",
   "execution_count": null,
   "metadata": {},
   "outputs": [],
   "source": [
    "#tfopt = tf.keras.optimizers.SGD()\n",
    "tfopt = tf.keras.optimizers.SGD(lr=0.00002)\n",
    "tfmodel.compile(optimizer=tfopt,\n",
    "              loss=\"mse\" )"
   ]
  },
  {
   "cell_type": "code",
   "execution_count": null,
   "metadata": {},
   "outputs": [],
   "source": [
    "tfmodel.summary()"
   ]
  },
  {
   "cell_type": "code",
   "execution_count": null,
   "metadata": {},
   "outputs": [],
   "source": [
    "# With batch=4, it reproduces the same pattern seen with pytorch. \n",
    "# Using batch_size=1, leaves it at  mse ~= 500, with 50 epochs\n",
    "\n",
    "tfmodel.fit(x[:x.size//2], y[:x.size//2], epochs=50, shuffle=False, batch_size=1)"
   ]
  },
  {
   "cell_type": "code",
   "execution_count": null,
   "metadata": {},
   "outputs": [],
   "source": [
    "ax = sns.scatterplot(x[:,0], y[:,0], color=\"gray\", alpha=0.5)\n",
    "tfxs = np.linspace(-6, 6, 100).reshape((100, -1))\n",
    "ax.plot(xs[:,0], ys[:,0], lw=2, color='#555555', linewidth=3)\n",
    "ax.plot(tfxs, tfmodel.predict(tfxs), linewidth=1, color=\"red\")"
   ]
  },
  {
   "cell_type": "code",
   "execution_count": null,
   "metadata": {},
   "outputs": [],
   "source": []
  },
  {
   "cell_type": "code",
   "execution_count": null,
   "metadata": {},
   "outputs": [],
   "source": []
  }
 ],
 "metadata": {
  "kernelspec": {
   "display_name": "Python 3",
   "language": "python",
   "name": "python3"
  },
  "language_info": {
   "codemirror_mode": {
    "name": "ipython",
    "version": 3
   },
   "file_extension": ".py",
   "mimetype": "text/x-python",
   "name": "python",
   "nbconvert_exporter": "python",
   "pygments_lexer": "ipython3",
   "version": "3.6.8"
  }
 },
 "nbformat": 4,
 "nbformat_minor": 4
}
