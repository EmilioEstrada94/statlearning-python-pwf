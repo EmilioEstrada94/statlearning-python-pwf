{
 "cells": [
  {
   "cell_type": "markdown",
   "metadata": {},
   "source": [
    "#### Introduction to Statistical Learning, Exercise 2.2\n",
    "\n",
    "__Please do yourself a favour and only look at the solutions after you honestly tried to solve the exercises.__\n",
    "\n",
    "# Explore the Auto Data Set"
   ]
  },
  {
   "cell_type": "markdown",
   "metadata": {
    "solution2": "shown",
    "solution2_first": true
   },
   "source": [
    "### A. Quantitative vs. Qualitative Variables\n",
    "\n",
    "First, use the `islpy.dataset` module to read the documentation of the `Auto` data set. Then read it in and assign the data frame to the variable `auto`.\n",
    "\n",
    "Which of the predictors (or variables, features...) are quantitative and which are qualitative? For some predictors this distinction is not clear cut. Write down your reasons for the different classifications."
   ]
  },
  {
   "cell_type": "code",
   "execution_count": null,
   "metadata": {
    "solution2": "shown"
   },
   "outputs": [],
   "source": [
    "import pandas as pd\n",
    "from islpy import datasets"
   ]
  },
  {
   "cell_type": "code",
   "execution_count": null,
   "metadata": {
    "solution2": "shown"
   },
   "outputs": [],
   "source": [
    "help(datasets.Auto)"
   ]
  },
  {
   "cell_type": "code",
   "execution_count": null,
   "metadata": {
    "scrolled": true,
    "solution2": "shown"
   },
   "outputs": [],
   "source": [
    "auto = datasets.Auto()\n",
    "auto.head()"
   ]
  },
  {
   "cell_type": "markdown",
   "metadata": {
    "solution2": "shown"
   },
   "source": [
    "The clearly quantitative variables are `mpg`, `displacement`m `horsepower`, `acceleration` and `weight`.\n",
    "\n",
    "The clearly qualitative variables are `origin` and `name`. Name would best serve as a row name instead of a variable.\n",
    "\n",
    "The variables `cylinders` and `year` are a bit ambiguous.  The number of different values for `cylinders` is small enough that we are inclined to classify it as qualitative.  The variable `year` should probably be also classified as qualitative, but there might be scenarios where treating it as quantitative is appropriate."
   ]
  },
  {
   "cell_type": "code",
   "execution_count": null,
   "metadata": {},
   "outputs": [],
   "source": []
  },
  {
   "cell_type": "markdown",
   "metadata": {
    "solution2": "shown",
    "solution2_first": true
   },
   "source": [
    "### B. Variable Ranges\n",
    "\n",
    "What is the *range* of each clearly qualitative predictor? You can use the `min()` and `max()` methods on a selection of columns from the data set to find out."
   ]
  },
  {
   "cell_type": "code",
   "execution_count": null,
   "metadata": {
    "solution2": "shown"
   },
   "outputs": [],
   "source": [
    "mins = auto[['mpg', 'displacement', 'weight',\n",
    "             'horsepower', 'acceleration']].min()\n",
    "maxs = auto[['mpg', 'displacement', 'weight',\n",
    "             'horsepower', 'acceleration']].max()\n",
    "ranges = maxs - mins\n",
    "print(ranges)"
   ]
  },
  {
   "cell_type": "code",
   "execution_count": null,
   "metadata": {},
   "outputs": [],
   "source": []
  },
  {
   "cell_type": "markdown",
   "metadata": {
    "solution2": "shown",
    "solution2_first": true
   },
   "source": [
    "### C. Variable Mean & Standard Deviation\n",
    "\n",
    "What are the means ans standard deviations of the clearly quantitative variables? You can use the `mean()` and `std()` methods on a column selection, or you can use the `describe()` method on the selction. The latter provides more information."
   ]
  },
  {
   "cell_type": "code",
   "execution_count": null,
   "metadata": {
    "solution2": "shown"
   },
   "outputs": [],
   "source": [
    "auto[['mpg', 'displacement', 'weight', 'horsepower', 'acceleration']].mean()"
   ]
  },
  {
   "cell_type": "code",
   "execution_count": null,
   "metadata": {
    "solution2": "shown"
   },
   "outputs": [],
   "source": [
    "auto[['mpg', 'displacement', 'weight', 'horsepower', 'acceleration']].std()"
   ]
  },
  {
   "cell_type": "code",
   "execution_count": null,
   "metadata": {
    "solution2": "shown"
   },
   "outputs": [],
   "source": [
    "auto[['mpg', 'displacement', 'weight', 'horsepower', 'acceleration']].describe()"
   ]
  },
  {
   "cell_type": "code",
   "execution_count": null,
   "metadata": {},
   "outputs": [],
   "source": []
  },
  {
   "cell_type": "markdown",
   "metadata": {
    "solution2": "shown",
    "solution2_first": true
   },
   "source": [
    "### D. Looking at a Subset of a Data Set\n",
    "\n",
    "Create a subset of the `Auto` data set by removing the 10th through 85th (inclusive) observations. You can use the `drop()` method of the data frame and specify a `range`. Do not modify the original data set.\n",
    "\n",
    "What is the range,  mean and standard deviation of the quantitative variables in the subset?"
   ]
  },
  {
   "cell_type": "code",
   "execution_count": null,
   "metadata": {
    "solution2": "shown"
   },
   "outputs": [],
   "source": [
    "# this does not modify the original data frame unless inplace=True\n",
    "sub_auto = auto.drop(range(10, 86))"
   ]
  },
  {
   "cell_type": "code",
   "execution_count": null,
   "metadata": {
    "solution2": "shown"
   },
   "outputs": [],
   "source": [
    "mins = sub_auto[['mpg', 'displacement', 'weight',\n",
    "                 'horsepower', 'acceleration']].min()\n",
    "maxs = sub_auto[['mpg', 'displacement', 'weight',\n",
    "                 'horsepower', 'acceleration']].max()\n",
    "ranges = maxs - mins\n",
    "print(ranges)"
   ]
  },
  {
   "cell_type": "code",
   "execution_count": null,
   "metadata": {
    "solution2": "shown"
   },
   "outputs": [],
   "source": [
    "sub_auto[['mpg', 'displacement', 'weight', 'horsepower', 'acceleration']].mean()"
   ]
  },
  {
   "cell_type": "code",
   "execution_count": null,
   "metadata": {
    "solution2": "shown"
   },
   "outputs": [],
   "source": [
    "sub_auto[['mpg', 'displacement', 'weight', 'horsepower', 'acceleration']].std()"
   ]
  },
  {
   "cell_type": "code",
   "execution_count": null,
   "metadata": {
    "solution2": "shown"
   },
   "outputs": [],
   "source": [
    "sub_auto[['mpg', 'displacement', 'weight',\n",
    "          'horsepower', 'acceleration']].describe()"
   ]
  },
  {
   "cell_type": "code",
   "execution_count": null,
   "metadata": {},
   "outputs": [],
   "source": []
  }
 ],
 "metadata": {
  "kernelspec": {
   "display_name": "Python 3",
   "language": "python",
   "name": "python3"
  },
  "language_info": {
   "codemirror_mode": {
    "name": "ipython",
    "version": 3
   },
   "file_extension": ".py",
   "mimetype": "text/x-python",
   "name": "python",
   "nbconvert_exporter": "python",
   "pygments_lexer": "ipython3",
   "version": "3.7.4"
  }
 },
 "nbformat": 4,
 "nbformat_minor": 2
}
