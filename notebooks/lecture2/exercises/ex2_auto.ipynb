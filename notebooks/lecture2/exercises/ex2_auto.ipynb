{
 "cells": [
  {
   "cell_type": "markdown",
   "metadata": {
    "deletable": false,
    "editable": false,
    "run_control": {
     "frozen": true
    }
   },
   "source": [
    "#### Introduction to Statistical Learning, Exercise 2.2\n",
    "\n",
    "__Please do yourself a favour and only look at the solutions after you honestly tried to solve the exercises.__\n",
    "\n",
    "# Explore the Auto Data Set"
   ]
  },
  {
   "cell_type": "markdown",
   "metadata": {
    "deletable": false,
    "editable": false,
    "run_control": {
     "frozen": true
    },
    "solution2": "hidden",
    "solution2_first": true
   },
   "source": [
    "### A. Quantitative vs. Qualitative Variables\n",
    "\n",
    "First, use the `islpy.dataset` module to read the documentation of the `Auto` data set. Then read it in and assign the data frame to the variable `auto`.\n",
    "\n",
    "Which of the predictors (or variables, features...) are quantitative and which are qualitative? For some predictors this distinction is not clear cut. Write down your reasons for the different classifications."
   ]
  },
  {
   "cell_type": "code",
   "execution_count": null,
   "metadata": {
    "deletable": false,
    "editable": false,
    "run_control": {
     "frozen": true
    },
    "solution2": "hidden"
   },
   "outputs": [],
   "source": [
    "import pandas as pd\n",
    "from islpy import datasets"
   ]
  },
  {
   "cell_type": "code",
   "execution_count": null,
   "metadata": {
    "deletable": false,
    "editable": false,
    "run_control": {
     "frozen": true
    },
    "solution2": "hidden"
   },
   "outputs": [],
   "source": [
    "help(datasets.Auto)"
   ]
  },
  {
   "cell_type": "code",
   "execution_count": null,
   "metadata": {
    "deletable": false,
    "editable": false,
    "run_control": {
     "frozen": true
    },
    "scrolled": true,
    "solution2": "hidden"
   },
   "outputs": [],
   "source": [
    "auto = datasets.Auto()\n",
    "auto.head()"
   ]
  },
  {
   "cell_type": "markdown",
   "metadata": {
    "deletable": false,
    "editable": false,
    "run_control": {
     "frozen": true
    },
    "solution2": "hidden"
   },
   "source": [
    "The clearly quantitative variables are `mpg`, `displacement`, `horsepower`, `acceleration` and `weight`.\n",
    "\n",
    "The clearly qualitative variables are `origin` and `name`. Name would best serve as a row name instead of a variable.\n",
    "\n",
    "The variables `cylinders` and `year` are a bit ambiguous.  The number of different values for `cylinders` is small enough that we are inclined to classify it as qualitative.  The variable `year` should probably be also classified as qualitative, but there might be scenarios where treating it as quantitative is appropriate."
   ]
  },
  {
   "cell_type": "code",
   "execution_count": null,
   "metadata": {},
   "outputs": [],
   "source": []
  },
  {
   "cell_type": "markdown",
   "metadata": {
    "deletable": false,
    "editable": false,
    "run_control": {
     "frozen": true
    },
    "solution2": "hidden",
    "solution2_first": true
   },
   "source": [
    "### B. Variable Ranges\n",
    "\n",
    "What is the *range* of each clearly qualitative predictor? You can use the `min()` and `max()` methods on a selection of columns from the data set to find out."
   ]
  },
  {
   "cell_type": "code",
   "execution_count": null,
   "metadata": {
    "deletable": false,
    "editable": false,
    "run_control": {
     "frozen": true
    },
    "solution2": "hidden"
   },
   "outputs": [],
   "source": [
    "mins = auto[['mpg', 'displacement', 'weight',\n",
    "             'horsepower', 'acceleration']].min()\n",
    "maxs = auto[['mpg', 'displacement', 'weight',\n",
    "             'horsepower', 'acceleration']].max()\n",
    "ranges = maxs - mins\n",
    "print(ranges)"
   ]
  },
  {
   "cell_type": "code",
   "execution_count": null,
   "metadata": {},
   "outputs": [],
   "source": []
  },
  {
   "cell_type": "markdown",
   "metadata": {
    "solution2": "hidden",
    "solution2_first": true
   },
   "source": [
    "### C. Variable Mean & Standard Deviation\n",
    "\n",
    "What are the means and standard deviations of the clearly quantitative variables? You can use the `mean()` and `std()` methods on a column selection, or you can use the `describe()` method on the selction. The latter provides more information."
   ]
  },
  {
   "cell_type": "code",
   "execution_count": null,
   "metadata": {
    "deletable": false,
    "editable": false,
    "run_control": {
     "frozen": true
    },
    "solution2": "hidden"
   },
   "outputs": [],
   "source": [
    "auto[['mpg', 'displacement', 'weight', 'horsepower', 'acceleration']].mean()"
   ]
  },
  {
   "cell_type": "code",
   "execution_count": null,
   "metadata": {
    "deletable": false,
    "editable": false,
    "run_control": {
     "frozen": true
    },
    "solution2": "hidden"
   },
   "outputs": [],
   "source": [
    "auto[['mpg', 'displacement', 'weight', 'horsepower', 'acceleration']].std()"
   ]
  },
  {
   "cell_type": "code",
   "execution_count": null,
   "metadata": {
    "deletable": false,
    "editable": false,
    "run_control": {
     "frozen": true
    },
    "solution2": "hidden"
   },
   "outputs": [],
   "source": [
    "auto[['mpg', 'displacement', 'weight', 'horsepower', 'acceleration']].describe()"
   ]
  },
  {
   "cell_type": "code",
   "execution_count": null,
   "metadata": {},
   "outputs": [],
   "source": []
  },
  {
   "cell_type": "markdown",
   "metadata": {
    "deletable": false,
    "editable": false,
    "run_control": {
     "frozen": true
    },
    "solution2": "hidden",
    "solution2_first": true
   },
   "source": [
    "### D. Looking at a Subset of a Data Set\n",
    "\n",
    "Create a subset of the `Auto` data set by removing the 10th through 85th (inclusive) observations. You can use the `drop()` method of the data frame and specify a `range`. Do not modify the original data set.\n",
    "\n",
    "What is the range,  mean and standard deviation of the quantitative variables in the subset?"
   ]
  },
  {
   "cell_type": "code",
   "execution_count": null,
   "metadata": {
    "deletable": false,
    "editable": false,
    "run_control": {
     "frozen": true
    },
    "solution2": "hidden"
   },
   "outputs": [],
   "source": [
    "# this does not modify the original data frame unless inplace=True\n",
    "sub_auto = auto.drop(range(10, 86))"
   ]
  },
  {
   "cell_type": "code",
   "execution_count": null,
   "metadata": {
    "deletable": false,
    "editable": false,
    "run_control": {
     "frozen": true
    },
    "solution2": "hidden"
   },
   "outputs": [],
   "source": [
    "mins = sub_auto[['mpg', 'displacement', 'weight',\n",
    "                 'horsepower', 'acceleration']].min()\n",
    "maxs = sub_auto[['mpg', 'displacement', 'weight',\n",
    "                 'horsepower', 'acceleration']].max()\n",
    "ranges = maxs - mins\n",
    "print(ranges)"
   ]
  },
  {
   "cell_type": "code",
   "execution_count": null,
   "metadata": {
    "deletable": false,
    "editable": false,
    "run_control": {
     "frozen": true
    },
    "solution2": "hidden"
   },
   "outputs": [],
   "source": [
    "sub_auto[['mpg', 'displacement', 'weight', 'horsepower', 'acceleration']].mean()"
   ]
  },
  {
   "cell_type": "code",
   "execution_count": null,
   "metadata": {
    "deletable": false,
    "editable": false,
    "run_control": {
     "frozen": true
    },
    "solution2": "hidden"
   },
   "outputs": [],
   "source": [
    "sub_auto[['mpg', 'displacement', 'weight', 'horsepower', 'acceleration']].std()"
   ]
  },
  {
   "cell_type": "code",
   "execution_count": null,
   "metadata": {
    "deletable": false,
    "editable": false,
    "run_control": {
     "frozen": true
    },
    "solution2": "hidden"
   },
   "outputs": [],
   "source": [
    "sub_auto[['mpg', 'displacement', 'weight',\n",
    "          'horsepower', 'acceleration']].describe()"
   ]
  },
  {
   "cell_type": "code",
   "execution_count": null,
   "metadata": {},
   "outputs": [],
   "source": []
  },
  {
   "cell_type": "markdown",
   "metadata": {
    "deletable": false,
    "editable": false,
    "run_control": {
     "frozen": true
    },
    "solution2": "hidden",
    "solution2_first": true
   },
   "source": [
    "### E. Investigate the Data Set\n",
    "\n",
    "Using the full data set, investigate the features graphically. You can use scatter plots or other graphical tools of your choice. The plots should highlight some relationships among the variables. Comment on your findings."
   ]
  },
  {
   "cell_type": "markdown",
   "metadata": {
    "deletable": false,
    "editable": false,
    "run_control": {
     "frozen": true
    },
    "solution2": "hidden"
   },
   "source": [
    "This exercise does not have a unique solution. We have to decide what to investigate.\n",
    "\n",
    "For convenience, we first make some changes to the data set: use the car model names as row names and replace the origin indicators with the corresponding string labels."
   ]
  },
  {
   "cell_type": "code",
   "execution_count": null,
   "metadata": {
    "deletable": false,
    "editable": false,
    "run_control": {
     "frozen": true
    },
    "solution2": "hidden"
   },
   "outputs": [],
   "source": [
    "auto.rename({'name': 'model'}, axis='columns', inplace=True)\n",
    "auto.set_index('model', inplace=True)\n",
    "auto['origin'].replace({1: 'America', 2: 'Europe', 3: 'Japan'}, inplace=True)\n",
    "auto.head()"
   ]
  },
  {
   "cell_type": "markdown",
   "metadata": {
    "deletable": false,
    "editable": false,
    "run_control": {
     "frozen": true
    },
    "solution2": "hidden"
   },
   "source": [
    "The number of variables in the `Auto` data set is small, so we can make a full pair plot to look for relations to investigate. This is not possible (or helpful) if the number of features is too large. We colour code the origin so we can more easily spot relations involving this variable. "
   ]
  },
  {
   "cell_type": "code",
   "execution_count": null,
   "metadata": {
    "deletable": false,
    "editable": false,
    "run_control": {
     "frozen": true
    },
    "solution2": "hidden"
   },
   "outputs": [],
   "source": [
    "import matplotlib.pyplot as plt\n",
    "import seaborn as sns\n",
    "%matplotlib inline"
   ]
  },
  {
   "cell_type": "code",
   "execution_count": null,
   "metadata": {
    "deletable": false,
    "editable": false,
    "run_control": {
     "frozen": true
    },
    "scrolled": false,
    "solution2": "hidden"
   },
   "outputs": [],
   "source": [
    "sns.pairplot(data=auto, hue='origin')\n",
    "plt.show()"
   ]
  },
  {
   "cell_type": "markdown",
   "metadata": {
    "deletable": false,
    "editable": false,
    "run_control": {
     "frozen": true
    },
    "solution2": "hidden"
   },
   "source": [
    "We can already read off some interesting relations: clearly `horsepower`, `displacement` and `weight` tend to higher in American cars.  We look at this more detail next."
   ]
  },
  {
   "cell_type": "code",
   "execution_count": null,
   "metadata": {
    "deletable": false,
    "editable": false,
    "run_control": {
     "frozen": true
    },
    "solution2": "hidden"
   },
   "outputs": [],
   "source": [
    "fig, ax = plt.subplots(1, 3, figsize=(24, 6))\n",
    "sns.boxplot(x='origin', y='horsepower', data=auto, ax=ax[0])\n",
    "sns.boxplot(x='origin', y='displacement', data=auto, ax=ax[1])\n",
    "sns.boxplot(x='origin', y='weight', data=auto, ax=ax[2])\n",
    "plt.show()"
   ]
  },
  {
   "cell_type": "markdown",
   "metadata": {
    "deletable": false,
    "editable": false,
    "run_control": {
     "frozen": true
    },
    "solution2": "hidden"
   },
   "source": [
    "The box plots clearly confirm that American cars are more powerful, heavier and have larger engines.\n",
    "\n",
    "We expect that `acceleration` is correlated with `horsepower` (better) and `weight` (worse). We investigate the relationship of these variables depending on the `origin`. "
   ]
  },
  {
   "cell_type": "code",
   "execution_count": null,
   "metadata": {
    "deletable": false,
    "editable": false,
    "run_control": {
     "frozen": true
    },
    "solution2": "hidden"
   },
   "outputs": [],
   "source": [
    "sns.relplot(x='horsepower', y='acceleration', data=auto, hue='origin', size='weight')\n",
    "plt.show()"
   ]
  },
  {
   "cell_type": "markdown",
   "metadata": {
    "deletable": false,
    "editable": false,
    "run_control": {
     "frozen": true
    },
    "solution2": "hidden"
   },
   "source": [
    "As expected, acceleration improves with power. The heavy American cars have more powerful engines and so still have good acceleration. Japanese and European cars tend to be lighter and can achieve good acceleration with less powerful engines."
   ]
  },
  {
   "cell_type": "code",
   "execution_count": null,
   "metadata": {},
   "outputs": [],
   "source": []
  },
  {
   "cell_type": "markdown",
   "metadata": {
    "deletable": false,
    "editable": false,
    "run_control": {
     "frozen": true
    },
    "solution2": "hidden",
    "solution2_first": true
   },
   "source": [
    "### F. Variables Related to Mileage\n",
    "\n",
    "Suppose we wish to predict gas mileage (`mpg`) on the basis of other variables. Do your plots suggest that any of the other variables might be useful for predicting `mpg`? Justify your answer."
   ]
  },
  {
   "cell_type": "markdown",
   "metadata": {
    "deletable": false,
    "editable": false,
    "run_control": {
     "frozen": true
    },
    "solution2": "hidden"
   },
   "source": [
    "The pair plot matrix suggests `mpg` is related to `horsepower` and `weight`. This is not surprising, as more energy is needed to move more weight. There is also a correlation with the region of `origin`.\n",
    "\n",
    "We make a relation plot to confirm this:"
   ]
  },
  {
   "cell_type": "code",
   "execution_count": null,
   "metadata": {
    "deletable": false,
    "editable": false,
    "run_control": {
     "frozen": true
    },
    "solution2": "hidden"
   },
   "outputs": [],
   "source": [
    "sns.relplot(x='mpg', y='horsepower', data=auto, hue='origin', size='weight')\n",
    "plt.show()"
   ]
  },
  {
   "cell_type": "code",
   "execution_count": null,
   "metadata": {},
   "outputs": [],
   "source": []
  }
 ],
 "metadata": {
  "kernelspec": {
   "display_name": "Python 3",
   "language": "python",
   "name": "python3"
  },
  "language_info": {
   "codemirror_mode": {
    "name": "ipython",
    "version": 3
   },
   "file_extension": ".py",
   "mimetype": "text/x-python",
   "name": "python",
   "nbconvert_exporter": "python",
   "pygments_lexer": "ipython3",
   "version": "3.7.4"
  }
 },
 "nbformat": 4,
 "nbformat_minor": 2
}
